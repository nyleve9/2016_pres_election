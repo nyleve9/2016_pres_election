{
 "cells": [
  {
   "cell_type": "markdown",
   "metadata": {},
   "source": [
    "### Springboard Data Science Intensive\n",
    "### Final capstone project proposal \n",
    "\n",
    "**Evelyn Cheng**\n",
    "\n",
    "**November 7, 2016**\n",
    "\n",
    "\n",
    "# Who won Twitter in the 2016 Presidential election?\n",
    "\n",
    "\n",
    "## Problem\n",
    "In part due to the relatively recent rise of social media, information about people’s opinions can be found embedded in growing heaps of unstructured text. Consequently, text mining has begun to surpass traditional polling methods as a faster, less expensive, and less biased method for measuring public sentiment. Twitter, a social networking site on which users may read and send messages of up to 140 characters, possesses a potential treasure trove of data from which public sentiments may be mined. However, the extent to which text data from this particular site can be matched to national polling data remains uncertain. I would like to parse and transform nationwide election-related text obtained from Twitter in 2016 into analyzable data and evaluate the resulting sentiments in order to determine how well Twitter trends reflect the public attitudes revealed in election polls. Does the winner of Twitter win in the polls as well?\n",
    "\n",
    "\n",
    "*Hypothesis: In relation to the 2016 presidential election, public support for candidates determined by mining tweets closely reflects public sentiment determined by traditional polling methods.*\n",
    "\n",
    "\n",
    "## Who cares?\n",
    "An estimated 80% of data in the modern world now appears in unstructured form, especially text. Insights available in these data have the potential to inform businesses, politicians, social scientists, and anyone else who wishes to understand the thoughts of others. Analyzing text data for a topic as pervasive and far-reaching as the person whom Americans most desire to elect as their President is a first step toward mining sentiments for more complex or cryptic topics in the future.\n",
    "\n",
    "\n",
    "## Data sources\n",
    "Twitter API (Tweepy Python library)\n",
    "\n",
    "National polls (http://projects.fivethirtyeight.com/2016-election-forecast/national-polls/)\n",
    "\n",
    "(http://www.realclearpolitics.com/epolls/2016/president/us/general_election_trump_vs_clinton-5491.html)\n",
    "\n",
    "\n",
    "## Proposed steps\n",
    "* Use Tweepy (a Python library) to access tweets through the Twitter API.\n",
    "\n",
    "* Pre-process text (remove numbers, capitalization, common words, punctuation, etc.)\n",
    "\n",
    "* Parse data into functioning units for analysis.\n",
    "\n",
    "* Use machine learning techniques to classify sentiments.\n",
    "\n",
    "* Organize terms by frequency, determine relationships between terms, and create a word cloud. \n",
    "\n",
    "* Compare results of text mining to results of several national polls at multiple time points and check whether differences are significant.\n",
    "\n",
    "* Deliver code and visualizations in a blog post.\n",
    "\n",
    "\n",
    "## Issues to consider\n",
    "* Can we assume that twitter data is unbiased? \n",
    "\n",
    "* Are supporters of either candidate disproportionately vocal?\n",
    "\n",
    "* How does tweepy search choose which data to present, since there are access limits?\n"
   ]
  }
 ],
 "metadata": {
  "anaconda-cloud": {},
  "kernelspec": {
   "display_name": "Python [Root]",
   "language": "python",
   "name": "Python [Root]"
  },
  "language_info": {
   "codemirror_mode": {
    "name": "ipython",
    "version": 3
   },
   "file_extension": ".py",
   "mimetype": "text/x-python",
   "name": "python",
   "nbconvert_exporter": "python",
   "pygments_lexer": "ipython3",
   "version": "3.5.2"
  }
 },
 "nbformat": 4,
 "nbformat_minor": 0
}
