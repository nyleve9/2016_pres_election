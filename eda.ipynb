{
 "cells": [
  {
   "cell_type": "code",
   "execution_count": 1,
   "metadata": {
    "collapsed": false
   },
   "outputs": [
    {
     "name": "stdout",
     "output_type": "stream",
     "text": [
      "Populating the interactive namespace from numpy and matplotlib\n"
     ]
    }
   ],
   "source": [
    "%pylab inline\n",
    "\n",
    "rcParams[\"figure.figsize\"] = (12, 9) #<--- large default figures\n",
    "\n",
    "# Plot text elements\n",
    "rcParams['axes.labelsize'] = 17\n",
    "rcParams['axes.titlesize'] = 17\n",
    "rcParams['xtick.labelsize'] = 15\n",
    "rcParams['ytick.labelsize'] = 15"
   ]
  },
  {
   "cell_type": "code",
   "execution_count": 2,
   "metadata": {
    "collapsed": false
   },
   "outputs": [
    {
     "name": "stdout",
     "output_type": "stream",
     "text": [
      "/Users/evelyn/Workspaces/springboard/capstone/electiontweets\n"
     ]
    }
   ],
   "source": [
    "%cd '/Users/evelyn/Workspaces/springboard/capstone/electiontweets'"
   ]
  },
  {
   "cell_type": "code",
   "execution_count": 3,
   "metadata": {
    "collapsed": false
   },
   "outputs": [
    {
     "data": {
      "text/plain": [
       "\"\\nimport json\\n\\ntweet_files = ['#donaldtrump_2016-11-10_to_2016-11-14.json',               \\n               '#election2016_2016-11-10_to_2016-11-14.json',          \\n               '#hillaryclinton_2016-11-10_to_2016-11-14.json',             \\n               '#imwithher_2016-11-10_to_2016-11-14.json',\\n               '#ivoted_2016-11-10_to_2016-11-14.json',                         \\n               '#maga_2016-11-10_to_2016-11-14.json',                          \\n               '#makeamericagreatagain_2016-11-10_to_2016-11-14.json',         \\n               '#makedonalddrumpfagain_2016-11-10_to_2016-11-14.json',\\n               '#neverhillary_2016-11-10_to_2016-11-14.json',\\n               '#nevertrump_2016-11-10_to_2016-11-14.json',      \\n               'hillary_2016-11-10_to_2016-11-14.json',\\n               'trump_2016-11-10_to_2016-11-14.json',\\n               'election_2016-11-10_to_2016-11-14.json',\\n               '#voted_2016-11-10_to_2016-11-14.json',\\n               'POTUS_2016-11-10_to_2016-11-14.json',\\n               '#donaldtrump_2016-11-09.json',               \\n               '#election2016_2016-11-09.json',          \\n               '#hillaryclinton_2016-11-09.json',             \\n               '#imwithher_2016-11-09.json',\\n               '#ivoted_2016-11-09.json',                         \\n               '#maga_2016-11-09.json',                          \\n               '#makeamericagreatagain_2016-11-09.json',       \\n               '#makedonalddrumpfagain_2016-11-09.json',\\n               '#neverhillary_2016-11-09.json',\\n               '#nevertrump_2016-11-09.json',      \\n               'hillary_2016-11-09.json',\\n               'trump_2016-11-09.json',\\n               'election_2016-11-09.json',\\n               '#voted_2016-11-09.json',\\n               'POTUS_2016-11-09.json',\\n               '#imwithher_2016-11-08.json', \\n               '#makeamericagreatagain_2016-11-08.json',\\n               'hillary_2016-11-08.json',\\n               'trump_2016-11-08.json',\\n               '#election2016_2016-11-08.json',\\n               'election_2016-11-08.json',\\n               '#ivoted_2016-11-08.json',\\n               '#voted_2016-11-08.json',\\n               'POTUS_2016-11-08_first.json',\\n               'POTUS_2016-11-08.json',\\n               '#donaldtrump_2016-11-08.json',\\n               '#hillaryclinton_2016-11-08.json',\\n               '#maga_2016-11-08.json',\\n               '#makedonalddrumpfagain_2016-11-08.json',\\n               '#neverhillary_2016-11-08.json',\\n               '#nevertrump_2016-11-08.json',\\n               '#imwithher_2016-11-07.json', \\n               '#makeamericagreatagain_2016-11-07.json',\\n               'hillary_2016-11-07.json',\\n               'trump_2016-11-07.json',\\n               '#election2016_2016-11-07.json',\\n               'election_2016-11-07.json',\\n               '#ivoted_2016-11-07.json',\\n               '#voted_2016-11-07.json',\\n               'POTUS_2016-11-07.json',\\n               '#donaldtrump_2016-11-06.json',\\n               '#election2016_2016-11-06.json',\\n               '#hillaryclinton_2016-11-06.json',\\n               '#imwithher_2016-11-06.json',\\n               '#ivoted_2016-11-06.json',\\n               '#maga_2016-11-06.json',\\n               '#makeamericagreatagain_2016-11-06.json',\\n               '#makedonalddrumpfagain_2016-11-06.json',\\n               '#neverhillary_2016-11-06.json',\\n               '#nevertrump_2016-11-06.json',\\n               '#imwithher_2016-11-05.json', \\n               '#makeamericagreatagain_2016-11-05.json',\\n               'hillary_2016-11-05.json',\\n               'trump_2016-11-05.json',\\n               '#election2016_2016-11-05.json',\\n               'election_2016-11-05.json',\\n               '#ivoted_2016-11-05.json',\\n               '#voted_2016-11-05.json',\\n               'POTUS_2016-11-05.json',\\n               '#donaldtrump_2016-11-04.json',\\n               '#election2016_2016-11-04.json',\\n               '#hillaryclinton_2016-11-04.json',\\n               '#imwithher_2016-11-04.json',\\n               '#ivoted_2016-11-04.json',\\n               '#maga_2016-11-04.json',\\n               '#makeamericagreatagain_2016-11-04.json',\\n               '#makedonalddrumpfagain_2016-11-04.json',\\n               '#neverhillary_2016-11-04.json',\\n               '#nevertrump_2016-11-04.json',\\n               '#imwithher_2016-11-01.json',\\n               '#makeamericagreatagain_2016-11-01.json',\\n               '#imwithher_2016-10-31.json',\\n               '#makeamericagreatagain_2016-10-31.json']\\n\\ntweets = []\\nfor file in tweet_files:\\n    with open(file, 'r') as f:\\n        for line in f:\\n            tweets.append(json.loads(line))\\n\""
      ]
     },
     "execution_count": 3,
     "metadata": {},
     "output_type": "execute_result"
    }
   ],
   "source": [
    "'''\n",
    "import json\n",
    "\n",
    "tweet_files = ['#donaldtrump_2016-11-10_to_2016-11-14.json',               \n",
    "               '#election2016_2016-11-10_to_2016-11-14.json',          \n",
    "               '#hillaryclinton_2016-11-10_to_2016-11-14.json',             \n",
    "               '#imwithher_2016-11-10_to_2016-11-14.json',\n",
    "               '#ivoted_2016-11-10_to_2016-11-14.json',                         \n",
    "               '#maga_2016-11-10_to_2016-11-14.json',                          \n",
    "               '#makeamericagreatagain_2016-11-10_to_2016-11-14.json',         \n",
    "               '#makedonalddrumpfagain_2016-11-10_to_2016-11-14.json',\n",
    "               '#neverhillary_2016-11-10_to_2016-11-14.json',\n",
    "               '#nevertrump_2016-11-10_to_2016-11-14.json',      \n",
    "               'hillary_2016-11-10_to_2016-11-14.json',\n",
    "               'trump_2016-11-10_to_2016-11-14.json',\n",
    "               'election_2016-11-10_to_2016-11-14.json',\n",
    "               '#voted_2016-11-10_to_2016-11-14.json',\n",
    "               'POTUS_2016-11-10_to_2016-11-14.json',\n",
    "               '#donaldtrump_2016-11-09.json',               \n",
    "               '#election2016_2016-11-09.json',          \n",
    "               '#hillaryclinton_2016-11-09.json',             \n",
    "               '#imwithher_2016-11-09.json',\n",
    "               '#ivoted_2016-11-09.json',                         \n",
    "               '#maga_2016-11-09.json',                          \n",
    "               '#makeamericagreatagain_2016-11-09.json',       \n",
    "               '#makedonalddrumpfagain_2016-11-09.json',\n",
    "               '#neverhillary_2016-11-09.json',\n",
    "               '#nevertrump_2016-11-09.json',      \n",
    "               'hillary_2016-11-09.json',\n",
    "               'trump_2016-11-09.json',\n",
    "               'election_2016-11-09.json',\n",
    "               '#voted_2016-11-09.json',\n",
    "               'POTUS_2016-11-09.json',\n",
    "               '#imwithher_2016-11-08.json', \n",
    "               '#makeamericagreatagain_2016-11-08.json',\n",
    "               'hillary_2016-11-08.json',\n",
    "               'trump_2016-11-08.json',\n",
    "               '#election2016_2016-11-08.json',\n",
    "               'election_2016-11-08.json',\n",
    "               '#ivoted_2016-11-08.json',\n",
    "               '#voted_2016-11-08.json',\n",
    "               'POTUS_2016-11-08_first.json',\n",
    "               'POTUS_2016-11-08.json',\n",
    "               '#donaldtrump_2016-11-08.json',\n",
    "               '#hillaryclinton_2016-11-08.json',\n",
    "               '#maga_2016-11-08.json',\n",
    "               '#makedonalddrumpfagain_2016-11-08.json',\n",
    "               '#neverhillary_2016-11-08.json',\n",
    "               '#nevertrump_2016-11-08.json',\n",
    "               '#imwithher_2016-11-07.json', \n",
    "               '#makeamericagreatagain_2016-11-07.json',\n",
    "               'hillary_2016-11-07.json',\n",
    "               'trump_2016-11-07.json',\n",
    "               '#election2016_2016-11-07.json',\n",
    "               'election_2016-11-07.json',\n",
    "               '#ivoted_2016-11-07.json',\n",
    "               '#voted_2016-11-07.json',\n",
    "               'POTUS_2016-11-07.json',\n",
    "               '#donaldtrump_2016-11-06.json',\n",
    "               '#election2016_2016-11-06.json',\n",
    "               '#hillaryclinton_2016-11-06.json',\n",
    "               '#imwithher_2016-11-06.json',\n",
    "               '#ivoted_2016-11-06.json',\n",
    "               '#maga_2016-11-06.json',\n",
    "               '#makeamericagreatagain_2016-11-06.json',\n",
    "               '#makedonalddrumpfagain_2016-11-06.json',\n",
    "               '#neverhillary_2016-11-06.json',\n",
    "               '#nevertrump_2016-11-06.json',\n",
    "               '#imwithher_2016-11-05.json', \n",
    "               '#makeamericagreatagain_2016-11-05.json',\n",
    "               'hillary_2016-11-05.json',\n",
    "               'trump_2016-11-05.json',\n",
    "               '#election2016_2016-11-05.json',\n",
    "               'election_2016-11-05.json',\n",
    "               '#ivoted_2016-11-05.json',\n",
    "               '#voted_2016-11-05.json',\n",
    "               'POTUS_2016-11-05.json',\n",
    "               '#donaldtrump_2016-11-04.json',\n",
    "               '#election2016_2016-11-04.json',\n",
    "               '#hillaryclinton_2016-11-04.json',\n",
    "               '#imwithher_2016-11-04.json',\n",
    "               '#ivoted_2016-11-04.json',\n",
    "               '#maga_2016-11-04.json',\n",
    "               '#makeamericagreatagain_2016-11-04.json',\n",
    "               '#makedonalddrumpfagain_2016-11-04.json',\n",
    "               '#neverhillary_2016-11-04.json',\n",
    "               '#nevertrump_2016-11-04.json',\n",
    "               '#imwithher_2016-11-01.json',\n",
    "               '#makeamericagreatagain_2016-11-01.json',\n",
    "               '#imwithher_2016-10-31.json',\n",
    "               '#makeamericagreatagain_2016-10-31.json']\n",
    "\n",
    "tweets = []\n",
    "for file in tweet_files:\n",
    "    with open(file, 'r') as f:\n",
    "        for line in f:\n",
    "            tweets.append(json.loads(line))\n",
    "'''"
   ]
  },
  {
   "cell_type": "markdown",
   "metadata": {},
   "source": [
    "# Make dataframe from json files"
   ]
  },
  {
   "cell_type": "code",
   "execution_count": 6,
   "metadata": {
    "collapsed": true
   },
   "outputs": [],
   "source": [
    "import pandas as pd\n",
    "import json\n",
    "import tweepy\n",
    "from tweepy import OAuthHandler\n",
    "import datetime as dt\n",
    "import time\n",
    "import os\n",
    "import sys"
   ]
  },
  {
   "cell_type": "code",
   "execution_count": 7,
   "metadata": {
    "collapsed": false
   },
   "outputs": [],
   "source": [
    "tweet_files = ['#makeamericagreatagain_2016-11-10_to_2016-11-14.json',\n",
    "               '#makeamericagreatagain_2016-11-09.json',\n",
    "               '#makeamericagreatagain_2016-11-08.json',\n",
    "               '#makeamericagreatagain_2016-11-07.json',\n",
    "               '#makeamericagreatagain_2016-11-06.json',\n",
    "               '#makeamericagreatagain_2016-11-05.json',\n",
    "               '#makeamericagreatagain_2016-11-04.json',\n",
    "               '#makeamericagreatagain_2016-11-01.json',\n",
    "               '#makeamericagreatagain_2016-10-31.json']\n",
    "\n",
    "tweets = []\n",
    "for file in tweet_files:\n",
    "    with open(file, 'r') as f:\n",
    "        for line in f:\n",
    "            tweets.append(json.loads(line))"
   ]
  },
  {
   "cell_type": "code",
   "execution_count": 8,
   "metadata": {
    "collapsed": false
   },
   "outputs": [
    {
     "data": {
      "text/plain": [
       "158160"
      ]
     },
     "execution_count": 8,
     "metadata": {},
     "output_type": "execute_result"
    }
   ],
   "source": [
    "len(tweets)"
   ]
  },
  {
   "cell_type": "code",
   "execution_count": 9,
   "metadata": {
    "collapsed": false
   },
   "outputs": [],
   "source": [
    "tweetdf = pd.DataFrame(tweets)"
   ]
  },
  {
   "cell_type": "code",
   "execution_count": 10,
   "metadata": {
    "collapsed": false,
    "scrolled": true
   },
   "outputs": [
    {
     "data": {
      "text/html": [
       "<div>\n",
       "<table border=\"1\" class=\"dataframe\">\n",
       "  <thead>\n",
       "    <tr style=\"text-align: right;\">\n",
       "      <th></th>\n",
       "      <th>contributors</th>\n",
       "      <th>coordinates</th>\n",
       "      <th>created_at</th>\n",
       "      <th>entities</th>\n",
       "      <th>extended_entities</th>\n",
       "      <th>favorite_count</th>\n",
       "      <th>favorited</th>\n",
       "      <th>geo</th>\n",
       "      <th>id</th>\n",
       "      <th>id_str</th>\n",
       "      <th>...</th>\n",
       "      <th>quoted_status</th>\n",
       "      <th>quoted_status_id</th>\n",
       "      <th>quoted_status_id_str</th>\n",
       "      <th>retweet_count</th>\n",
       "      <th>retweeted</th>\n",
       "      <th>retweeted_status</th>\n",
       "      <th>source</th>\n",
       "      <th>text</th>\n",
       "      <th>truncated</th>\n",
       "      <th>user</th>\n",
       "    </tr>\n",
       "  </thead>\n",
       "  <tbody>\n",
       "    <tr>\n",
       "      <th>158150</th>\n",
       "      <td>None</td>\n",
       "      <td>None</td>\n",
       "      <td>Mon Oct 31 11:01:46 +0000 2016</td>\n",
       "      <td>{'urls': [], 'hashtags': [{'indices': [96, 118...</td>\n",
       "      <td>NaN</td>\n",
       "      <td>0</td>\n",
       "      <td>False</td>\n",
       "      <td>None</td>\n",
       "      <td>793045291200937984</td>\n",
       "      <td>793045291200937984</td>\n",
       "      <td>...</td>\n",
       "      <td>NaN</td>\n",
       "      <td>NaN</td>\n",
       "      <td>NaN</td>\n",
       "      <td>4</td>\n",
       "      <td>False</td>\n",
       "      <td>{'lang': 'en', 'geo': None, 'metadata': {'iso_...</td>\n",
       "      <td>&lt;a href=\"http://twitter.com/download/android\" ...</td>\n",
       "      <td>RT @WesRichardsonNY: Trump's tax cuts are exac...</td>\n",
       "      <td>False</td>\n",
       "      <td>{'contributors_enabled': False, 'lang': 'en', ...</td>\n",
       "    </tr>\n",
       "    <tr>\n",
       "      <th>158151</th>\n",
       "      <td>None</td>\n",
       "      <td>None</td>\n",
       "      <td>Mon Oct 31 11:01:42 +0000 2016</td>\n",
       "      <td>{'urls': [], 'hashtags': [{'indices': [114, 13...</td>\n",
       "      <td>NaN</td>\n",
       "      <td>0</td>\n",
       "      <td>False</td>\n",
       "      <td>None</td>\n",
       "      <td>793045277234044929</td>\n",
       "      <td>793045277234044929</td>\n",
       "      <td>...</td>\n",
       "      <td>NaN</td>\n",
       "      <td>NaN</td>\n",
       "      <td>NaN</td>\n",
       "      <td>2881</td>\n",
       "      <td>False</td>\n",
       "      <td>{'lang': 'en', 'geo': None, 'metadata': {'iso_...</td>\n",
       "      <td>&lt;a href=\"http://twitter.com/download/android\" ...</td>\n",
       "      <td>RT @WeNeedTrump: Please RETWEET! This video co...</td>\n",
       "      <td>False</td>\n",
       "      <td>{'contributors_enabled': False, 'lang': 'en', ...</td>\n",
       "    </tr>\n",
       "    <tr>\n",
       "      <th>158152</th>\n",
       "      <td>None</td>\n",
       "      <td>None</td>\n",
       "      <td>Mon Oct 31 11:01:37 +0000 2016</td>\n",
       "      <td>{'urls': [{'expanded_url': 'https://twitter.co...</td>\n",
       "      <td>NaN</td>\n",
       "      <td>0</td>\n",
       "      <td>False</td>\n",
       "      <td>None</td>\n",
       "      <td>793045256698601472</td>\n",
       "      <td>793045256698601472</td>\n",
       "      <td>...</td>\n",
       "      <td>NaN</td>\n",
       "      <td>7.929089e+17</td>\n",
       "      <td>792908891843653633</td>\n",
       "      <td>1123</td>\n",
       "      <td>False</td>\n",
       "      <td>{'lang': 'en', 'geo': None, 'quoted_status_id_...</td>\n",
       "      <td>&lt;a href=\"http://twitter.com\" rel=\"nofollow\"&gt;Tw...</td>\n",
       "      <td>RT @EricTrump: Always love being with you @Jud...</td>\n",
       "      <td>False</td>\n",
       "      <td>{'contributors_enabled': False, 'lang': 'en', ...</td>\n",
       "    </tr>\n",
       "    <tr>\n",
       "      <th>158153</th>\n",
       "      <td>None</td>\n",
       "      <td>None</td>\n",
       "      <td>Mon Oct 31 11:01:36 +0000 2016</td>\n",
       "      <td>{'urls': [], 'hashtags': [{'indices': [98, 120...</td>\n",
       "      <td>NaN</td>\n",
       "      <td>0</td>\n",
       "      <td>False</td>\n",
       "      <td>None</td>\n",
       "      <td>793045249153200128</td>\n",
       "      <td>793045249153200128</td>\n",
       "      <td>...</td>\n",
       "      <td>NaN</td>\n",
       "      <td>NaN</td>\n",
       "      <td>NaN</td>\n",
       "      <td>24730</td>\n",
       "      <td>False</td>\n",
       "      <td>{'lang': 'en', 'geo': None, 'metadata': {'iso_...</td>\n",
       "      <td>&lt;a href=\"http://twitter.com\" rel=\"nofollow\"&gt;Tw...</td>\n",
       "      <td>RT @EricTrump: On behalf of the entire family,...</td>\n",
       "      <td>False</td>\n",
       "      <td>{'contributors_enabled': False, 'lang': 'en', ...</td>\n",
       "    </tr>\n",
       "    <tr>\n",
       "      <th>158154</th>\n",
       "      <td>None</td>\n",
       "      <td>None</td>\n",
       "      <td>Mon Oct 31 11:01:33 +0000 2016</td>\n",
       "      <td>{'urls': [], 'hashtags': [{'indices': [88, 93]...</td>\n",
       "      <td>NaN</td>\n",
       "      <td>0</td>\n",
       "      <td>False</td>\n",
       "      <td>None</td>\n",
       "      <td>793045237585285122</td>\n",
       "      <td>793045237585285122</td>\n",
       "      <td>...</td>\n",
       "      <td>NaN</td>\n",
       "      <td>NaN</td>\n",
       "      <td>NaN</td>\n",
       "      <td>491</td>\n",
       "      <td>False</td>\n",
       "      <td>{'lang': 'en', 'geo': None, 'metadata': {'iso_...</td>\n",
       "      <td>&lt;a href=\"http://twitter.com/download/android\" ...</td>\n",
       "      <td>RT @DonaldJTrumpJr: Too funny to not share. Fr...</td>\n",
       "      <td>False</td>\n",
       "      <td>{'contributors_enabled': False, 'lang': 'en', ...</td>\n",
       "    </tr>\n",
       "    <tr>\n",
       "      <th>158155</th>\n",
       "      <td>None</td>\n",
       "      <td>None</td>\n",
       "      <td>Mon Oct 31 11:01:27 +0000 2016</td>\n",
       "      <td>{'urls': [], 'hashtags': [{'indices': [100, 12...</td>\n",
       "      <td>NaN</td>\n",
       "      <td>0</td>\n",
       "      <td>False</td>\n",
       "      <td>None</td>\n",
       "      <td>793045213505789952</td>\n",
       "      <td>793045213505789952</td>\n",
       "      <td>...</td>\n",
       "      <td>NaN</td>\n",
       "      <td>NaN</td>\n",
       "      <td>NaN</td>\n",
       "      <td>357</td>\n",
       "      <td>False</td>\n",
       "      <td>{'lang': 'en', 'geo': None, 'metadata': {'iso_...</td>\n",
       "      <td>&lt;a href=\"http://twitter.com\" rel=\"nofollow\"&gt;Tw...</td>\n",
       "      <td>RT @WeNeedTrump: Post game coverage of the Cub...</td>\n",
       "      <td>False</td>\n",
       "      <td>{'contributors_enabled': False, 'lang': 'en', ...</td>\n",
       "    </tr>\n",
       "    <tr>\n",
       "      <th>158156</th>\n",
       "      <td>None</td>\n",
       "      <td>None</td>\n",
       "      <td>Mon Oct 31 11:01:26 +0000 2016</td>\n",
       "      <td>{'urls': [], 'hashtags': [{'indices': [61, 75]...</td>\n",
       "      <td>NaN</td>\n",
       "      <td>0</td>\n",
       "      <td>False</td>\n",
       "      <td>None</td>\n",
       "      <td>793045207369576448</td>\n",
       "      <td>793045207369576448</td>\n",
       "      <td>...</td>\n",
       "      <td>NaN</td>\n",
       "      <td>NaN</td>\n",
       "      <td>NaN</td>\n",
       "      <td>801</td>\n",
       "      <td>False</td>\n",
       "      <td>{'lang': 'en', 'geo': None, 'metadata': {'iso_...</td>\n",
       "      <td>&lt;a href=\"http://twitter.com/download/android\" ...</td>\n",
       "      <td>RT @EricaMelone: @donnabrazile Please golden, ...</td>\n",
       "      <td>False</td>\n",
       "      <td>{'contributors_enabled': False, 'lang': 'en', ...</td>\n",
       "    </tr>\n",
       "    <tr>\n",
       "      <th>158157</th>\n",
       "      <td>None</td>\n",
       "      <td>None</td>\n",
       "      <td>Mon Oct 31 11:01:21 +0000 2016</td>\n",
       "      <td>{'urls': [], 'hashtags': [{'indices': [105, 12...</td>\n",
       "      <td>NaN</td>\n",
       "      <td>0</td>\n",
       "      <td>False</td>\n",
       "      <td>None</td>\n",
       "      <td>793045188700676096</td>\n",
       "      <td>793045188700676096</td>\n",
       "      <td>...</td>\n",
       "      <td>NaN</td>\n",
       "      <td>NaN</td>\n",
       "      <td>NaN</td>\n",
       "      <td>461</td>\n",
       "      <td>False</td>\n",
       "      <td>{'lang': 'en', 'geo': None, 'metadata': {'iso_...</td>\n",
       "      <td>&lt;a href=\"http://twitter.com/download/android\" ...</td>\n",
       "      <td>RT @TeresaEdelglass: \"I'm going to deliver the...</td>\n",
       "      <td>False</td>\n",
       "      <td>{'contributors_enabled': False, 'lang': 'en', ...</td>\n",
       "    </tr>\n",
       "    <tr>\n",
       "      <th>158158</th>\n",
       "      <td>None</td>\n",
       "      <td>None</td>\n",
       "      <td>Mon Oct 31 11:01:14 +0000 2016</td>\n",
       "      <td>{'urls': [], 'hashtags': [{'indices': [114, 13...</td>\n",
       "      <td>NaN</td>\n",
       "      <td>0</td>\n",
       "      <td>False</td>\n",
       "      <td>None</td>\n",
       "      <td>793045160544337920</td>\n",
       "      <td>793045160544337920</td>\n",
       "      <td>...</td>\n",
       "      <td>NaN</td>\n",
       "      <td>NaN</td>\n",
       "      <td>NaN</td>\n",
       "      <td>2881</td>\n",
       "      <td>False</td>\n",
       "      <td>{'lang': 'en', 'geo': None, 'metadata': {'iso_...</td>\n",
       "      <td>&lt;a href=\"http://twitter.com/download/iphone\" r...</td>\n",
       "      <td>RT @WeNeedTrump: Please RETWEET! This video co...</td>\n",
       "      <td>False</td>\n",
       "      <td>{'contributors_enabled': False, 'lang': 'en', ...</td>\n",
       "    </tr>\n",
       "    <tr>\n",
       "      <th>158159</th>\n",
       "      <td>None</td>\n",
       "      <td>None</td>\n",
       "      <td>Mon Oct 31 11:01:03 +0000 2016</td>\n",
       "      <td>{'urls': [{'expanded_url': 'https://twitter.co...</td>\n",
       "      <td>NaN</td>\n",
       "      <td>1</td>\n",
       "      <td>False</td>\n",
       "      <td>None</td>\n",
       "      <td>793045113542840321</td>\n",
       "      <td>793045113542840321</td>\n",
       "      <td>...</td>\n",
       "      <td>NaN</td>\n",
       "      <td>7.930445e+17</td>\n",
       "      <td>793044531029606400</td>\n",
       "      <td>1</td>\n",
       "      <td>False</td>\n",
       "      <td>NaN</td>\n",
       "      <td>&lt;a href=\"http://twitter.com\" rel=\"nofollow\"&gt;Tw...</td>\n",
       "      <td>Eric Holder's Endorsement Is the KISS OF DEATH...</td>\n",
       "      <td>True</td>\n",
       "      <td>{'contributors_enabled': False, 'lang': 'en', ...</td>\n",
       "    </tr>\n",
       "  </tbody>\n",
       "</table>\n",
       "<p>10 rows × 30 columns</p>\n",
       "</div>"
      ],
      "text/plain": [
       "       contributors coordinates                      created_at  \\\n",
       "158150         None        None  Mon Oct 31 11:01:46 +0000 2016   \n",
       "158151         None        None  Mon Oct 31 11:01:42 +0000 2016   \n",
       "158152         None        None  Mon Oct 31 11:01:37 +0000 2016   \n",
       "158153         None        None  Mon Oct 31 11:01:36 +0000 2016   \n",
       "158154         None        None  Mon Oct 31 11:01:33 +0000 2016   \n",
       "158155         None        None  Mon Oct 31 11:01:27 +0000 2016   \n",
       "158156         None        None  Mon Oct 31 11:01:26 +0000 2016   \n",
       "158157         None        None  Mon Oct 31 11:01:21 +0000 2016   \n",
       "158158         None        None  Mon Oct 31 11:01:14 +0000 2016   \n",
       "158159         None        None  Mon Oct 31 11:01:03 +0000 2016   \n",
       "\n",
       "                                                 entities extended_entities  \\\n",
       "158150  {'urls': [], 'hashtags': [{'indices': [96, 118...               NaN   \n",
       "158151  {'urls': [], 'hashtags': [{'indices': [114, 13...               NaN   \n",
       "158152  {'urls': [{'expanded_url': 'https://twitter.co...               NaN   \n",
       "158153  {'urls': [], 'hashtags': [{'indices': [98, 120...               NaN   \n",
       "158154  {'urls': [], 'hashtags': [{'indices': [88, 93]...               NaN   \n",
       "158155  {'urls': [], 'hashtags': [{'indices': [100, 12...               NaN   \n",
       "158156  {'urls': [], 'hashtags': [{'indices': [61, 75]...               NaN   \n",
       "158157  {'urls': [], 'hashtags': [{'indices': [105, 12...               NaN   \n",
       "158158  {'urls': [], 'hashtags': [{'indices': [114, 13...               NaN   \n",
       "158159  {'urls': [{'expanded_url': 'https://twitter.co...               NaN   \n",
       "\n",
       "        favorite_count favorited   geo                  id  \\\n",
       "158150               0     False  None  793045291200937984   \n",
       "158151               0     False  None  793045277234044929   \n",
       "158152               0     False  None  793045256698601472   \n",
       "158153               0     False  None  793045249153200128   \n",
       "158154               0     False  None  793045237585285122   \n",
       "158155               0     False  None  793045213505789952   \n",
       "158156               0     False  None  793045207369576448   \n",
       "158157               0     False  None  793045188700676096   \n",
       "158158               0     False  None  793045160544337920   \n",
       "158159               1     False  None  793045113542840321   \n",
       "\n",
       "                    id_str                        ...                          \\\n",
       "158150  793045291200937984                        ...                           \n",
       "158151  793045277234044929                        ...                           \n",
       "158152  793045256698601472                        ...                           \n",
       "158153  793045249153200128                        ...                           \n",
       "158154  793045237585285122                        ...                           \n",
       "158155  793045213505789952                        ...                           \n",
       "158156  793045207369576448                        ...                           \n",
       "158157  793045188700676096                        ...                           \n",
       "158158  793045160544337920                        ...                           \n",
       "158159  793045113542840321                        ...                           \n",
       "\n",
       "       quoted_status  quoted_status_id quoted_status_id_str  retweet_count  \\\n",
       "158150           NaN               NaN                  NaN              4   \n",
       "158151           NaN               NaN                  NaN           2881   \n",
       "158152           NaN      7.929089e+17   792908891843653633           1123   \n",
       "158153           NaN               NaN                  NaN          24730   \n",
       "158154           NaN               NaN                  NaN            491   \n",
       "158155           NaN               NaN                  NaN            357   \n",
       "158156           NaN               NaN                  NaN            801   \n",
       "158157           NaN               NaN                  NaN            461   \n",
       "158158           NaN               NaN                  NaN           2881   \n",
       "158159           NaN      7.930445e+17   793044531029606400              1   \n",
       "\n",
       "       retweeted                                   retweeted_status  \\\n",
       "158150     False  {'lang': 'en', 'geo': None, 'metadata': {'iso_...   \n",
       "158151     False  {'lang': 'en', 'geo': None, 'metadata': {'iso_...   \n",
       "158152     False  {'lang': 'en', 'geo': None, 'quoted_status_id_...   \n",
       "158153     False  {'lang': 'en', 'geo': None, 'metadata': {'iso_...   \n",
       "158154     False  {'lang': 'en', 'geo': None, 'metadata': {'iso_...   \n",
       "158155     False  {'lang': 'en', 'geo': None, 'metadata': {'iso_...   \n",
       "158156     False  {'lang': 'en', 'geo': None, 'metadata': {'iso_...   \n",
       "158157     False  {'lang': 'en', 'geo': None, 'metadata': {'iso_...   \n",
       "158158     False  {'lang': 'en', 'geo': None, 'metadata': {'iso_...   \n",
       "158159     False                                                NaN   \n",
       "\n",
       "                                                   source  \\\n",
       "158150  <a href=\"http://twitter.com/download/android\" ...   \n",
       "158151  <a href=\"http://twitter.com/download/android\" ...   \n",
       "158152  <a href=\"http://twitter.com\" rel=\"nofollow\">Tw...   \n",
       "158153  <a href=\"http://twitter.com\" rel=\"nofollow\">Tw...   \n",
       "158154  <a href=\"http://twitter.com/download/android\" ...   \n",
       "158155  <a href=\"http://twitter.com\" rel=\"nofollow\">Tw...   \n",
       "158156  <a href=\"http://twitter.com/download/android\" ...   \n",
       "158157  <a href=\"http://twitter.com/download/android\" ...   \n",
       "158158  <a href=\"http://twitter.com/download/iphone\" r...   \n",
       "158159  <a href=\"http://twitter.com\" rel=\"nofollow\">Tw...   \n",
       "\n",
       "                                                     text truncated  \\\n",
       "158150  RT @WesRichardsonNY: Trump's tax cuts are exac...     False   \n",
       "158151  RT @WeNeedTrump: Please RETWEET! This video co...     False   \n",
       "158152  RT @EricTrump: Always love being with you @Jud...     False   \n",
       "158153  RT @EricTrump: On behalf of the entire family,...     False   \n",
       "158154  RT @DonaldJTrumpJr: Too funny to not share. Fr...     False   \n",
       "158155  RT @WeNeedTrump: Post game coverage of the Cub...     False   \n",
       "158156  RT @EricaMelone: @donnabrazile Please golden, ...     False   \n",
       "158157  RT @TeresaEdelglass: \"I'm going to deliver the...     False   \n",
       "158158  RT @WeNeedTrump: Please RETWEET! This video co...     False   \n",
       "158159  Eric Holder's Endorsement Is the KISS OF DEATH...      True   \n",
       "\n",
       "                                                     user  \n",
       "158150  {'contributors_enabled': False, 'lang': 'en', ...  \n",
       "158151  {'contributors_enabled': False, 'lang': 'en', ...  \n",
       "158152  {'contributors_enabled': False, 'lang': 'en', ...  \n",
       "158153  {'contributors_enabled': False, 'lang': 'en', ...  \n",
       "158154  {'contributors_enabled': False, 'lang': 'en', ...  \n",
       "158155  {'contributors_enabled': False, 'lang': 'en', ...  \n",
       "158156  {'contributors_enabled': False, 'lang': 'en', ...  \n",
       "158157  {'contributors_enabled': False, 'lang': 'en', ...  \n",
       "158158  {'contributors_enabled': False, 'lang': 'en', ...  \n",
       "158159  {'contributors_enabled': False, 'lang': 'en', ...  \n",
       "\n",
       "[10 rows x 30 columns]"
      ]
     },
     "execution_count": 10,
     "metadata": {},
     "output_type": "execute_result"
    }
   ],
   "source": [
    "tweetdf.tail(10)"
   ]
  },
  {
   "cell_type": "code",
   "execution_count": null,
   "metadata": {
    "collapsed": false,
    "scrolled": true
   },
   "outputs": [],
   "source": [
    "%cd '/Volumes/USB30FD/capstone/pickled_dfs'"
   ]
  },
  {
   "cell_type": "code",
   "execution_count": null,
   "metadata": {
    "collapsed": true
   },
   "outputs": [],
   "source": [
    "# Pickle the dataframe\n",
    "tweetdf.to_pickle('makeamericagreatagain.pkl')\n",
    "\n",
    "# Then you can load it back using:\n",
    "#tweetdf = pd.read_pickle('all_tweets.pkl')"
   ]
  },
  {
   "cell_type": "code",
   "execution_count": 50,
   "metadata": {
    "collapsed": false
   },
   "outputs": [
    {
     "data": {
      "text/plain": [
       "Index(['contributors', 'coordinates', 'created_at', 'entities',\n",
       "       'extended_entities', 'favorite_count', 'favorited', 'geo', 'id',\n",
       "       'id_str', 'in_reply_to_screen_name', 'in_reply_to_status_id',\n",
       "       'in_reply_to_status_id_str', 'in_reply_to_user_id',\n",
       "       'in_reply_to_user_id_str', 'is_quote_status', 'lang', 'metadata',\n",
       "       'place', 'possibly_sensitive', 'quoted_status', 'quoted_status_id',\n",
       "       'quoted_status_id_str', 'retweet_count', 'retweeted',\n",
       "       'retweeted_status', 'source', 'text', 'truncated', 'user'],\n",
       "      dtype='object')"
      ]
     },
     "execution_count": 50,
     "metadata": {},
     "output_type": "execute_result"
    }
   ],
   "source": [
    "tweetdf.columns"
   ]
  },
  {
   "cell_type": "markdown",
   "metadata": {},
   "source": [
    "# How many unique users tweeted?"
   ]
  },
  {
   "cell_type": "code",
   "execution_count": 78,
   "metadata": {
    "collapsed": false,
    "scrolled": true
   },
   "outputs": [],
   "source": [
    "tweetdf['screen_name'] = list(map(lambda tweet: tweet['user']['screen_name'], tweets))"
   ]
  },
  {
   "cell_type": "code",
   "execution_count": 70,
   "metadata": {
    "collapsed": false
   },
   "outputs": [
    {
     "name": "stdout",
     "output_type": "stream",
     "text": [
      "77690 unique users are responsible for the 158160 tweets.\n",
      "(approximately 49.12 percent)\n"
     ]
    }
   ],
   "source": [
    "uniques = len(pd.unique(tweetdf.screen_name.ravel()))\n",
    "print(uniques, \"unique users are responsible for the\", len(tweetdf), \"tweets.\")\n",
    "print('(approximately','%.2f' % (100*uniques/len(tweetdf)),'percent)')"
   ]
  },
  {
   "cell_type": "code",
   "execution_count": 75,
   "metadata": {
    "collapsed": false
   },
   "outputs": [
    {
     "data": {
      "text/plain": [
       "0         rivkin_suzanne \n",
       "1         YoYoShOw       \n",
       "2         Mdp263Pratt    \n",
       "3         ClaytorClaytor3\n",
       "4         KatieStrauss19 \n",
       "5         RETTinol       \n",
       "6         TLTSD          \n",
       "7         Gillfunk718    \n",
       "8         SiimRichie     \n",
       "9         KatieStrauss19 \n",
       "10        DeplorableBug  \n",
       "11        usangl         \n",
       "12        JulesSiscoe    \n",
       "13        claude2775     \n",
       "14        KatieStrauss19 \n",
       "15        ravi2010mary   \n",
       "16        SgtMelons      \n",
       "17        dixiefortrump  \n",
       "18        GunDecal       \n",
       "19        erintaylorlee  \n",
       "20        rivkin_suzanne \n",
       "21        JeanineGirard1 \n",
       "22        raffitaffy26   \n",
       "23        Axelrod_EJ     \n",
       "24        BobFrogman139  \n",
       "25        KatieStrauss19 \n",
       "26        WeepingSophia  \n",
       "27        willarmy13     \n",
       "28        KatieStrauss19 \n",
       "29        onthesoundshore\n",
       "               ...       \n",
       "158130    danielc2010    \n",
       "158131    Alexbobby2262C \n",
       "158132    aGirlHasNo_Name\n",
       "158133    MicheleKellyRN1\n",
       "158134    Eneaags        \n",
       "158135    JessesGirl74   \n",
       "158136    WeNeedTrump    \n",
       "158137    goldenhero63   \n",
       "158138    tynmadimom     \n",
       "158139    CorruptionMore \n",
       "158140    Jimsch3150     \n",
       "158141    KarrieFleetwood\n",
       "158142    berry4523      \n",
       "158143    DianeWealand1  \n",
       "158144    DeplorableCath \n",
       "158145    fakeprophetmo  \n",
       "158146    camdigi99      \n",
       "158147    ragwed12       \n",
       "158148    Subu44Burke    \n",
       "158149    petefrt        \n",
       "158150    JinksyLin      \n",
       "158151    rose1950schuldt\n",
       "158152    ricksorrells1  \n",
       "158153    GaryCum89441325\n",
       "158154    JC3Me2         \n",
       "158155    eskaigama      \n",
       "158156    sparkleemonster\n",
       "158157    yosemite1982   \n",
       "158158    Portage93      \n",
       "158159    rightlyaligned \n",
       "Name: screen_name, dtype: object"
      ]
     },
     "execution_count": 75,
     "metadata": {},
     "output_type": "execute_result"
    }
   ],
   "source": [
    "tweetdf.screen_name"
   ]
  },
  {
   "cell_type": "code",
   "execution_count": 79,
   "metadata": {
    "collapsed": true
   },
   "outputs": [],
   "source": [
    "tweetdf['description'] = list(map(lambda tweet: tweet['user']['description'], tweets))"
   ]
  },
  {
   "cell_type": "code",
   "execution_count": 94,
   "metadata": {
    "collapsed": false
   },
   "outputs": [
    {
     "data": {
      "text/plain": [
       "screen_name\n",
       "amrightnow         407\n",
       "Gladys99           260\n",
       "obuoabasa          243\n",
       "maconnal           215\n",
       "BabyGirl_4Trump    195\n",
       "KatieStrauss19     187\n",
       "HorseShort         169\n",
       "69donald420        156\n",
       "jimmydelp66        137\n",
       "justjoeaz1         135\n",
       "bright310          117\n",
       "ilduce2016         112\n",
       "MullisMarilyn      109\n",
       "NationalAcq        106\n",
       "adalineintexas     104\n",
       "matthewdemar       100\n",
       "FaithFlaherty3     97 \n",
       "TNRPRESS           92 \n",
       "kkima68            88 \n",
       "MarthaWolkonsky    88 \n",
       "FuknubcamprJim     87 \n",
       "FRANK_J_MILES      80 \n",
       "realS____Dollar    79 \n",
       "DonaldjTrumpFTW    76 \n",
       "johnjoh60          75 \n",
       "iquesi             74 \n",
       "reimagination1     73 \n",
       "ernieHHI           67 \n",
       "MrsCKirk12         67 \n",
       "ThinkerVFeeler     66 \n",
       "                   .. \n",
       "chancedickson      1  \n",
       "chandler1722       1  \n",
       "charleswilquin     1  \n",
       "charless55         1  \n",
       "charleshayes90     1  \n",
       "charlesfowler      1  \n",
       "charlesdgarvin1    1  \n",
       "charlescubfan      1  \n",
       "charlesb1965       1  \n",
       "charles__dunn      1  \n",
       "charlee_west       1  \n",
       "charismaschaub     1  \n",
       "charapfelbaum      1  \n",
       "charannhare        1  \n",
       "char_smiley        1  \n",
       "chantalcerda       1  \n",
       "chanstweeting      1  \n",
       "channnd7           1  \n",
       "chanibalpp         1  \n",
       "chango_mask        1  \n",
       "changethechange    1  \n",
       "chaney_meagan      1  \n",
       "chanel1777         1  \n",
       "chandrikamaya      1  \n",
       "chandri1940        1  \n",
       "chandlerriley49    1  \n",
       "chandlermelvin2    1  \n",
       "chandlercox274     1  \n",
       "chandler_tllman    1  \n",
       "Twit424            1  \n",
       "dtype: int64"
      ]
     },
     "execution_count": 94,
     "metadata": {},
     "output_type": "execute_result"
    }
   ],
   "source": [
    "unique_count = tweetdf.groupby('screen_name').size().sort_values(ascending = False)\n",
    "unique_count"
   ]
  },
  {
   "cell_type": "code",
   "execution_count": null,
   "metadata": {
    "collapsed": false
   },
   "outputs": [],
   "source": []
  },
  {
   "cell_type": "code",
   "execution_count": null,
   "metadata": {
    "collapsed": true
   },
   "outputs": [],
   "source": []
  },
  {
   "cell_type": "code",
   "execution_count": null,
   "metadata": {
    "collapsed": true
   },
   "outputs": [],
   "source": []
  },
  {
   "cell_type": "markdown",
   "metadata": {},
   "source": [
    "# When did they tweet?"
   ]
  },
  {
   "cell_type": "code",
   "execution_count": 24,
   "metadata": {
    "collapsed": false
   },
   "outputs": [
    {
     "ename": "TypeError",
     "evalue": "strptime() argument 1 must be str, not Series",
     "output_type": "error",
     "traceback": [
      "\u001b[0;31m---------------------------------------------------------------------------\u001b[0m",
      "\u001b[0;31mTypeError\u001b[0m                                 Traceback (most recent call last)",
      "\u001b[0;32m<ipython-input-24-2ad44ec0e5b5>\u001b[0m in \u001b[0;36m<module>\u001b[0;34m()\u001b[0m\n\u001b[1;32m      5\u001b[0m \u001b[0;34m\u001b[0m\u001b[0m\n\u001b[1;32m      6\u001b[0m clean_timestamp = datetime.strptime(tweetdf['created_at'],\n\u001b[0;32m----> 7\u001b[0;31m                    '%a %b %d %H:%M:%S +0000 %Y')\n\u001b[0m\u001b[1;32m      8\u001b[0m \u001b[0moffset_hours\u001b[0m \u001b[0;34m=\u001b[0m \u001b[0;34m-\u001b[0m\u001b[0;36m5\u001b[0m \u001b[0;31m#offset in hours for EST timezone\u001b[0m\u001b[0;34m\u001b[0m\u001b[0m\n\u001b[1;32m      9\u001b[0m \u001b[0;34m\u001b[0m\u001b[0m\n",
      "\u001b[0;31mTypeError\u001b[0m: strptime() argument 1 must be str, not Series"
     ]
    }
   ],
   "source": [
    "# Convert GMT to EST\n",
    "#import datetime\n",
    "from datetime import datetime\n",
    "from datetime import timedelta\n",
    "\n",
    "clean_timestamp = datetime.strptime(tweetdf['created_at'],\n",
    "                   '%a %b %d %H:%M:%S +0000 %Y')\n",
    "offset_hours = -5 #offset in hours for EST timezone\n",
    "\n",
    "#account for offset from UTC using timedelta                                \n",
    "local_timestamp = clean_timestamp + timedelta(hours=offset_hours)\n",
    "\n",
    "#convert to am/pm format for easy reading\n",
    "#final_timestamp =  datetime.strftime(local_timestamp, \n",
    "#                    '%Y-%m-%d %I:%M:%S %p')  \n"
   ]
  },
  {
   "cell_type": "code",
   "execution_count": 21,
   "metadata": {
    "collapsed": true
   },
   "outputs": [],
   "source": [
    "# The +0000 indicates GMT\n",
    "time = (t['created_at'] for t in tweets)"
   ]
  },
  {
   "cell_type": "code",
   "execution_count": 20,
   "metadata": {
    "collapsed": false
   },
   "outputs": [
    {
     "data": {
      "text/plain": [
       "'Mon Nov 14 23:59:45 +0000 2016'"
      ]
     },
     "execution_count": 20,
     "metadata": {},
     "output_type": "execute_result"
    }
   ],
   "source": [
    "next(time)"
   ]
  },
  {
   "cell_type": "code",
   "execution_count": null,
   "metadata": {
    "collapsed": true
   },
   "outputs": [],
   "source": [
    "for i, data in enumerate(time):\n",
    "    print (data)\n",
    "    if i > 100:\n",
    "        break"
   ]
  },
  {
   "cell_type": "markdown",
   "metadata": {},
   "source": [
    "# What language did they write the tweets in?"
   ]
  },
  {
   "cell_type": "code",
   "execution_count": 48,
   "metadata": {
    "collapsed": false
   },
   "outputs": [
    {
     "data": {
      "text/plain": [
       "23068"
      ]
     },
     "execution_count": 48,
     "metadata": {},
     "output_type": "execute_result"
    }
   ],
   "source": [
    "len(tweetdf[tweetdf.lang != 'en'])"
   ]
  },
  {
   "cell_type": "markdown",
   "metadata": {
    "collapsed": true
   },
   "source": [
    "# Where did the tweets come from?"
   ]
  },
  {
   "cell_type": "code",
   "execution_count": 11,
   "metadata": {
    "collapsed": false
   },
   "outputs": [],
   "source": [
    "def populate_tweet_df(tweets):\n",
    "    df = pd.DataFrame()\n",
    " \n",
    "    df['text'] = list(map(lambda tweet: tweet['text'], tweets))\n",
    " \n",
    "    df['location'] = list(map(lambda tweet: tweet['user']['location'], tweets))\n",
    " \n",
    "    df['country_code'] = list(map(lambda tweet: tweet['place']['country_code']\n",
    "                                  if tweet['place'] != None else '', tweets))\n",
    " \n",
    "    df['long'] = list(map(lambda tweet: tweet['coordinates']['coordinates'][0]\n",
    "                        if tweet['coordinates'] != None else 'NaN', tweets))\n",
    " \n",
    "    df['lat'] = list(map(lambda tweet: tweet['coordinates']['coordinates'][1]\n",
    "                        if tweet['coordinates'] != None else 'NaN', tweets))\n",
    " \n",
    "    return df\n",
    "\n",
    "loc_df = populate_tweet_df(tweets)"
   ]
  },
  {
   "cell_type": "code",
   "execution_count": 40,
   "metadata": {
    "collapsed": false
   },
   "outputs": [
    {
     "name": "stdout",
     "output_type": "stream",
     "text": [
      "0.119 % of these tweets include geocoordinates.\n"
     ]
    }
   ],
   "source": [
    "# count NaN location values\n",
    "none = len(loc_df[loc_df.lat != 'NaN'])\n",
    "print ('%.3f' % (100*none/len(loc_df)), \"% of these tweets include geocoordinates.\")"
   ]
  },
  {
   "cell_type": "code",
   "execution_count": 39,
   "metadata": {
    "collapsed": false,
    "scrolled": true
   },
   "outputs": [
    {
     "data": {
      "text/html": [
       "<div>\n",
       "<table border=\"1\" class=\"dataframe\">\n",
       "  <thead>\n",
       "    <tr style=\"text-align: right;\">\n",
       "      <th></th>\n",
       "      <th>text</th>\n",
       "      <th>location</th>\n",
       "      <th>country_code</th>\n",
       "      <th>long</th>\n",
       "      <th>lat</th>\n",
       "    </tr>\n",
       "  </thead>\n",
       "  <tbody>\n",
       "    <tr>\n",
       "      <th>8795</th>\n",
       "      <td>#trump #makeamericagreatagain #redneck #alabam...</td>\n",
       "      <td>Ankara, Turkey</td>\n",
       "      <td>TR</td>\n",
       "      <td>32.732</td>\n",
       "      <td>39.8685</td>\n",
       "    </tr>\n",
       "    <tr>\n",
       "      <th>12074</th>\n",
       "      <td>Since we got #President #Trump &amp;amp; were #mak...</td>\n",
       "      <td>Halifax, Nova Scotia</td>\n",
       "      <td>CA</td>\n",
       "      <td>-66.0607</td>\n",
       "      <td>44.3765</td>\n",
       "    </tr>\n",
       "    <tr>\n",
       "      <th>19386</th>\n",
       "      <td>#makeamericagreatagain @ Territorial Pissing h...</td>\n",
       "      <td>Montreal, Quebec</td>\n",
       "      <td>ID</td>\n",
       "      <td>106.839</td>\n",
       "      <td>-6.23635</td>\n",
       "    </tr>\n",
       "    <tr>\n",
       "      <th>19422</th>\n",
       "      <td>@realDonaldTrump #MakeAmericaGreatAgain by dep...</td>\n",
       "      <td>Mother City, Cape Town</td>\n",
       "      <td>ZA</td>\n",
       "      <td>18.6384</td>\n",
       "      <td>-33.9437</td>\n",
       "    </tr>\n",
       "    <tr>\n",
       "      <th>23262</th>\n",
       "      <td>#instalike #instagood #instadaily #facts #make...</td>\n",
       "      <td>Köln</td>\n",
       "      <td>DE</td>\n",
       "      <td>6.9667</td>\n",
       "      <td>50.95</td>\n",
       "    </tr>\n",
       "    <tr>\n",
       "      <th>28362</th>\n",
       "      <td>#Makeamericagreatagain #illustration #dollarar...</td>\n",
       "      <td>Gloucestershire</td>\n",
       "      <td>GB</td>\n",
       "      <td>-1.7322</td>\n",
       "      <td>52.058</td>\n",
       "    </tr>\n",
       "    <tr>\n",
       "      <th>30799</th>\n",
       "      <td>Political thought. #makeamericagreatagain #pol...</td>\n",
       "      <td>Canada</td>\n",
       "      <td>CA</td>\n",
       "      <td>-66.6402</td>\n",
       "      <td>45.9626</td>\n",
       "    </tr>\n",
       "    <tr>\n",
       "      <th>30844</th>\n",
       "      <td>the dark old days are back on the horizon than...</td>\n",
       "      <td></td>\n",
       "      <td>LK</td>\n",
       "      <td>80.7636</td>\n",
       "      <td>6.96987</td>\n",
       "    </tr>\n",
       "    <tr>\n",
       "      <th>31462</th>\n",
       "      <td>Getting used to optimism again from American m...</td>\n",
       "      <td>Canada</td>\n",
       "      <td>CA</td>\n",
       "      <td>-109</td>\n",
       "      <td>56</td>\n",
       "    </tr>\n",
       "    <tr>\n",
       "      <th>42460</th>\n",
       "      <td>Me vie' da piagne.\\n#election2016 #trump #usa ...</td>\n",
       "      <td>Roma</td>\n",
       "      <td>IT</td>\n",
       "      <td>12.4707</td>\n",
       "      <td>41.8907</td>\n",
       "    </tr>\n",
       "    <tr>\n",
       "      <th>44489</th>\n",
       "      <td>Well done to @realDonaldTrump in becoming us p...</td>\n",
       "      <td></td>\n",
       "      <td>ZA</td>\n",
       "      <td>28.3398</td>\n",
       "      <td>-25.7167</td>\n",
       "    </tr>\n",
       "    <tr>\n",
       "      <th>45011</th>\n",
       "      <td>Hoy en el Consultorio de la @DraColmillo: #Mak...</td>\n",
       "      <td>Monterrey, México.</td>\n",
       "      <td>MX</td>\n",
       "      <td>-100.28</td>\n",
       "      <td>25.6171</td>\n",
       "    </tr>\n",
       "    <tr>\n",
       "      <th>47263</th>\n",
       "      <td>#MakeAmericaGreatAgain (@ Marmoles Arca in Col...</td>\n",
       "      <td>Miles above you</td>\n",
       "      <td>MX</td>\n",
       "      <td>-99.2469</td>\n",
       "      <td>19.3868</td>\n",
       "    </tr>\n",
       "    <tr>\n",
       "      <th>50351</th>\n",
       "      <td>Na Trumpa! Congratulations @realDonaldTrump #M...</td>\n",
       "      <td>Praha, Česká republika</td>\n",
       "      <td>CZ</td>\n",
       "      <td>14.444</td>\n",
       "      <td>50.0612</td>\n",
       "    </tr>\n",
       "    <tr>\n",
       "      <th>51511</th>\n",
       "      <td>#makeamericagreatagain #italy #usa #election #...</td>\n",
       "      <td>Milan</td>\n",
       "      <td>IT</td>\n",
       "      <td>9.1956</td>\n",
       "      <td>45.4661</td>\n",
       "    </tr>\n",
       "    <tr>\n",
       "      <th>54080</th>\n",
       "      <td>@LaRockaleta #MakeAmericaGreatAgain https://t....</td>\n",
       "      <td>Argentina</td>\n",
       "      <td>AR</td>\n",
       "      <td>-65.4236</td>\n",
       "      <td>-24.79</td>\n",
       "    </tr>\n",
       "    <tr>\n",
       "      <th>72180</th>\n",
       "      <td>@tponews hahaha, I've even Started Celebrating...</td>\n",
       "      <td>Ashanti, Ghana</td>\n",
       "      <td>GH</td>\n",
       "      <td>-2.03115</td>\n",
       "      <td>7.08023</td>\n",
       "    </tr>\n",
       "    <tr>\n",
       "      <th>79609</th>\n",
       "      <td>\"Asshole\", work in progress.\\n#asshole #trump ...</td>\n",
       "      <td>Madrid</td>\n",
       "      <td>ES</td>\n",
       "      <td>-3.71309</td>\n",
       "      <td>40.4318</td>\n",
       "    </tr>\n",
       "    <tr>\n",
       "      <th>97102</th>\n",
       "      <td>#makeamericagreatagain @ Bareburger Toronto ht...</td>\n",
       "      <td>Canada</td>\n",
       "      <td>CA</td>\n",
       "      <td>-79.3842</td>\n",
       "      <td>43.6554</td>\n",
       "    </tr>\n",
       "    <tr>\n",
       "      <th>119246</th>\n",
       "      <td>Well someone  got bored x\"D #donald #trump #tr...</td>\n",
       "      <td>Iceland</td>\n",
       "      <td>IS</td>\n",
       "      <td>-20.3954</td>\n",
       "      <td>63.8358</td>\n",
       "    </tr>\n",
       "    <tr>\n",
       "      <th>140410</th>\n",
       "      <td>X Mark. #art #polysci #mixedmedia #makeamerica...</td>\n",
       "      <td>Canada</td>\n",
       "      <td>CA</td>\n",
       "      <td>-66.636</td>\n",
       "      <td>45.96</td>\n",
       "    </tr>\n",
       "    <tr>\n",
       "      <th>156088</th>\n",
       "      <td>@RealTalkOn3 @Trevornoah skin make him fit wel...</td>\n",
       "      <td></td>\n",
       "      <td>ZA</td>\n",
       "      <td>28.3402</td>\n",
       "      <td>-25.7166</td>\n",
       "    </tr>\n",
       "  </tbody>\n",
       "</table>\n",
       "</div>"
      ],
      "text/plain": [
       "                                                     text  \\\n",
       "8795    #trump #makeamericagreatagain #redneck #alabam...   \n",
       "12074   Since we got #President #Trump &amp; were #mak...   \n",
       "19386   #makeamericagreatagain @ Territorial Pissing h...   \n",
       "19422   @realDonaldTrump #MakeAmericaGreatAgain by dep...   \n",
       "23262   #instalike #instagood #instadaily #facts #make...   \n",
       "28362   #Makeamericagreatagain #illustration #dollarar...   \n",
       "30799   Political thought. #makeamericagreatagain #pol...   \n",
       "30844   the dark old days are back on the horizon than...   \n",
       "31462   Getting used to optimism again from American m...   \n",
       "42460   Me vie' da piagne.\\n#election2016 #trump #usa ...   \n",
       "44489   Well done to @realDonaldTrump in becoming us p...   \n",
       "45011   Hoy en el Consultorio de la @DraColmillo: #Mak...   \n",
       "47263   #MakeAmericaGreatAgain (@ Marmoles Arca in Col...   \n",
       "50351   Na Trumpa! Congratulations @realDonaldTrump #M...   \n",
       "51511   #makeamericagreatagain #italy #usa #election #...   \n",
       "54080   @LaRockaleta #MakeAmericaGreatAgain https://t....   \n",
       "72180   @tponews hahaha, I've even Started Celebrating...   \n",
       "79609   \"Asshole\", work in progress.\\n#asshole #trump ...   \n",
       "97102   #makeamericagreatagain @ Bareburger Toronto ht...   \n",
       "119246  Well someone  got bored x\"D #donald #trump #tr...   \n",
       "140410  X Mark. #art #polysci #mixedmedia #makeamerica...   \n",
       "156088  @RealTalkOn3 @Trevornoah skin make him fit wel...   \n",
       "\n",
       "                      location country_code     long      lat  \n",
       "8795            Ankara, Turkey           TR   32.732  39.8685  \n",
       "12074     Halifax, Nova Scotia           CA -66.0607  44.3765  \n",
       "19386         Montreal, Quebec           ID  106.839 -6.23635  \n",
       "19422   Mother City, Cape Town           ZA  18.6384 -33.9437  \n",
       "23262                     Köln           DE   6.9667    50.95  \n",
       "28362          Gloucestershire           GB  -1.7322   52.058  \n",
       "30799                   Canada           CA -66.6402  45.9626  \n",
       "30844                                    LK  80.7636  6.96987  \n",
       "31462                   Canada           CA     -109       56  \n",
       "42460                     Roma           IT  12.4707  41.8907  \n",
       "44489                                    ZA  28.3398 -25.7167  \n",
       "45011       Monterrey, México.           MX  -100.28  25.6171  \n",
       "47263          Miles above you           MX -99.2469  19.3868  \n",
       "50351   Praha, Česká republika           CZ   14.444  50.0612  \n",
       "51511                    Milan           IT   9.1956  45.4661  \n",
       "54080                Argentina           AR -65.4236   -24.79  \n",
       "72180           Ashanti, Ghana           GH -2.03115  7.08023  \n",
       "79609                  Madrid            ES -3.71309  40.4318  \n",
       "97102                   Canada           CA -79.3842  43.6554  \n",
       "119246                 Iceland           IS -20.3954  63.8358  \n",
       "140410                  Canada           CA  -66.636    45.96  \n",
       "156088                                   ZA  28.3402 -25.7166  "
      ]
     },
     "execution_count": 39,
     "metadata": {},
     "output_type": "execute_result"
    }
   ],
   "source": [
    "# How many of the tweets that contain geocoordinates originate from outside the US?\n",
    "loc_df[(loc_df.lat != 'NaN') & (loc_df['country_code'] != 'US' )]"
   ]
  },
  {
   "cell_type": "code",
   "execution_count": 41,
   "metadata": {
    "collapsed": false
   },
   "outputs": [
    {
     "data": {
      "text/plain": [
       "0     RT @The_Trump_Train: The best picture of 2016! #MakeAmericaGreatAgain https://t.co/QK4tkIOBHY                                                 \n",
       "1     Will @RichardGrenell have a role in the Trump presidency? Oh, I surely hope so! #classy guy #trump #MakeAmericaGreatAgain                     \n",
       "2     RT @KatrinaPierson: RT if you supported @realDonaldTrump from day one,  before it was cool. 👍#Day1Crew #TeamTrump #MakeAmericaGreatAgain 🇺🇸   \n",
       "3     RT @WillaimShat: Sorry #ObamaPresser we're not doing any of this, we're here to #MakeAmericaGreatAgain that doesn't include any of your pus…  \n",
       "4     @KMWalsh_GOP UNITED States of America!!! #strongertogether #makeamericagreatagain #strongertogethermakesamericagreatagain                     \n",
       "5     RT @EricTrump: Join my family in this incredible movement to #MakeAmericaGreatAgain!! Now it is up to you! Please #VOTE for America! https:…  \n",
       "6     RT @KatrinaPierson: RT if you supported @realDonaldTrump from day one,  before it was cool. 👍#Day1Crew #TeamTrump #MakeAmericaGreatAgain 🇺🇸   \n",
       "7     @CBSNews apparently @HillaryClinton maid had top security clearance, so why not the Trump family? #WIKILEAKS #MakeAmericaGreatAgain           \n",
       "8     RT @incrdblshort: #MakeAmericaGreatAgain https://t.co/rHgeDFMuT2                                                                              \n",
       "9     @KMWalsh_GOP put some liberals on Trump's cabinet &amp; staff #strongertogether #makeamericagreatagain #strongertogethermakesamericagreatagain\n",
       "10    RT @KatrinaPierson: RT if you supported @realDonaldTrump from day one,  before it was cool. 👍#Day1Crew #TeamTrump #MakeAmericaGreatAgain 🇺🇸   \n",
       "11    #TrumpTrain #TeamTrump #MakeAmericaGreatAgain #DoGoodWeek #TrumpTrain  Good luck Mr. Bannon. We are behind you.\\n\\n https://t.co/zcg8qw5WBS   \n",
       "12    RT @dixiefortrump: 'Trump Rally' Continues as Dow Jones Hits Record High - #TrumpTrain #TrumpProtest #TrumpRiots #MakeAmericaGreatAgain htt…  \n",
       "13    RT @KatrinaPierson: RT if you supported @realDonaldTrump from day one,  before it was cool. 👍#Day1Crew #TeamTrump #MakeAmericaGreatAgain 🇺🇸   \n",
       "14    @KMWalsh_GOP balance of Democrats&amp;Republicans best 4 US #strongertogether #makeamericagreatagain #strongertogethermakesamericagreatagain  \n",
       "15    RT @The_Trump_Train: Soon: President Obama to hold a news conference. Will he address the rioting across the country? #MakeAmericaGreatAgain  \n",
       "16    RT @KatrinaPierson: RT if you supported @realDonaldTrump from day one,  before it was cool. 👍#Day1Crew #TeamTrump #MakeAmericaGreatAgain 🇺🇸   \n",
       "17    'Trump Rally' Continues as Dow Jones Hits Record High - #TrumpTrain #TrumpProtest #TrumpRiots #MakeAmericaGreatAgain https://t.co/bwUntXjkQg  \n",
       "18    RT @WeNeedTrump: The fun is just getting started. Congratulations to Steve Bannon and Reince Priebus! #MakeAmericaGreatAgain https://t.co/s…  \n",
       "19    @_acrowell #MakeAmericaGreatAgain                                                                                                             \n",
       "20    RT @The_Trump_Train: Soon: President Obama to hold a news conference. Will he address the rioting across the country? #MakeAmericaGreatAgain  \n",
       "21    RT @The_Trump_Train: Soon: President Obama to hold a news conference. Will he address the rioting across the country? #MakeAmericaGreatAgain  \n",
       "22    RT @Trump_World: \"THE OUTSIDERS #Trump/Carson\"  LIKE A #BOSS 'Taking our country back!' #MakeAmericaGreatAgain @DarkStream #Trump2016 https…  \n",
       "23    RT @WeNeedTrump: The fun is just getting started. Congratulations to Steve Bannon and Reince Priebus! #MakeAmericaGreatAgain https://t.co/s…  \n",
       "24    RT @KatrinaPierson: RT if you supported @realDonaldTrump from day one,  before it was cool. 👍#Day1Crew #TeamTrump #MakeAmericaGreatAgain 🇺🇸   \n",
       "25    @KMWalsh_GOP 2 b gr8 you will need to heal &amp; unite us #strongertogether #makeamericagreatagain #strongertogethermakesamericagreatagain    \n",
       "26    RT @WeNeedTrump: The fun is just getting started. Congratulations to Steve Bannon and Reince Priebus! #MakeAmericaGreatAgain https://t.co/s…  \n",
       "27    RT @The_Trump_Train: The best picture of 2016! #MakeAmericaGreatAgain https://t.co/QK4tkIOBHY                                                 \n",
       "28    @KMWalsh_GOP calm us, protect our rights, stop hate. #strongertogether #makeamericagreatagain #strongertogethermakesamericagreatagain         \n",
       "29    RT @WeNeedTrump: The fun is just getting started. Congratulations to Steve Bannon and Reince Priebus! #MakeAmericaGreatAgain https://t.co/s…  \n",
       "                                                                          ...                                                                       \n",
       "70    RT @KatrinaPierson: RT if you supported @realDonaldTrump from day one,  before it was cool. 👍#Day1Crew #TeamTrump #MakeAmericaGreatAgain 🇺🇸   \n",
       "71    RT @SantaFe88674302: @realDonaldTrump #MakeAmericaGreatAgain https://t.co/TtXthRcVCr                                                          \n",
       "72    RT @KatrinaPierson: RT if you supported @realDonaldTrump from day one,  before it was cool. 👍#Day1Crew #TeamTrump #MakeAmericaGreatAgain 🇺🇸   \n",
       "73    Congratulations! I am so glad I was able to work with you in Atlanta and D.C. Hope to see you soon.… https://t.co/KcZTbrgzSG                  \n",
       "74    RT @The_Trump_Train: Soon: President Obama to hold a news conference. Will he address the rioting across the country? #MakeAmericaGreatAgain  \n",
       "75    RT @Trump_World: \"THE OUTSIDERS #Trump/Carson\"  LIKE A #BOSS 'Taking our country back!' #MakeAmericaGreatAgain @DarkStream #Trump2016 https…  \n",
       "76    RT @KatrinaPierson: RT if you supported @realDonaldTrump from day one,  before it was cool. 👍#Day1Crew #TeamTrump #MakeAmericaGreatAgain 🇺🇸   \n",
       "77    RT @KatrinaPierson: RT if you supported @realDonaldTrump from day one,  before it was cool. 👍#Day1Crew #TeamTrump #MakeAmericaGreatAgain 🇺🇸   \n",
       "78    RT @nwmalinowski: If there is one image that really says #MakeAmericaGreatAgain it's heavily armed robocops on 5th Avenue in Manhattan. #MA…  \n",
       "79    #AltRight #MakeAmericaGreatAgain #MakeAmericaWhiteAgain #BackTheBlue https://t.co/NkaiiMlnsc                                                  \n",
       "80    RT @KatrinaPierson: RT if you supported @realDonaldTrump from day one,  before it was cool. 👍#Day1Crew #TeamTrump #MakeAmericaGreatAgain 🇺🇸   \n",
       "81    RT @IbtihajMuhammad: Help #MakeAmericaGreatAgain! Trump wants Muslims to report, so let's all report straight to the polls! Hate is no matc…  \n",
       "82    RT @The_Trump_Train: The best picture of 2016! #MakeAmericaGreatAgain https://t.co/QK4tkIOBHY                                                 \n",
       "83    RT @KatrinaPierson: RT if you supported @realDonaldTrump from day one,  before it was cool. 👍#Day1Crew #TeamTrump #MakeAmericaGreatAgain 🇺🇸   \n",
       "84    RT @The_Trump_Train: The best picture of 2016! #MakeAmericaGreatAgain https://t.co/QK4tkIOBHY                                                 \n",
       "85    RT @The_Trump_Train: The best picture of 2016! #MakeAmericaGreatAgain https://t.co/QK4tkIOBHY                                                 \n",
       "86    RT @1in5awareness: .@transition2017 plz make addr. #dyslexia part of the plan in #MakeAmericaGreatAgain #TrumpPresident BC #literacy matter…  \n",
       "87    @SchiapareIIi cant believe some1 would say dis #makeamericagreatagain                                                                         \n",
       "88    RT @KatrinaPierson: RT if you supported @realDonaldTrump from day one,  before it was cool. 👍#Day1Crew #TeamTrump #MakeAmericaGreatAgain 🇺🇸   \n",
       "89    RT @KatrinaPierson: RT if you supported @realDonaldTrump from day one,  before it was cool. 👍#Day1Crew #TeamTrump #MakeAmericaGreatAgain 🇺🇸   \n",
       "90    RT @The_Trump_Train: The best picture of 2016! #MakeAmericaGreatAgain https://t.co/QK4tkIOBHY                                                 \n",
       "91    RT @KatrinaPierson: RT if you supported @realDonaldTrump from day one,  before it was cool. 👍#Day1Crew #TeamTrump #MakeAmericaGreatAgain 🇺🇸   \n",
       "92    Still celebrating a historic WIN!\\n#TrumpPence2016\\n#MakeAmericaGreatAgain\\n#DrainTheSwamp\\n#AmericaFirst\\n#USA… https://t.co/tST1bhZVje      \n",
       "93    RT @KatrinaPierson: RT if you supported @realDonaldTrump from day one,  before it was cool. 👍#Day1Crew #TeamTrump #MakeAmericaGreatAgain 🇺🇸   \n",
       "94    RT @KatrinaPierson: RT if you supported @realDonaldTrump from day one,  before it was cool. 👍#Day1Crew #TeamTrump #MakeAmericaGreatAgain 🇺🇸   \n",
       "95    RT @The_Trump_Train: The best picture of 2016! #MakeAmericaGreatAgain https://t.co/QK4tkIOBHY                                                 \n",
       "96    RT @The_Trump_Train: The best picture of 2016! #MakeAmericaGreatAgain https://t.co/QK4tkIOBHY                                                 \n",
       "97    RT @amrightnow: Vote Trump #realdonaldtrump #VoteTrump2016 #MakeAmericaGreatAgain #SarahPalin #trumptrain #A1 #A2 #tcot #trump2016 https://…  \n",
       "98    RT @KatrinaPierson: RT if you supported @realDonaldTrump from day one,  before it was cool. 👍#Day1Crew #TeamTrump #MakeAmericaGreatAgain 🇺🇸   \n",
       "99    RT @KatrinaPierson: RT if you supported @realDonaldTrump from day one,  before it was cool. 👍#Day1Crew #TeamTrump #MakeAmericaGreatAgain 🇺🇸   \n",
       "Name: text, dtype: object"
      ]
     },
     "execution_count": 41,
     "metadata": {},
     "output_type": "execute_result"
    }
   ],
   "source": [
    "pd.set_option('display.max_colwidth', -1)\n",
    "loc_df.text.head(100)"
   ]
  },
  {
   "cell_type": "code",
   "execution_count": 14,
   "metadata": {
    "collapsed": false
   },
   "outputs": [
    {
     "data": {
      "image/png": "[encoded data removed]",
      "text/plain": [
       "<matplotlib.figure.Figure at 0x2438d5c50>"
      ]
     },
     "metadata": {},
     "output_type": "display_data"
    }
   ],
   "source": [
    "import matplotlib as mpl\n",
    "import matplotlib.pyplot as plt\n",
    "from mpl_toolkits.basemap import Basemap\n",
    "%matplotlib inline  \n",
    "\n",
    "plt.figure(figsize=(15,8))\n",
    " \n",
    "# plot the blank world map\n",
    "my_map = Basemap(projection='merc', lat_0=50, lon_0=-100,\n",
    "                     resolution = 'l', area_thresh = 5000.0,\n",
    "                     llcrnrlon=-140, llcrnrlat=-55,\n",
    "                     urcrnrlon=160, urcrnrlat=70)\n",
    "# set resolution='h' for high quality\n",
    " \n",
    "# draw elements onto the world map\n",
    "my_map.drawcountries()\n",
    "#my_map.drawstates()\n",
    "my_map.drawcoastlines(antialiased=False,\n",
    "                      linewidth=0.005)\n",
    " \n",
    "# add coordinates as red dots\n",
    "longs = list(loc_df.loc[(loc_df.long != 'NaN')].long)\n",
    "lats = list(loc_df.loc[loc_df.lat != 'NaN'].lat)\n",
    "x, y = my_map(longs, lats)\n",
    "my_map.plot(x, y, 'ro', markersize=6, alpha=0.5)\n",
    " \n",
    "plt.show()"
   ]
  },
  {
   "cell_type": "code",
   "execution_count": null,
   "metadata": {
    "collapsed": false
   },
   "outputs": [],
   "source": []
  },
  {
   "cell_type": "code",
   "execution_count": null,
   "metadata": {
    "collapsed": false
   },
   "outputs": [],
   "source": []
  },
  {
   "cell_type": "code",
   "execution_count": null,
   "metadata": {
    "collapsed": true
   },
   "outputs": [],
   "source": []
  }
 ],
 "metadata": {
  "anaconda-cloud": {},
  "kernelspec": {
   "display_name": "Python [Root]",
   "language": "python",
   "name": "Python [Root]"
  },
  "language_info": {
   "codemirror_mode": {
    "name": "ipython",
    "version": 3
   },
   "file_extension": ".py",
   "mimetype": "text/x-python",
   "name": "python",
   "nbconvert_exporter": "python",
   "pygments_lexer": "ipython3",
   "version": "3.5.2"
  }
 },
 "nbformat": 4,
 "nbformat_minor": 0
}
