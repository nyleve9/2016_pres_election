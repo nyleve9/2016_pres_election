{
 "cells": [
  {
   "cell_type": "code",
   "execution_count": 1,
   "metadata": {
    "collapsed": false
   },
   "outputs": [
    {
     "name": "stdout",
     "output_type": "stream",
     "text": [
      "Populating the interactive namespace from numpy and matplotlib\n"
     ]
    }
   ],
   "source": [
    "%pylab inline\n",
    "\n",
    "rcParams[\"figure.figsize\"] = (12, 9) #<--- large default figures\n",
    "\n",
    "# Plot text elements\n",
    "rcParams['axes.labelsize'] = 17\n",
    "rcParams['axes.titlesize'] = 17\n",
    "rcParams['xtick.labelsize'] = 15\n",
    "rcParams['ytick.labelsize'] = 15"
   ]
  },
  {
   "cell_type": "code",
   "execution_count": 2,
   "metadata": {
    "collapsed": false
   },
   "outputs": [
    {
     "name": "stdout",
     "output_type": "stream",
     "text": [
      "/Users/evelyn/Workspaces/springboard/capstone/electiontweets\n"
     ]
    }
   ],
   "source": [
    "%cd '/Users/evelyn/Workspaces/springboard/capstone/electiontweets'"
   ]
  },
  {
   "cell_type": "code",
   "execution_count": 3,
   "metadata": {
    "collapsed": false
   },
   "outputs": [
    {
     "data": {
      "text/plain": [
       "\"\\nimport json\\n\\ntweet_files = ['#donaldtrump_2016-11-10_to_2016-11-14.json',               \\n               '#election2016_2016-11-10_to_2016-11-14.json',          \\n               '#hillaryclinton_2016-11-10_to_2016-11-14.json',             \\n               '#imwithher_2016-11-10_to_2016-11-14.json',\\n               '#ivoted_2016-11-10_to_2016-11-14.json',                         \\n               '#maga_2016-11-10_to_2016-11-14.json',                          \\n               '#makeamericagreatagain_2016-11-10_to_2016-11-14.json',         \\n               '#makedonalddrumpfagain_2016-11-10_to_2016-11-14.json',\\n               '#neverhillary_2016-11-10_to_2016-11-14.json',\\n               '#nevertrump_2016-11-10_to_2016-11-14.json',      \\n               'hillary_2016-11-10_to_2016-11-14.json',\\n               'trump_2016-11-10_to_2016-11-14.json',\\n               'election_2016-11-10_to_2016-11-14.json',\\n               '#voted_2016-11-10_to_2016-11-14.json',\\n               'POTUS_2016-11-10_to_2016-11-14.json',\\n               '#donaldtrump_2016-11-09.json',               \\n               '#election2016_2016-11-09.json',          \\n               '#hillaryclinton_2016-11-09.json',             \\n               '#imwithher_2016-11-09.json',\\n               '#ivoted_2016-11-09.json',                         \\n               '#maga_2016-11-09.json',                          \\n               '#makeamericagreatagain_2016-11-09.json',       \\n               '#makedonalddrumpfagain_2016-11-09.json',\\n               '#neverhillary_2016-11-09.json',\\n               '#nevertrump_2016-11-09.json',      \\n               'hillary_2016-11-09.json',\\n               'trump_2016-11-09.json',\\n               'election_2016-11-09.json',\\n               '#voted_2016-11-09.json',\\n               'POTUS_2016-11-09.json',\\n               '#imwithher_2016-11-08.json', \\n               '#makeamericagreatagain_2016-11-08.json',\\n               'hillary_2016-11-08.json',\\n               'trump_2016-11-08.json',\\n               '#election2016_2016-11-08.json',\\n               'election_2016-11-08.json',\\n               '#ivoted_2016-11-08.json',\\n               '#voted_2016-11-08.json',\\n               'POTUS_2016-11-08_first.json',\\n               'POTUS_2016-11-08.json',\\n               '#donaldtrump_2016-11-08.json',\\n               '#hillaryclinton_2016-11-08.json',\\n               '#maga_2016-11-08.json',\\n               '#makedonalddrumpfagain_2016-11-08.json',\\n               '#neverhillary_2016-11-08.json',\\n               '#nevertrump_2016-11-08.json',\\n               '#imwithher_2016-11-07.json', \\n               '#makeamericagreatagain_2016-11-07.json',\\n               'hillary_2016-11-07.json',\\n               'trump_2016-11-07.json',\\n               '#election2016_2016-11-07.json',\\n               'election_2016-11-07.json',\\n               '#ivoted_2016-11-07.json',\\n               '#voted_2016-11-07.json',\\n               'POTUS_2016-11-07.json',\\n               '#donaldtrump_2016-11-06.json',\\n               '#election2016_2016-11-06.json',\\n               '#hillaryclinton_2016-11-06.json',\\n               '#imwithher_2016-11-06.json',\\n               '#ivoted_2016-11-06.json',\\n               '#maga_2016-11-06.json',\\n               '#makeamericagreatagain_2016-11-06.json',\\n               '#makedonalddrumpfagain_2016-11-06.json',\\n               '#neverhillary_2016-11-06.json',\\n               '#nevertrump_2016-11-06.json',\\n               '#imwithher_2016-11-05.json', \\n               '#makeamericagreatagain_2016-11-05.json',\\n               'hillary_2016-11-05.json',\\n               'trump_2016-11-05.json',\\n               '#election2016_2016-11-05.json',\\n               'election_2016-11-05.json',\\n               '#ivoted_2016-11-05.json',\\n               '#voted_2016-11-05.json',\\n               'POTUS_2016-11-05.json',\\n               '#donaldtrump_2016-11-04.json',\\n               '#election2016_2016-11-04.json',\\n               '#hillaryclinton_2016-11-04.json',\\n               '#imwithher_2016-11-04.json',\\n               '#ivoted_2016-11-04.json',\\n               '#maga_2016-11-04.json',\\n               '#makeamericagreatagain_2016-11-04.json',\\n               '#makedonalddrumpfagain_2016-11-04.json',\\n               '#neverhillary_2016-11-04.json',\\n               '#nevertrump_2016-11-04.json',\\n               '#imwithher_2016-11-01.json',\\n               '#makeamericagreatagain_2016-11-01.json',\\n               '#imwithher_2016-10-31.json',\\n               '#makeamericagreatagain_2016-10-31.json']\\n\\ntweets = []\\nfor file in tweet_files:\\n    with open(file, 'r') as f:\\n        for line in f:\\n            tweets.append(json.loads(line))\\n\""
      ]
     },
     "execution_count": 3,
     "metadata": {},
     "output_type": "execute_result"
    }
   ],
   "source": [
    "'''\n",
    "import json\n",
    "\n",
    "tweet_files = ['#donaldtrump_2016-11-10_to_2016-11-14.json',               \n",
    "               '#election2016_2016-11-10_to_2016-11-14.json',          \n",
    "               '#hillaryclinton_2016-11-10_to_2016-11-14.json',             \n",
    "               '#imwithher_2016-11-10_to_2016-11-14.json',\n",
    "               '#ivoted_2016-11-10_to_2016-11-14.json',                         \n",
    "               '#maga_2016-11-10_to_2016-11-14.json',                          \n",
    "               '#makeamericagreatagain_2016-11-10_to_2016-11-14.json',         \n",
    "               '#makedonalddrumpfagain_2016-11-10_to_2016-11-14.json',\n",
    "               '#neverhillary_2016-11-10_to_2016-11-14.json',\n",
    "               '#nevertrump_2016-11-10_to_2016-11-14.json',      \n",
    "               'hillary_2016-11-10_to_2016-11-14.json',\n",
    "               'trump_2016-11-10_to_2016-11-14.json',\n",
    "               'election_2016-11-10_to_2016-11-14.json',\n",
    "               '#voted_2016-11-10_to_2016-11-14.json',\n",
    "               'POTUS_2016-11-10_to_2016-11-14.json',\n",
    "               '#donaldtrump_2016-11-09.json',               \n",
    "               '#election2016_2016-11-09.json',          \n",
    "               '#hillaryclinton_2016-11-09.json',             \n",
    "               '#imwithher_2016-11-09.json',\n",
    "               '#ivoted_2016-11-09.json',                         \n",
    "               '#maga_2016-11-09.json',                          \n",
    "               '#makeamericagreatagain_2016-11-09.json',       \n",
    "               '#makedonalddrumpfagain_2016-11-09.json',\n",
    "               '#neverhillary_2016-11-09.json',\n",
    "               '#nevertrump_2016-11-09.json',      \n",
    "               'hillary_2016-11-09.json',\n",
    "               'trump_2016-11-09.json',\n",
    "               'election_2016-11-09.json',\n",
    "               '#voted_2016-11-09.json',\n",
    "               'POTUS_2016-11-09.json',\n",
    "               '#imwithher_2016-11-08.json', \n",
    "               '#makeamericagreatagain_2016-11-08.json',\n",
    "               'hillary_2016-11-08.json',\n",
    "               'trump_2016-11-08.json',\n",
    "               '#election2016_2016-11-08.json',\n",
    "               'election_2016-11-08.json',\n",
    "               '#ivoted_2016-11-08.json',\n",
    "               '#voted_2016-11-08.json',\n",
    "               'POTUS_2016-11-08_first.json',\n",
    "               'POTUS_2016-11-08.json',\n",
    "               '#donaldtrump_2016-11-08.json',\n",
    "               '#hillaryclinton_2016-11-08.json',\n",
    "               '#maga_2016-11-08.json',\n",
    "               '#makedonalddrumpfagain_2016-11-08.json',\n",
    "               '#neverhillary_2016-11-08.json',\n",
    "               '#nevertrump_2016-11-08.json',\n",
    "               '#imwithher_2016-11-07.json', \n",
    "               '#makeamericagreatagain_2016-11-07.json',\n",
    "               'hillary_2016-11-07.json',\n",
    "               'trump_2016-11-07.json',\n",
    "               '#election2016_2016-11-07.json',\n",
    "               'election_2016-11-07.json',\n",
    "               '#ivoted_2016-11-07.json',\n",
    "               '#voted_2016-11-07.json',\n",
    "               'POTUS_2016-11-07.json',\n",
    "               '#donaldtrump_2016-11-06.json',\n",
    "               '#election2016_2016-11-06.json',\n",
    "               '#hillaryclinton_2016-11-06.json',\n",
    "               '#imwithher_2016-11-06.json',\n",
    "               '#ivoted_2016-11-06.json',\n",
    "               '#maga_2016-11-06.json',\n",
    "               '#makeamericagreatagain_2016-11-06.json',\n",
    "               '#makedonalddrumpfagain_2016-11-06.json',\n",
    "               '#neverhillary_2016-11-06.json',\n",
    "               '#nevertrump_2016-11-06.json',\n",
    "               '#imwithher_2016-11-05.json', \n",
    "               '#makeamericagreatagain_2016-11-05.json',\n",
    "               'hillary_2016-11-05.json',\n",
    "               'trump_2016-11-05.json',\n",
    "               '#election2016_2016-11-05.json',\n",
    "               'election_2016-11-05.json',\n",
    "               '#ivoted_2016-11-05.json',\n",
    "               '#voted_2016-11-05.json',\n",
    "               'POTUS_2016-11-05.json',\n",
    "               '#donaldtrump_2016-11-04.json',\n",
    "               '#election2016_2016-11-04.json',\n",
    "               '#hillaryclinton_2016-11-04.json',\n",
    "               '#imwithher_2016-11-04.json',\n",
    "               '#ivoted_2016-11-04.json',\n",
    "               '#maga_2016-11-04.json',\n",
    "               '#makeamericagreatagain_2016-11-04.json',\n",
    "               '#makedonalddrumpfagain_2016-11-04.json',\n",
    "               '#neverhillary_2016-11-04.json',\n",
    "               '#nevertrump_2016-11-04.json',\n",
    "               '#imwithher_2016-11-01.json',\n",
    "               '#makeamericagreatagain_2016-11-01.json',\n",
    "               '#imwithher_2016-10-31.json',\n",
    "               '#makeamericagreatagain_2016-10-31.json']\n",
    "\n",
    "tweets = []\n",
    "for file in tweet_files:\n",
    "    with open(file, 'r') as f:\n",
    "        for line in f:\n",
    "            tweets.append(json.loads(line))\n",
    "'''"
   ]
  },
  {
   "cell_type": "markdown",
   "metadata": {},
   "source": [
    "# Make dataframe from json files"
   ]
  },
  {
   "cell_type": "code",
   "execution_count": 6,
   "metadata": {
    "collapsed": true
   },
   "outputs": [],
   "source": [
    "import pandas as pd\n",
    "import json\n",
    "import tweepy\n",
    "from tweepy import OAuthHandler\n",
    "import datetime as dt\n",
    "import time\n",
    "import os\n",
    "import sys"
   ]
  },
  {
   "cell_type": "code",
   "execution_count": 7,
   "metadata": {
    "collapsed": false
   },
   "outputs": [],
   "source": [
    "tweet_files = ['#makeamericagreatagain_2016-11-10_to_2016-11-14.json',\n",
    "               '#makeamericagreatagain_2016-11-09.json',\n",
    "               '#makeamericagreatagain_2016-11-08.json',\n",
    "               '#makeamericagreatagain_2016-11-07.json',\n",
    "               '#makeamericagreatagain_2016-11-06.json',\n",
    "               '#makeamericagreatagain_2016-11-05.json',\n",
    "               '#makeamericagreatagain_2016-11-04.json',\n",
    "               '#makeamericagreatagain_2016-11-01.json',\n",
    "               '#makeamericagreatagain_2016-10-31.json']\n",
    "\n",
    "tweets = []\n",
    "for file in tweet_files:\n",
    "    with open(file, 'r') as f:\n",
    "        for line in f:\n",
    "            tweets.append(json.loads(line))"
   ]
  },
  {
   "cell_type": "code",
   "execution_count": 8,
   "metadata": {
    "collapsed": false
   },
   "outputs": [
    {
     "data": {
      "text/plain": [
       "158160"
      ]
     },
     "execution_count": 8,
     "metadata": {},
     "output_type": "execute_result"
    }
   ],
   "source": [
    "len(tweets)"
   ]
  },
  {
   "cell_type": "code",
   "execution_count": 9,
   "metadata": {
    "collapsed": false
   },
   "outputs": [],
   "source": [
    "tweetdf = pd.DataFrame(tweets)"
   ]
  },
  {
   "cell_type": "code",
   "execution_count": 10,
   "metadata": {
    "collapsed": false,
    "scrolled": true
   },
   "outputs": [
    {
     "data": {
      "text/html": [
       "<div>\n",
       "<table border=\"1\" class=\"dataframe\">\n",
       "  <thead>\n",
       "    <tr style=\"text-align: right;\">\n",
       "      <th></th>\n",
       "      <th>contributors</th>\n",
       "      <th>coordinates</th>\n",
       "      <th>created_at</th>\n",
       "      <th>entities</th>\n",
       "      <th>extended_entities</th>\n",
       "      <th>favorite_count</th>\n",
       "      <th>favorited</th>\n",
       "      <th>geo</th>\n",
       "      <th>id</th>\n",
       "      <th>id_str</th>\n",
       "      <th>...</th>\n",
       "      <th>quoted_status</th>\n",
       "      <th>quoted_status_id</th>\n",
       "      <th>quoted_status_id_str</th>\n",
       "      <th>retweet_count</th>\n",
       "      <th>retweeted</th>\n",
       "      <th>retweeted_status</th>\n",
       "      <th>source</th>\n",
       "      <th>text</th>\n",
       "      <th>truncated</th>\n",
       "      <th>user</th>\n",
       "    </tr>\n",
       "  </thead>\n",
       "  <tbody>\n",
       "    <tr>\n",
       "      <th>158150</th>\n",
       "      <td>None</td>\n",
       "      <td>None</td>\n",
       "      <td>Mon Oct 31 11:01:46 +0000 2016</td>\n",
       "      <td>{'hashtags': [{'indices': [96, 118], 'text': '...</td>\n",
       "      <td>NaN</td>\n",
       "      <td>0</td>\n",
       "      <td>False</td>\n",
       "      <td>None</td>\n",
       "      <td>793045291200937984</td>\n",
       "      <td>793045291200937984</td>\n",
       "      <td>...</td>\n",
       "      <td>NaN</td>\n",
       "      <td>NaN</td>\n",
       "      <td>NaN</td>\n",
       "      <td>4</td>\n",
       "      <td>False</td>\n",
       "      <td>{'in_reply_to_status_id': None, 'favorited': F...</td>\n",
       "      <td>&lt;a href=\"http://twitter.com/download/android\" ...</td>\n",
       "      <td>RT @WesRichardsonNY: Trump's tax cuts are exac...</td>\n",
       "      <td>False</td>\n",
       "      <td>{'url': None, 'listed_count': 15, 'id': 796465...</td>\n",
       "    </tr>\n",
       "    <tr>\n",
       "      <th>158151</th>\n",
       "      <td>None</td>\n",
       "      <td>None</td>\n",
       "      <td>Mon Oct 31 11:01:42 +0000 2016</td>\n",
       "      <td>{'hashtags': [{'indices': [114, 136], 'text': ...</td>\n",
       "      <td>NaN</td>\n",
       "      <td>0</td>\n",
       "      <td>False</td>\n",
       "      <td>None</td>\n",
       "      <td>793045277234044929</td>\n",
       "      <td>793045277234044929</td>\n",
       "      <td>...</td>\n",
       "      <td>NaN</td>\n",
       "      <td>NaN</td>\n",
       "      <td>NaN</td>\n",
       "      <td>2881</td>\n",
       "      <td>False</td>\n",
       "      <td>{'in_reply_to_status_id': None, 'favorited': F...</td>\n",
       "      <td>&lt;a href=\"http://twitter.com/download/android\" ...</td>\n",
       "      <td>RT @WeNeedTrump: Please RETWEET! This video co...</td>\n",
       "      <td>False</td>\n",
       "      <td>{'url': None, 'listed_count': 6, 'id': 7587623...</td>\n",
       "    </tr>\n",
       "    <tr>\n",
       "      <th>158152</th>\n",
       "      <td>None</td>\n",
       "      <td>None</td>\n",
       "      <td>Mon Oct 31 11:01:37 +0000 2016</td>\n",
       "      <td>{'hashtags': [{'indices': [63, 85], 'text': 'M...</td>\n",
       "      <td>NaN</td>\n",
       "      <td>0</td>\n",
       "      <td>False</td>\n",
       "      <td>None</td>\n",
       "      <td>793045256698601472</td>\n",
       "      <td>793045256698601472</td>\n",
       "      <td>...</td>\n",
       "      <td>NaN</td>\n",
       "      <td>7.929089e+17</td>\n",
       "      <td>792908891843653633</td>\n",
       "      <td>1123</td>\n",
       "      <td>False</td>\n",
       "      <td>{'quoted_status_id_str': '792908891843653633',...</td>\n",
       "      <td>&lt;a href=\"http://twitter.com\" rel=\"nofollow\"&gt;Tw...</td>\n",
       "      <td>RT @EricTrump: Always love being with you @Jud...</td>\n",
       "      <td>False</td>\n",
       "      <td>{'url': None, 'listed_count': 7, 'id': 1344745...</td>\n",
       "    </tr>\n",
       "    <tr>\n",
       "      <th>158153</th>\n",
       "      <td>None</td>\n",
       "      <td>None</td>\n",
       "      <td>Mon Oct 31 11:01:36 +0000 2016</td>\n",
       "      <td>{'hashtags': [{'indices': [98, 120], 'text': '...</td>\n",
       "      <td>NaN</td>\n",
       "      <td>0</td>\n",
       "      <td>False</td>\n",
       "      <td>None</td>\n",
       "      <td>793045249153200128</td>\n",
       "      <td>793045249153200128</td>\n",
       "      <td>...</td>\n",
       "      <td>NaN</td>\n",
       "      <td>NaN</td>\n",
       "      <td>NaN</td>\n",
       "      <td>24730</td>\n",
       "      <td>False</td>\n",
       "      <td>{'in_reply_to_status_id': None, 'favorited': F...</td>\n",
       "      <td>&lt;a href=\"http://twitter.com\" rel=\"nofollow\"&gt;Tw...</td>\n",
       "      <td>RT @EricTrump: On behalf of the entire family,...</td>\n",
       "      <td>False</td>\n",
       "      <td>{'url': None, 'listed_count': 12, 'id': 353586...</td>\n",
       "    </tr>\n",
       "    <tr>\n",
       "      <th>158154</th>\n",
       "      <td>None</td>\n",
       "      <td>None</td>\n",
       "      <td>Mon Oct 31 11:01:33 +0000 2016</td>\n",
       "      <td>{'hashtags': [{'indices': [88, 93], 'text': 'm...</td>\n",
       "      <td>NaN</td>\n",
       "      <td>0</td>\n",
       "      <td>False</td>\n",
       "      <td>None</td>\n",
       "      <td>793045237585285122</td>\n",
       "      <td>793045237585285122</td>\n",
       "      <td>...</td>\n",
       "      <td>NaN</td>\n",
       "      <td>NaN</td>\n",
       "      <td>NaN</td>\n",
       "      <td>491</td>\n",
       "      <td>False</td>\n",
       "      <td>{'in_reply_to_status_id': None, 'favorited': F...</td>\n",
       "      <td>&lt;a href=\"http://twitter.com/download/android\" ...</td>\n",
       "      <td>RT @DonaldJTrumpJr: Too funny to not share. Fr...</td>\n",
       "      <td>False</td>\n",
       "      <td>{'url': None, 'listed_count': 62, 'id': 770394...</td>\n",
       "    </tr>\n",
       "    <tr>\n",
       "      <th>158155</th>\n",
       "      <td>None</td>\n",
       "      <td>None</td>\n",
       "      <td>Mon Oct 31 11:01:27 +0000 2016</td>\n",
       "      <td>{'hashtags': [{'indices': [100, 122], 'text': ...</td>\n",
       "      <td>NaN</td>\n",
       "      <td>0</td>\n",
       "      <td>False</td>\n",
       "      <td>None</td>\n",
       "      <td>793045213505789952</td>\n",
       "      <td>793045213505789952</td>\n",
       "      <td>...</td>\n",
       "      <td>NaN</td>\n",
       "      <td>NaN</td>\n",
       "      <td>NaN</td>\n",
       "      <td>357</td>\n",
       "      <td>False</td>\n",
       "      <td>{'in_reply_to_status_id': None, 'favorited': F...</td>\n",
       "      <td>&lt;a href=\"http://twitter.com\" rel=\"nofollow\"&gt;Tw...</td>\n",
       "      <td>RT @WeNeedTrump: Post game coverage of the Cub...</td>\n",
       "      <td>False</td>\n",
       "      <td>{'url': None, 'listed_count': 343, 'id': 13197...</td>\n",
       "    </tr>\n",
       "    <tr>\n",
       "      <th>158156</th>\n",
       "      <td>None</td>\n",
       "      <td>None</td>\n",
       "      <td>Mon Oct 31 11:01:26 +0000 2016</td>\n",
       "      <td>{'hashtags': [{'indices': [61, 75], 'text': 'D...</td>\n",
       "      <td>NaN</td>\n",
       "      <td>0</td>\n",
       "      <td>False</td>\n",
       "      <td>None</td>\n",
       "      <td>793045207369576448</td>\n",
       "      <td>793045207369576448</td>\n",
       "      <td>...</td>\n",
       "      <td>NaN</td>\n",
       "      <td>NaN</td>\n",
       "      <td>NaN</td>\n",
       "      <td>801</td>\n",
       "      <td>False</td>\n",
       "      <td>{'in_reply_to_status_id': 792872548832714752, ...</td>\n",
       "      <td>&lt;a href=\"http://twitter.com/download/android\" ...</td>\n",
       "      <td>RT @EricaMelone: @donnabrazile Please golden, ...</td>\n",
       "      <td>False</td>\n",
       "      <td>{'url': None, 'listed_count': 16, 'id': 703062...</td>\n",
       "    </tr>\n",
       "    <tr>\n",
       "      <th>158157</th>\n",
       "      <td>None</td>\n",
       "      <td>None</td>\n",
       "      <td>Mon Oct 31 11:01:21 +0000 2016</td>\n",
       "      <td>{'hashtags': [{'indices': [105, 127], 'text': ...</td>\n",
       "      <td>NaN</td>\n",
       "      <td>0</td>\n",
       "      <td>False</td>\n",
       "      <td>None</td>\n",
       "      <td>793045188700676096</td>\n",
       "      <td>793045188700676096</td>\n",
       "      <td>...</td>\n",
       "      <td>NaN</td>\n",
       "      <td>NaN</td>\n",
       "      <td>NaN</td>\n",
       "      <td>461</td>\n",
       "      <td>False</td>\n",
       "      <td>{'in_reply_to_status_id': None, 'favorited': F...</td>\n",
       "      <td>&lt;a href=\"http://twitter.com/download/android\" ...</td>\n",
       "      <td>RT @TeresaEdelglass: \"I'm going to deliver the...</td>\n",
       "      <td>False</td>\n",
       "      <td>{'url': None, 'listed_count': 143, 'id': 41667...</td>\n",
       "    </tr>\n",
       "    <tr>\n",
       "      <th>158158</th>\n",
       "      <td>None</td>\n",
       "      <td>None</td>\n",
       "      <td>Mon Oct 31 11:01:14 +0000 2016</td>\n",
       "      <td>{'hashtags': [{'indices': [114, 136], 'text': ...</td>\n",
       "      <td>NaN</td>\n",
       "      <td>0</td>\n",
       "      <td>False</td>\n",
       "      <td>None</td>\n",
       "      <td>793045160544337920</td>\n",
       "      <td>793045160544337920</td>\n",
       "      <td>...</td>\n",
       "      <td>NaN</td>\n",
       "      <td>NaN</td>\n",
       "      <td>NaN</td>\n",
       "      <td>2881</td>\n",
       "      <td>False</td>\n",
       "      <td>{'in_reply_to_status_id': None, 'favorited': F...</td>\n",
       "      <td>&lt;a href=\"http://twitter.com/download/iphone\" r...</td>\n",
       "      <td>RT @WeNeedTrump: Please RETWEET! This video co...</td>\n",
       "      <td>False</td>\n",
       "      <td>{'url': None, 'listed_count': 4, 'id': 6091450...</td>\n",
       "    </tr>\n",
       "    <tr>\n",
       "      <th>158159</th>\n",
       "      <td>None</td>\n",
       "      <td>None</td>\n",
       "      <td>Mon Oct 31 11:01:03 +0000 2016</td>\n",
       "      <td>{'hashtags': [{'indices': [49, 55], 'text': 'T...</td>\n",
       "      <td>NaN</td>\n",
       "      <td>1</td>\n",
       "      <td>False</td>\n",
       "      <td>None</td>\n",
       "      <td>793045113542840321</td>\n",
       "      <td>793045113542840321</td>\n",
       "      <td>...</td>\n",
       "      <td>NaN</td>\n",
       "      <td>7.930445e+17</td>\n",
       "      <td>793044531029606400</td>\n",
       "      <td>1</td>\n",
       "      <td>False</td>\n",
       "      <td>NaN</td>\n",
       "      <td>&lt;a href=\"http://twitter.com\" rel=\"nofollow\"&gt;Tw...</td>\n",
       "      <td>Eric Holder's Endorsement Is the KISS OF DEATH...</td>\n",
       "      <td>True</td>\n",
       "      <td>{'url': 'http://t.co/nHoU83JQJk', 'listed_coun...</td>\n",
       "    </tr>\n",
       "  </tbody>\n",
       "</table>\n",
       "<p>10 rows × 30 columns</p>\n",
       "</div>"
      ],
      "text/plain": [
       "       contributors coordinates                      created_at  \\\n",
       "158150         None        None  Mon Oct 31 11:01:46 +0000 2016   \n",
       "158151         None        None  Mon Oct 31 11:01:42 +0000 2016   \n",
       "158152         None        None  Mon Oct 31 11:01:37 +0000 2016   \n",
       "158153         None        None  Mon Oct 31 11:01:36 +0000 2016   \n",
       "158154         None        None  Mon Oct 31 11:01:33 +0000 2016   \n",
       "158155         None        None  Mon Oct 31 11:01:27 +0000 2016   \n",
       "158156         None        None  Mon Oct 31 11:01:26 +0000 2016   \n",
       "158157         None        None  Mon Oct 31 11:01:21 +0000 2016   \n",
       "158158         None        None  Mon Oct 31 11:01:14 +0000 2016   \n",
       "158159         None        None  Mon Oct 31 11:01:03 +0000 2016   \n",
       "\n",
       "                                                 entities extended_entities  \\\n",
       "158150  {'hashtags': [{'indices': [96, 118], 'text': '...               NaN   \n",
       "158151  {'hashtags': [{'indices': [114, 136], 'text': ...               NaN   \n",
       "158152  {'hashtags': [{'indices': [63, 85], 'text': 'M...               NaN   \n",
       "158153  {'hashtags': [{'indices': [98, 120], 'text': '...               NaN   \n",
       "158154  {'hashtags': [{'indices': [88, 93], 'text': 'm...               NaN   \n",
       "158155  {'hashtags': [{'indices': [100, 122], 'text': ...               NaN   \n",
       "158156  {'hashtags': [{'indices': [61, 75], 'text': 'D...               NaN   \n",
       "158157  {'hashtags': [{'indices': [105, 127], 'text': ...               NaN   \n",
       "158158  {'hashtags': [{'indices': [114, 136], 'text': ...               NaN   \n",
       "158159  {'hashtags': [{'indices': [49, 55], 'text': 'T...               NaN   \n",
       "\n",
       "        favorite_count favorited   geo                  id  \\\n",
       "158150               0     False  None  793045291200937984   \n",
       "158151               0     False  None  793045277234044929   \n",
       "158152               0     False  None  793045256698601472   \n",
       "158153               0     False  None  793045249153200128   \n",
       "158154               0     False  None  793045237585285122   \n",
       "158155               0     False  None  793045213505789952   \n",
       "158156               0     False  None  793045207369576448   \n",
       "158157               0     False  None  793045188700676096   \n",
       "158158               0     False  None  793045160544337920   \n",
       "158159               1     False  None  793045113542840321   \n",
       "\n",
       "                    id_str                        ...                          \\\n",
       "158150  793045291200937984                        ...                           \n",
       "158151  793045277234044929                        ...                           \n",
       "158152  793045256698601472                        ...                           \n",
       "158153  793045249153200128                        ...                           \n",
       "158154  793045237585285122                        ...                           \n",
       "158155  793045213505789952                        ...                           \n",
       "158156  793045207369576448                        ...                           \n",
       "158157  793045188700676096                        ...                           \n",
       "158158  793045160544337920                        ...                           \n",
       "158159  793045113542840321                        ...                           \n",
       "\n",
       "       quoted_status  quoted_status_id quoted_status_id_str  retweet_count  \\\n",
       "158150           NaN               NaN                  NaN              4   \n",
       "158151           NaN               NaN                  NaN           2881   \n",
       "158152           NaN      7.929089e+17   792908891843653633           1123   \n",
       "158153           NaN               NaN                  NaN          24730   \n",
       "158154           NaN               NaN                  NaN            491   \n",
       "158155           NaN               NaN                  NaN            357   \n",
       "158156           NaN               NaN                  NaN            801   \n",
       "158157           NaN               NaN                  NaN            461   \n",
       "158158           NaN               NaN                  NaN           2881   \n",
       "158159           NaN      7.930445e+17   793044531029606400              1   \n",
       "\n",
       "       retweeted                                   retweeted_status  \\\n",
       "158150     False  {'in_reply_to_status_id': None, 'favorited': F...   \n",
       "158151     False  {'in_reply_to_status_id': None, 'favorited': F...   \n",
       "158152     False  {'quoted_status_id_str': '792908891843653633',...   \n",
       "158153     False  {'in_reply_to_status_id': None, 'favorited': F...   \n",
       "158154     False  {'in_reply_to_status_id': None, 'favorited': F...   \n",
       "158155     False  {'in_reply_to_status_id': None, 'favorited': F...   \n",
       "158156     False  {'in_reply_to_status_id': 792872548832714752, ...   \n",
       "158157     False  {'in_reply_to_status_id': None, 'favorited': F...   \n",
       "158158     False  {'in_reply_to_status_id': None, 'favorited': F...   \n",
       "158159     False                                                NaN   \n",
       "\n",
       "                                                   source  \\\n",
       "158150  <a href=\"http://twitter.com/download/android\" ...   \n",
       "158151  <a href=\"http://twitter.com/download/android\" ...   \n",
       "158152  <a href=\"http://twitter.com\" rel=\"nofollow\">Tw...   \n",
       "158153  <a href=\"http://twitter.com\" rel=\"nofollow\">Tw...   \n",
       "158154  <a href=\"http://twitter.com/download/android\" ...   \n",
       "158155  <a href=\"http://twitter.com\" rel=\"nofollow\">Tw...   \n",
       "158156  <a href=\"http://twitter.com/download/android\" ...   \n",
       "158157  <a href=\"http://twitter.com/download/android\" ...   \n",
       "158158  <a href=\"http://twitter.com/download/iphone\" r...   \n",
       "158159  <a href=\"http://twitter.com\" rel=\"nofollow\">Tw...   \n",
       "\n",
       "                                                     text truncated  \\\n",
       "158150  RT @WesRichardsonNY: Trump's tax cuts are exac...     False   \n",
       "158151  RT @WeNeedTrump: Please RETWEET! This video co...     False   \n",
       "158152  RT @EricTrump: Always love being with you @Jud...     False   \n",
       "158153  RT @EricTrump: On behalf of the entire family,...     False   \n",
       "158154  RT @DonaldJTrumpJr: Too funny to not share. Fr...     False   \n",
       "158155  RT @WeNeedTrump: Post game coverage of the Cub...     False   \n",
       "158156  RT @EricaMelone: @donnabrazile Please golden, ...     False   \n",
       "158157  RT @TeresaEdelglass: \"I'm going to deliver the...     False   \n",
       "158158  RT @WeNeedTrump: Please RETWEET! This video co...     False   \n",
       "158159  Eric Holder's Endorsement Is the KISS OF DEATH...      True   \n",
       "\n",
       "                                                     user  \n",
       "158150  {'url': None, 'listed_count': 15, 'id': 796465...  \n",
       "158151  {'url': None, 'listed_count': 6, 'id': 7587623...  \n",
       "158152  {'url': None, 'listed_count': 7, 'id': 1344745...  \n",
       "158153  {'url': None, 'listed_count': 12, 'id': 353586...  \n",
       "158154  {'url': None, 'listed_count': 62, 'id': 770394...  \n",
       "158155  {'url': None, 'listed_count': 343, 'id': 13197...  \n",
       "158156  {'url': None, 'listed_count': 16, 'id': 703062...  \n",
       "158157  {'url': None, 'listed_count': 143, 'id': 41667...  \n",
       "158158  {'url': None, 'listed_count': 4, 'id': 6091450...  \n",
       "158159  {'url': 'http://t.co/nHoU83JQJk', 'listed_coun...  \n",
       "\n",
       "[10 rows x 30 columns]"
      ]
     },
     "execution_count": 10,
     "metadata": {},
     "output_type": "execute_result"
    }
   ],
   "source": [
    "tweetdf.tail(10)"
   ]
  },
  {
   "cell_type": "code",
   "execution_count": null,
   "metadata": {
    "collapsed": false,
    "scrolled": true
   },
   "outputs": [],
   "source": [
    "%cd '/Volumes/USB30FD/capstone/pickled_dfs'"
   ]
  },
  {
   "cell_type": "code",
   "execution_count": null,
   "metadata": {
    "collapsed": true
   },
   "outputs": [],
   "source": [
    "# Pickle the dataframe\n",
    "tweetdf.to_pickle('makeamericagreatagain.pkl')\n",
    "\n",
    "# Then you can load it back using:\n",
    "#tweetdf = pd.read_pickle('all_tweets.pkl')"
   ]
  },
  {
   "cell_type": "code",
   "execution_count": 11,
   "metadata": {
    "collapsed": false
   },
   "outputs": [
    {
     "data": {
      "text/plain": [
       "Index(['contributors', 'coordinates', 'created_at', 'entities',\n",
       "       'extended_entities', 'favorite_count', 'favorited', 'geo', 'id',\n",
       "       'id_str', 'in_reply_to_screen_name', 'in_reply_to_status_id',\n",
       "       'in_reply_to_status_id_str', 'in_reply_to_user_id',\n",
       "       'in_reply_to_user_id_str', 'is_quote_status', 'lang', 'metadata',\n",
       "       'place', 'possibly_sensitive', 'quoted_status', 'quoted_status_id',\n",
       "       'quoted_status_id_str', 'retweet_count', 'retweeted',\n",
       "       'retweeted_status', 'source', 'text', 'truncated', 'user'],\n",
       "      dtype='object')"
      ]
     },
     "execution_count": 11,
     "metadata": {},
     "output_type": "execute_result"
    }
   ],
   "source": [
    "tweetdf.columns"
   ]
  },
  {
   "cell_type": "markdown",
   "metadata": {},
   "source": [
    "# How many unique users tweeted?"
   ]
  },
  {
   "cell_type": "code",
   "execution_count": 30,
   "metadata": {
    "collapsed": false,
    "scrolled": true
   },
   "outputs": [],
   "source": [
    "tweetdf['screen_name'] = list(map(lambda tweet: tweet['user']['screen_name'], tweets))\n",
    "tweetdf['description'] = list(map(lambda tweet: tweet['user']['description'], tweets))"
   ]
  },
  {
   "cell_type": "code",
   "execution_count": 102,
   "metadata": {
    "collapsed": false
   },
   "outputs": [
    {
     "name": "stdout",
     "output_type": "stream",
     "text": [
      "77690 unique users are responsible for the 158160 tweets.\n",
      "(approximately 49.12 %)\n"
     ]
    }
   ],
   "source": [
    "uniques = len(pd.unique(tweetdf.screen_name.ravel()))\n",
    "print(uniques, \"unique users are responsible for the\", len(tweetdf), \"tweets.\")\n",
    "print('(approximately','%.2f' % (100*uniques/len(tweetdf)),'%)')"
   ]
  },
  {
   "cell_type": "code",
   "execution_count": 41,
   "metadata": {
    "collapsed": false
   },
   "outputs": [
    {
     "data": {
      "text/plain": [
       "{'contributors_enabled': False,\n",
       " 'created_at': 'Wed Jan 27 14:16:43 +0000 2016',\n",
       " 'default_profile': True,\n",
       " 'default_profile_image': False,\n",
       " 'description': '',\n",
       " 'entities': {'description': {'urls': []}},\n",
       " 'favourites_count': 16079,\n",
       " 'follow_request_sent': False,\n",
       " 'followers_count': 459,\n",
       " 'following': False,\n",
       " 'friends_count': 94,\n",
       " 'geo_enabled': True,\n",
       " 'has_extended_profile': False,\n",
       " 'id': 4853583291,\n",
       " 'id_str': '4853583291',\n",
       " 'is_translation_enabled': False,\n",
       " 'is_translator': False,\n",
       " 'lang': 'en',\n",
       " 'listed_count': 143,\n",
       " 'location': '',\n",
       " 'name': 'Suzanne Rivkin',\n",
       " 'notifications': False,\n",
       " 'profile_background_color': 'F5F8FA',\n",
       " 'profile_background_image_url': None,\n",
       " 'profile_background_image_url_https': None,\n",
       " 'profile_background_tile': False,\n",
       " 'profile_image_url': 'http://pbs.twimg.com/profile_images/774347307051614208/oZNIM1GC_normal.jpg',\n",
       " 'profile_image_url_https': 'https://pbs.twimg.com/profile_images/774347307051614208/oZNIM1GC_normal.jpg',\n",
       " 'profile_link_color': '1DA1F2',\n",
       " 'profile_sidebar_border_color': 'C0DEED',\n",
       " 'profile_sidebar_fill_color': 'DDEEF6',\n",
       " 'profile_text_color': '333333',\n",
       " 'profile_use_background_image': True,\n",
       " 'protected': False,\n",
       " 'screen_name': 'rivkin_suzanne',\n",
       " 'statuses_count': 42980,\n",
       " 'time_zone': None,\n",
       " 'translator_type': 'none',\n",
       " 'url': None,\n",
       " 'utc_offset': None,\n",
       " 'verified': False}"
      ]
     },
     "execution_count": 41,
     "metadata": {},
     "output_type": "execute_result"
    }
   ],
   "source": [
    "tweetdf.user[0]"
   ]
  },
  {
   "cell_type": "code",
   "execution_count": 67,
   "metadata": {
    "collapsed": false,
    "scrolled": true
   },
   "outputs": [],
   "source": [
    "def populate_user_df(tweets):\n",
    "    df = pd.DataFrame()\n",
    " \n",
    "    df['screen_name'] = list(map(lambda tweet: tweet['user']['screen_name'], tweets))\n",
    "    \n",
    "    df['name'] = list(map(lambda tweet: tweet['user']['name'], tweets))\n",
    " \n",
    "    df['description'] = list(map(lambda tweet: tweet['user']['description'], tweets))\n",
    "    \n",
    "    df['language'] = list(map(lambda tweet: tweet['user']['lang'], tweets))\n",
    " \n",
    "    df['followers'] = list(map(lambda tweet: tweet['user']['followers_count'], tweets))\n",
    "                               \n",
    "    df['friends'] = list(map(lambda tweet: tweet['user']['friends_count'], tweets))\n",
    "    \n",
    "    return df\n",
    "\n",
    "user_df = populate_user_df(tweets)"
   ]
  },
  {
   "cell_type": "code",
   "execution_count": 110,
   "metadata": {
    "collapsed": false,
    "scrolled": true
   },
   "outputs": [
    {
     "data": {
      "text/html": [
       "<div>\n",
       "<table border=\"1\" class=\"dataframe\">\n",
       "  <thead>\n",
       "    <tr style=\"text-align: right;\">\n",
       "      <th></th>\n",
       "      <th>screen_name</th>\n",
       "      <th>name</th>\n",
       "      <th>description</th>\n",
       "      <th>count</th>\n",
       "    </tr>\n",
       "  </thead>\n",
       "  <tbody>\n",
       "    <tr>\n",
       "      <th>44733</th>\n",
       "      <td>amrightnow</td>\n",
       "      <td>American Right Now</td>\n",
       "      <td>Facebook: https://t.co/wLutT8gmj0 YouTube: htt...</td>\n",
       "      <td>407</td>\n",
       "    </tr>\n",
       "    <tr>\n",
       "      <th>15222</th>\n",
       "      <td>Gladys99</td>\n",
       "      <td>Gladys voted 4 Trump</td>\n",
       "      <td>Trump supporter !!   I lost 40 lbs! See my sto...</td>\n",
       "      <td>258</td>\n",
       "    </tr>\n",
       "    <tr>\n",
       "      <th>64704</th>\n",
       "      <td>maconnal</td>\n",
       "      <td>Maconnal</td>\n",
       "      <td>Christian, Constitutional Conservative Patriot...</td>\n",
       "      <td>215</td>\n",
       "    </tr>\n",
       "    <tr>\n",
       "      <th>4190</th>\n",
       "      <td>BabyGirl_4Trump</td>\n",
       "      <td>️️️️Deplorable Wendy</td>\n",
       "      <td>❤  HARDCORE TRUMP SUPPORTER❤. Trump haters wil...</td>\n",
       "      <td>195</td>\n",
       "    </tr>\n",
       "    <tr>\n",
       "      <th>68765</th>\n",
       "      <td>obuoabasa</td>\n",
       "      <td>Mr. Dennis Ashley</td>\n",
       "      <td>Student Member, CIB(GH) @cibghana || #NanaAddo...</td>\n",
       "      <td>191</td>\n",
       "    </tr>\n",
       "    <tr>\n",
       "      <th>21504</th>\n",
       "      <td>KatieStrauss19</td>\n",
       "      <td>Katie Strauss</td>\n",
       "      <td></td>\n",
       "      <td>187</td>\n",
       "    </tr>\n",
       "    <tr>\n",
       "      <th>16893</th>\n",
       "      <td>HorseShort</td>\n",
       "      <td>Just Sam🇺🇸</td>\n",
       "      <td>Deputy of #DrainTheSwamp Division of #Trumpste...</td>\n",
       "      <td>169</td>\n",
       "    </tr>\n",
       "    <tr>\n",
       "      <th>978</th>\n",
       "      <td>69donald420</td>\n",
       "      <td>trump</td>\n",
       "      <td></td>\n",
       "      <td>156</td>\n",
       "    </tr>\n",
       "    <tr>\n",
       "      <th>59488</th>\n",
       "      <td>jimmydelp66</td>\n",
       "      <td>Jimmy Delp</td>\n",
       "      <td></td>\n",
       "      <td>137</td>\n",
       "    </tr>\n",
       "    <tr>\n",
       "      <th>60815</th>\n",
       "      <td>justjoeaz1</td>\n",
       "      <td>justjoe</td>\n",
       "      <td></td>\n",
       "      <td>135</td>\n",
       "    </tr>\n",
       "  </tbody>\n",
       "</table>\n",
       "</div>"
      ],
      "text/plain": [
       "           screen_name                  name  \\\n",
       "44733       amrightnow    American Right Now   \n",
       "15222         Gladys99  Gladys voted 4 Trump   \n",
       "64704         maconnal              Maconnal   \n",
       "4190   BabyGirl_4Trump  ️️️️Deplorable Wendy   \n",
       "68765        obuoabasa     Mr. Dennis Ashley   \n",
       "21504   KatieStrauss19         Katie Strauss   \n",
       "16893       HorseShort            Just Sam🇺🇸   \n",
       "978        69donald420                 trump   \n",
       "59488      jimmydelp66            Jimmy Delp   \n",
       "60815       justjoeaz1               justjoe   \n",
       "\n",
       "                                             description  count  \n",
       "44733  Facebook: https://t.co/wLutT8gmj0 YouTube: htt...    407  \n",
       "15222  Trump supporter !!   I lost 40 lbs! See my sto...    258  \n",
       "64704  Christian, Constitutional Conservative Patriot...    215  \n",
       "4190   ❤  HARDCORE TRUMP SUPPORTER❤. Trump haters wil...    195  \n",
       "68765  Student Member, CIB(GH) @cibghana || #NanaAddo...    191  \n",
       "21504                                                       187  \n",
       "16893  Deputy of #DrainTheSwamp Division of #Trumpste...    169  \n",
       "978                                                         156  \n",
       "59488                                                       137  \n",
       "60815                                                       135  "
      ]
     },
     "execution_count": 110,
     "metadata": {},
     "output_type": "execute_result"
    }
   ],
   "source": [
    "# 2 ways to group by user:\n",
    "# group_by_user = user_df.groupby(['screen_name','name','description'])\n",
    "# group_by_user.size().sort_values(ascending=False).reset_index()\n",
    "\n",
    "group_by_user = pd.DataFrame({'count' : user_df.groupby(['screen_name','name','description']).size()}).reset_index()\n",
    "group_by_user = group_by_user.sort_values(by='count', ascending=False)\n",
    "group_by_user.head(10)"
   ]
  },
  {
   "cell_type": "code",
   "execution_count": 100,
   "metadata": {
    "collapsed": false
   },
   "outputs": [
    {
     "data": {
      "text/plain": [
       "<matplotlib.axes._subplots.AxesSubplot at 0x25fa46ac8>"
      ]
     },
     "execution_count": 100,
     "metadata": {},
     "output_type": "execute_result"
    },
    {
     "data": {
      "image/png": "[encoded data removed]",
      "text/plain": [
       "<matplotlib.figure.Figure at 0x25fe35cf8>"
      ]
     },
     "metadata": {},
     "output_type": "display_data"
    }
   ],
   "source": [
    "user_df.groupby('screen_name').size().sort_values(ascending=False)[:30].plot(kind='barh')"
   ]
  },
  {
   "cell_type": "code",
   "execution_count": 116,
   "metadata": {
    "collapsed": false
   },
   "outputs": [
    {
     "data": {
      "text/plain": [
       "screen_name\n",
       "amrightnow         True\n",
       "Gladys99           True\n",
       "obuoabasa          True\n",
       "maconnal           True\n",
       "BabyGirl_4Trump    True\n",
       "KatieStrauss19     True\n",
       "HorseShort         True\n",
       "69donald420        True\n",
       "jimmydelp66        True\n",
       "justjoeaz1         True\n",
       "dtype: bool"
      ]
     },
     "execution_count": 116,
     "metadata": {},
     "output_type": "execute_result"
    }
   ],
   "source": [
    "# Pick out all of the users that have tweeted more than once\n",
    "topusers = userdf.groupby('screen_name').size().sort_values(ascending=False).apply(lambda x: x > 1)\n",
    "topusers.head(10)"
   ]
  },
  {
   "cell_type": "markdown",
   "metadata": {},
   "source": [
    "# What language did they write the tweets in?"
   ]
  },
  {
   "cell_type": "code",
   "execution_count": null,
   "metadata": {
    "collapsed": false
   },
   "outputs": [],
   "source": [
    "len(tweetdf[tweetdf.lang != 'en'])"
   ]
  },
  {
   "cell_type": "markdown",
   "metadata": {
    "collapsed": true
   },
   "source": [
    "# Where did the tweets come from?"
   ]
  },
  {
   "cell_type": "code",
   "execution_count": null,
   "metadata": {
    "collapsed": false
   },
   "outputs": [],
   "source": [
    "def populate_tweet_df(tweets):\n",
    "    df = pd.DataFrame()\n",
    " \n",
    "    df['text'] = list(map(lambda tweet: tweet['text'], tweets))\n",
    " \n",
    "    df['location'] = list(map(lambda tweet: tweet['user']['location'], tweets))\n",
    " \n",
    "    df['country_code'] = list(map(lambda tweet: tweet['place']['country_code']\n",
    "                                  if tweet['place'] != None else '', tweets))\n",
    " \n",
    "    df['long'] = list(map(lambda tweet: tweet['coordinates']['coordinates'][0]\n",
    "                        if tweet['coordinates'] != None else 'NaN', tweets))\n",
    " \n",
    "    df['lat'] = list(map(lambda tweet: tweet['coordinates']['coordinates'][1]\n",
    "                        if tweet['coordinates'] != None else 'NaN', tweets))\n",
    " \n",
    "    return df\n",
    "\n",
    "loc_df = populate_tweet_df(tweets)"
   ]
  },
  {
   "cell_type": "code",
   "execution_count": null,
   "metadata": {
    "collapsed": false
   },
   "outputs": [],
   "source": [
    "# count NaN location values\n",
    "none = len(loc_df[loc_df.lat != 'NaN'])\n",
    "print ('%.3f' % (100*none/len(loc_df)), \"% of these tweets include geocoordinates.\")"
   ]
  },
  {
   "cell_type": "code",
   "execution_count": null,
   "metadata": {
    "collapsed": false,
    "scrolled": true
   },
   "outputs": [],
   "source": [
    "# How many of the tweets that contain geocoordinates originate from outside the US?\n",
    "loc_df[(loc_df.lat != 'NaN') & (loc_df['country_code'] != 'US' )]"
   ]
  },
  {
   "cell_type": "code",
   "execution_count": null,
   "metadata": {
    "collapsed": false
   },
   "outputs": [],
   "source": [
    "pd.set_option('display.max_colwidth', -1)\n",
    "loc_df.text.head(100)"
   ]
  },
  {
   "cell_type": "code",
   "execution_count": null,
   "metadata": {
    "collapsed": false
   },
   "outputs": [],
   "source": [
    "import matplotlib as mpl\n",
    "import matplotlib.pyplot as plt\n",
    "from mpl_toolkits.basemap import Basemap\n",
    "%matplotlib inline  \n",
    "\n",
    "plt.figure(figsize=(15,8))\n",
    " \n",
    "# plot the blank world map\n",
    "my_map = Basemap(projection='merc', lat_0=50, lon_0=-100,\n",
    "                     resolution = 'l', area_thresh = 5000.0,\n",
    "                     llcrnrlon=-140, llcrnrlat=-55,\n",
    "                     urcrnrlon=160, urcrnrlat=70)\n",
    "# set resolution='h' for high quality\n",
    " \n",
    "# draw elements onto the world map\n",
    "my_map.drawcountries()\n",
    "#my_map.drawstates()\n",
    "my_map.drawcoastlines(antialiased=False,\n",
    "                      linewidth=0.005)\n",
    " \n",
    "# add coordinates as red dots\n",
    "longs = list(loc_df.loc[(loc_df.long != 'NaN')].long)\n",
    "lats = list(loc_df.loc[loc_df.lat != 'NaN'].lat)\n",
    "x, y = my_map(longs, lats)\n",
    "my_map.plot(x, y, 'ro', markersize=6, alpha=0.5)\n",
    " \n",
    "plt.show()"
   ]
  },
  {
   "cell_type": "code",
   "execution_count": null,
   "metadata": {
    "collapsed": false
   },
   "outputs": [],
   "source": []
  },
  {
   "cell_type": "code",
   "execution_count": null,
   "metadata": {
    "collapsed": false
   },
   "outputs": [],
   "source": []
  },
  {
   "cell_type": "code",
   "execution_count": null,
   "metadata": {
    "collapsed": true
   },
   "outputs": [],
   "source": []
  }
 ],
 "metadata": {
  "anaconda-cloud": {},
  "kernelspec": {
   "display_name": "Python [Root]",
   "language": "python",
   "name": "Python [Root]"
  },
  "language_info": {
   "codemirror_mode": {
    "name": "ipython",
    "version": 3
   },
   "file_extension": ".py",
   "mimetype": "text/x-python",
   "name": "python",
   "nbconvert_exporter": "python",
   "pygments_lexer": "ipython3",
   "version": "3.5.2"
  }
 },
 "nbformat": 4,
 "nbformat_minor": 0
}
