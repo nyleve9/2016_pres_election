{
 "cells": [
  {
   "cell_type": "code",
   "execution_count": 6,
   "metadata": {
    "collapsed": false
   },
   "outputs": [
    {
     "name": "stdout",
     "output_type": "stream",
     "text": [
      "Populating the interactive namespace from numpy and matplotlib\n"
     ]
    },
    {
     "name": "stderr",
     "output_type": "stream",
     "text": [
      "WARNING: pylab import has clobbered these variables: ['f']\n",
      "`%matplotlib` prevents importing * from pylab and numpy\n"
     ]
    }
   ],
   "source": [
    "%pylab inline\n",
    "\n",
    "rcParams[\"figure.figsize\"] = (12, 9) #<--- large default figures\n",
    "\n",
    "# Plot text elements\n",
    "rcParams['axes.labelsize'] = 17\n",
    "rcParams['axes.titlesize'] = 17\n",
    "rcParams['xtick.labelsize'] = 15\n",
    "rcParams['ytick.labelsize'] = 15"
   ]
  },
  {
   "cell_type": "code",
   "execution_count": 7,
   "metadata": {
    "collapsed": false
   },
   "outputs": [
    {
     "name": "stdout",
     "output_type": "stream",
     "text": [
      "/Users/evelyn/Workspaces/springboard/capstone/electiontweets\n"
     ]
    }
   ],
   "source": [
    "%cd '/Users/evelyn/Workspaces/springboard/capstone/electiontweets'"
   ]
  },
  {
   "cell_type": "code",
   "execution_count": 3,
   "metadata": {
    "collapsed": false
   },
   "outputs": [
    {
     "data": {
      "text/plain": [
       "\"\\nimport json\\n\\ntweet_files = ['#donaldtrump_2016-11-10_to_2016-11-14.json',               \\n               '#election2016_2016-11-10_to_2016-11-14.json',          \\n               '#hillaryclinton_2016-11-10_to_2016-11-14.json',             \\n               '#imwithher_2016-11-10_to_2016-11-14.json',\\n               '#ivoted_2016-11-10_to_2016-11-14.json',                         \\n               '#maga_2016-11-10_to_2016-11-14.json',                          \\n               '#makeamericagreatagain_2016-11-10_to_2016-11-14.json',         \\n               '#makedonalddrumpfagain_2016-11-10_to_2016-11-14.json',\\n               '#neverhillary_2016-11-10_to_2016-11-14.json',\\n               '#nevertrump_2016-11-10_to_2016-11-14.json',      \\n               'hillary_2016-11-10_to_2016-11-14.json',\\n               'trump_2016-11-10_to_2016-11-14.json',\\n               'election_2016-11-10_to_2016-11-14.json',\\n               '#voted_2016-11-10_to_2016-11-14.json',\\n               'POTUS_2016-11-10_to_2016-11-14.json',\\n               '#donaldtrump_2016-11-09.json',               \\n               '#election2016_2016-11-09.json',          \\n               '#hillaryclinton_2016-11-09.json',             \\n               '#imwithher_2016-11-09.json',\\n               '#ivoted_2016-11-09.json',                         \\n               '#maga_2016-11-09.json',                          \\n               '#makeamericagreatagain_2016-11-09.json',       \\n               '#makedonalddrumpfagain_2016-11-09.json',\\n               '#neverhillary_2016-11-09.json',\\n               '#nevertrump_2016-11-09.json',      \\n               'hillary_2016-11-09.json',\\n               'trump_2016-11-09.json',\\n               'election_2016-11-09.json',\\n               '#voted_2016-11-09.json',\\n               'POTUS_2016-11-09.json',\\n               '#imwithher_2016-11-08.json', \\n               '#makeamericagreatagain_2016-11-08.json',\\n               'hillary_2016-11-08.json',\\n               'trump_2016-11-08.json',\\n               '#election2016_2016-11-08.json',\\n               'election_2016-11-08.json',\\n               '#ivoted_2016-11-08.json',\\n               '#voted_2016-11-08.json',\\n               'POTUS_2016-11-08_first.json',\\n               'POTUS_2016-11-08.json',\\n               '#donaldtrump_2016-11-08.json',\\n               '#hillaryclinton_2016-11-08.json',\\n               '#maga_2016-11-08.json',\\n               '#makedonalddrumpfagain_2016-11-08.json',\\n               '#neverhillary_2016-11-08.json',\\n               '#nevertrump_2016-11-08.json',\\n               '#imwithher_2016-11-07.json', \\n               '#makeamericagreatagain_2016-11-07.json',\\n               'hillary_2016-11-07.json',\\n               'trump_2016-11-07.json',\\n               '#election2016_2016-11-07.json',\\n               'election_2016-11-07.json',\\n               '#ivoted_2016-11-07.json',\\n               '#voted_2016-11-07.json',\\n               'POTUS_2016-11-07.json',\\n               '#donaldtrump_2016-11-06.json',\\n               '#election2016_2016-11-06.json',\\n               '#hillaryclinton_2016-11-06.json',\\n               '#imwithher_2016-11-06.json',\\n               '#ivoted_2016-11-06.json',\\n               '#maga_2016-11-06.json',\\n               '#makeamericagreatagain_2016-11-06.json',\\n               '#makedonalddrumpfagain_2016-11-06.json',\\n               '#neverhillary_2016-11-06.json',\\n               '#nevertrump_2016-11-06.json',\\n               '#imwithher_2016-11-05.json', \\n               '#makeamericagreatagain_2016-11-05.json',\\n               'hillary_2016-11-05.json',\\n               'trump_2016-11-05.json',\\n               '#election2016_2016-11-05.json',\\n               'election_2016-11-05.json',\\n               '#ivoted_2016-11-05.json',\\n               '#voted_2016-11-05.json',\\n               'POTUS_2016-11-05.json',\\n               '#donaldtrump_2016-11-04.json',\\n               '#election2016_2016-11-04.json',\\n               '#hillaryclinton_2016-11-04.json',\\n               '#imwithher_2016-11-04.json',\\n               '#ivoted_2016-11-04.json',\\n               '#maga_2016-11-04.json',\\n               '#makeamericagreatagain_2016-11-04.json',\\n               '#makedonalddrumpfagain_2016-11-04.json',\\n               '#neverhillary_2016-11-04.json',\\n               '#nevertrump_2016-11-04.json',\\n               '#imwithher_2016-11-01.json',\\n               '#makeamericagreatagain_2016-11-01.json',\\n               '#imwithher_2016-10-31.json',\\n               '#makeamericagreatagain_2016-10-31.json']\\n\\ntweets = []\\nfor file in tweet_files:\\n    with open(file, 'r') as f:\\n        for line in f:\\n            tweets.append(json.loads(line))\\n\""
      ]
     },
     "execution_count": 3,
     "metadata": {},
     "output_type": "execute_result"
    }
   ],
   "source": [
    "'''\n",
    "import json\n",
    "\n",
    "tweet_files = ['#donaldtrump_2016-11-10_to_2016-11-14.json',               \n",
    "               '#election2016_2016-11-10_to_2016-11-14.json',          \n",
    "               '#hillaryclinton_2016-11-10_to_2016-11-14.json',             \n",
    "               '#imwithher_2016-11-10_to_2016-11-14.json',\n",
    "               '#ivoted_2016-11-10_to_2016-11-14.json',                         \n",
    "               '#maga_2016-11-10_to_2016-11-14.json',                          \n",
    "               '#makeamericagreatagain_2016-11-10_to_2016-11-14.json',         \n",
    "               '#makedonalddrumpfagain_2016-11-10_to_2016-11-14.json',\n",
    "               '#neverhillary_2016-11-10_to_2016-11-14.json',\n",
    "               '#nevertrump_2016-11-10_to_2016-11-14.json',      \n",
    "               'hillary_2016-11-10_to_2016-11-14.json',\n",
    "               'trump_2016-11-10_to_2016-11-14.json',\n",
    "               'election_2016-11-10_to_2016-11-14.json',\n",
    "               '#voted_2016-11-10_to_2016-11-14.json',\n",
    "               'POTUS_2016-11-10_to_2016-11-14.json',\n",
    "               '#donaldtrump_2016-11-09.json',               \n",
    "               '#election2016_2016-11-09.json',          \n",
    "               '#hillaryclinton_2016-11-09.json',             \n",
    "               '#imwithher_2016-11-09.json',\n",
    "               '#ivoted_2016-11-09.json',                         \n",
    "               '#maga_2016-11-09.json',                          \n",
    "               '#makeamericagreatagain_2016-11-09.json',       \n",
    "               '#makedonalddrumpfagain_2016-11-09.json',\n",
    "               '#neverhillary_2016-11-09.json',\n",
    "               '#nevertrump_2016-11-09.json',      \n",
    "               'hillary_2016-11-09.json',\n",
    "               'trump_2016-11-09.json',\n",
    "               'election_2016-11-09.json',\n",
    "               '#voted_2016-11-09.json',\n",
    "               'POTUS_2016-11-09.json',\n",
    "               '#imwithher_2016-11-08.json', \n",
    "               '#makeamericagreatagain_2016-11-08.json',\n",
    "               'hillary_2016-11-08.json',\n",
    "               'trump_2016-11-08.json',\n",
    "               '#election2016_2016-11-08.json',\n",
    "               'election_2016-11-08.json',\n",
    "               '#ivoted_2016-11-08.json',\n",
    "               '#voted_2016-11-08.json',\n",
    "               'POTUS_2016-11-08_first.json',\n",
    "               'POTUS_2016-11-08.json',\n",
    "               '#donaldtrump_2016-11-08.json',\n",
    "               '#hillaryclinton_2016-11-08.json',\n",
    "               '#maga_2016-11-08.json',\n",
    "               '#makedonalddrumpfagain_2016-11-08.json',\n",
    "               '#neverhillary_2016-11-08.json',\n",
    "               '#nevertrump_2016-11-08.json',\n",
    "               '#imwithher_2016-11-07.json', \n",
    "               '#makeamericagreatagain_2016-11-07.json',\n",
    "               'hillary_2016-11-07.json',\n",
    "               'trump_2016-11-07.json',\n",
    "               '#election2016_2016-11-07.json',\n",
    "               'election_2016-11-07.json',\n",
    "               '#ivoted_2016-11-07.json',\n",
    "               '#voted_2016-11-07.json',\n",
    "               'POTUS_2016-11-07.json',\n",
    "               '#donaldtrump_2016-11-06.json',\n",
    "               '#election2016_2016-11-06.json',\n",
    "               '#hillaryclinton_2016-11-06.json',\n",
    "               '#imwithher_2016-11-06.json',\n",
    "               '#ivoted_2016-11-06.json',\n",
    "               '#maga_2016-11-06.json',\n",
    "               '#makeamericagreatagain_2016-11-06.json',\n",
    "               '#makedonalddrumpfagain_2016-11-06.json',\n",
    "               '#neverhillary_2016-11-06.json',\n",
    "               '#nevertrump_2016-11-06.json',\n",
    "               '#imwithher_2016-11-05.json', \n",
    "               '#makeamericagreatagain_2016-11-05.json',\n",
    "               'hillary_2016-11-05.json',\n",
    "               'trump_2016-11-05.json',\n",
    "               '#election2016_2016-11-05.json',\n",
    "               'election_2016-11-05.json',\n",
    "               '#ivoted_2016-11-05.json',\n",
    "               '#voted_2016-11-05.json',\n",
    "               'POTUS_2016-11-05.json',\n",
    "               '#donaldtrump_2016-11-04.json',\n",
    "               '#election2016_2016-11-04.json',\n",
    "               '#hillaryclinton_2016-11-04.json',\n",
    "               '#imwithher_2016-11-04.json',\n",
    "               '#ivoted_2016-11-04.json',\n",
    "               '#maga_2016-11-04.json',\n",
    "               '#makeamericagreatagain_2016-11-04.json',\n",
    "               '#makedonalddrumpfagain_2016-11-04.json',\n",
    "               '#neverhillary_2016-11-04.json',\n",
    "               '#nevertrump_2016-11-04.json',\n",
    "               '#imwithher_2016-11-01.json',\n",
    "               '#makeamericagreatagain_2016-11-01.json',\n",
    "               '#imwithher_2016-10-31.json',\n",
    "               '#makeamericagreatagain_2016-10-31.json']\n",
    "\n",
    "tweets = []\n",
    "for file in tweet_files:\n",
    "    with open(file, 'r') as f:\n",
    "        for line in f:\n",
    "            tweets.append(json.loads(line))\n",
    "'''"
   ]
  },
  {
   "cell_type": "markdown",
   "metadata": {},
   "source": [
    "# Make dataframe from json files"
   ]
  },
  {
   "cell_type": "code",
   "execution_count": 8,
   "metadata": {
    "collapsed": true
   },
   "outputs": [],
   "source": [
    "import pandas as pd\n",
    "import json\n",
    "import tweepy\n",
    "from tweepy import OAuthHandler\n",
    "import datetime as dt\n",
    "import time\n",
    "import os\n",
    "import sys"
   ]
  },
  {
   "cell_type": "code",
   "execution_count": 9,
   "metadata": {
    "collapsed": false
   },
   "outputs": [],
   "source": [
    "tweet_files = ['#makeamericagreatagain_2016-11-10_to_2016-11-14.json',\n",
    "               '#makeamericagreatagain_2016-11-09.json',\n",
    "               '#makeamericagreatagain_2016-11-08.json',\n",
    "               '#makeamericagreatagain_2016-11-07.json',\n",
    "               '#makeamericagreatagain_2016-11-06.json',\n",
    "               '#makeamericagreatagain_2016-11-05.json',\n",
    "               '#makeamericagreatagain_2016-11-04.json',\n",
    "               '#makeamericagreatagain_2016-11-01.json',\n",
    "               '#makeamericagreatagain_2016-10-31.json']\n",
    "\n",
    "tweets = []\n",
    "for file in tweet_files:\n",
    "    with open(file, 'r') as f:\n",
    "        for line in f:\n",
    "            tweets.append(json.loads(line))"
   ]
  },
  {
   "cell_type": "code",
   "execution_count": 10,
   "metadata": {
    "collapsed": false
   },
   "outputs": [
    {
     "data": {
      "text/plain": [
       "158160"
      ]
     },
     "execution_count": 10,
     "metadata": {},
     "output_type": "execute_result"
    }
   ],
   "source": [
    "len(tweets)"
   ]
  },
  {
   "cell_type": "code",
   "execution_count": 11,
   "metadata": {
    "collapsed": false
   },
   "outputs": [],
   "source": [
    "tweetdf = pd.DataFrame(tweets)"
   ]
  },
  {
   "cell_type": "code",
   "execution_count": 12,
   "metadata": {
    "collapsed": false,
    "scrolled": true
   },
   "outputs": [
    {
     "data": {
      "text/html": [
       "<div>\n",
       "<table border=\"1\" class=\"dataframe\">\n",
       "  <thead>\n",
       "    <tr style=\"text-align: right;\">\n",
       "      <th></th>\n",
       "      <th>contributors</th>\n",
       "      <th>coordinates</th>\n",
       "      <th>created_at</th>\n",
       "      <th>entities</th>\n",
       "      <th>extended_entities</th>\n",
       "      <th>favorite_count</th>\n",
       "      <th>favorited</th>\n",
       "      <th>geo</th>\n",
       "      <th>id</th>\n",
       "      <th>id_str</th>\n",
       "      <th>...</th>\n",
       "      <th>quoted_status</th>\n",
       "      <th>quoted_status_id</th>\n",
       "      <th>quoted_status_id_str</th>\n",
       "      <th>retweet_count</th>\n",
       "      <th>retweeted</th>\n",
       "      <th>retweeted_status</th>\n",
       "      <th>source</th>\n",
       "      <th>text</th>\n",
       "      <th>truncated</th>\n",
       "      <th>user</th>\n",
       "    </tr>\n",
       "  </thead>\n",
       "  <tbody>\n",
       "    <tr>\n",
       "      <th>158150</th>\n",
       "      <td>None</td>\n",
       "      <td>None</td>\n",
       "      <td>Mon Oct 31 11:01:46 +0000 2016</td>\n",
       "      <td>{'user_mentions': [{'screen_name': 'WesRichard...</td>\n",
       "      <td>NaN</td>\n",
       "      <td>0</td>\n",
       "      <td>False</td>\n",
       "      <td>None</td>\n",
       "      <td>793045291200937984</td>\n",
       "      <td>793045291200937984</td>\n",
       "      <td>...</td>\n",
       "      <td>NaN</td>\n",
       "      <td>NaN</td>\n",
       "      <td>NaN</td>\n",
       "      <td>4</td>\n",
       "      <td>False</td>\n",
       "      <td>{'geo': None, 'is_quote_status': False, 'trunc...</td>\n",
       "      <td>&lt;a href=\"http://twitter.com/download/android\" ...</td>\n",
       "      <td>RT @WesRichardsonNY: Trump's tax cuts are exac...</td>\n",
       "      <td>False</td>\n",
       "      <td>{'url': None, 'profile_sidebar_border_color': ...</td>\n",
       "    </tr>\n",
       "    <tr>\n",
       "      <th>158151</th>\n",
       "      <td>None</td>\n",
       "      <td>None</td>\n",
       "      <td>Mon Oct 31 11:01:42 +0000 2016</td>\n",
       "      <td>{'user_mentions': [{'screen_name': 'WeNeedTrum...</td>\n",
       "      <td>NaN</td>\n",
       "      <td>0</td>\n",
       "      <td>False</td>\n",
       "      <td>None</td>\n",
       "      <td>793045277234044929</td>\n",
       "      <td>793045277234044929</td>\n",
       "      <td>...</td>\n",
       "      <td>NaN</td>\n",
       "      <td>NaN</td>\n",
       "      <td>NaN</td>\n",
       "      <td>2881</td>\n",
       "      <td>False</td>\n",
       "      <td>{'geo': None, 'is_quote_status': False, 'trunc...</td>\n",
       "      <td>&lt;a href=\"http://twitter.com/download/android\" ...</td>\n",
       "      <td>RT @WeNeedTrump: Please RETWEET! This video co...</td>\n",
       "      <td>False</td>\n",
       "      <td>{'url': None, 'profile_sidebar_border_color': ...</td>\n",
       "    </tr>\n",
       "    <tr>\n",
       "      <th>158152</th>\n",
       "      <td>None</td>\n",
       "      <td>None</td>\n",
       "      <td>Mon Oct 31 11:01:37 +0000 2016</td>\n",
       "      <td>{'user_mentions': [{'screen_name': 'EricTrump'...</td>\n",
       "      <td>NaN</td>\n",
       "      <td>0</td>\n",
       "      <td>False</td>\n",
       "      <td>None</td>\n",
       "      <td>793045256698601472</td>\n",
       "      <td>793045256698601472</td>\n",
       "      <td>...</td>\n",
       "      <td>NaN</td>\n",
       "      <td>7.929089e+17</td>\n",
       "      <td>792908891843653633</td>\n",
       "      <td>1123</td>\n",
       "      <td>False</td>\n",
       "      <td>{'geo': None, 'is_quote_status': True, 'trunca...</td>\n",
       "      <td>&lt;a href=\"http://twitter.com\" rel=\"nofollow\"&gt;Tw...</td>\n",
       "      <td>RT @EricTrump: Always love being with you @Jud...</td>\n",
       "      <td>False</td>\n",
       "      <td>{'url': None, 'profile_sidebar_border_color': ...</td>\n",
       "    </tr>\n",
       "    <tr>\n",
       "      <th>158153</th>\n",
       "      <td>None</td>\n",
       "      <td>None</td>\n",
       "      <td>Mon Oct 31 11:01:36 +0000 2016</td>\n",
       "      <td>{'user_mentions': [{'screen_name': 'EricTrump'...</td>\n",
       "      <td>NaN</td>\n",
       "      <td>0</td>\n",
       "      <td>False</td>\n",
       "      <td>None</td>\n",
       "      <td>793045249153200128</td>\n",
       "      <td>793045249153200128</td>\n",
       "      <td>...</td>\n",
       "      <td>NaN</td>\n",
       "      <td>NaN</td>\n",
       "      <td>NaN</td>\n",
       "      <td>24730</td>\n",
       "      <td>False</td>\n",
       "      <td>{'geo': None, 'is_quote_status': False, 'trunc...</td>\n",
       "      <td>&lt;a href=\"http://twitter.com\" rel=\"nofollow\"&gt;Tw...</td>\n",
       "      <td>RT @EricTrump: On behalf of the entire family,...</td>\n",
       "      <td>False</td>\n",
       "      <td>{'url': None, 'profile_sidebar_border_color': ...</td>\n",
       "    </tr>\n",
       "    <tr>\n",
       "      <th>158154</th>\n",
       "      <td>None</td>\n",
       "      <td>None</td>\n",
       "      <td>Mon Oct 31 11:01:33 +0000 2016</td>\n",
       "      <td>{'user_mentions': [{'screen_name': 'DonaldJTru...</td>\n",
       "      <td>NaN</td>\n",
       "      <td>0</td>\n",
       "      <td>False</td>\n",
       "      <td>None</td>\n",
       "      <td>793045237585285122</td>\n",
       "      <td>793045237585285122</td>\n",
       "      <td>...</td>\n",
       "      <td>NaN</td>\n",
       "      <td>NaN</td>\n",
       "      <td>NaN</td>\n",
       "      <td>491</td>\n",
       "      <td>False</td>\n",
       "      <td>{'geo': None, 'is_quote_status': False, 'trunc...</td>\n",
       "      <td>&lt;a href=\"http://twitter.com/download/android\" ...</td>\n",
       "      <td>RT @DonaldJTrumpJr: Too funny to not share. Fr...</td>\n",
       "      <td>False</td>\n",
       "      <td>{'url': None, 'profile_sidebar_border_color': ...</td>\n",
       "    </tr>\n",
       "    <tr>\n",
       "      <th>158155</th>\n",
       "      <td>None</td>\n",
       "      <td>None</td>\n",
       "      <td>Mon Oct 31 11:01:27 +0000 2016</td>\n",
       "      <td>{'user_mentions': [{'screen_name': 'WeNeedTrum...</td>\n",
       "      <td>NaN</td>\n",
       "      <td>0</td>\n",
       "      <td>False</td>\n",
       "      <td>None</td>\n",
       "      <td>793045213505789952</td>\n",
       "      <td>793045213505789952</td>\n",
       "      <td>...</td>\n",
       "      <td>NaN</td>\n",
       "      <td>NaN</td>\n",
       "      <td>NaN</td>\n",
       "      <td>357</td>\n",
       "      <td>False</td>\n",
       "      <td>{'geo': None, 'is_quote_status': False, 'trunc...</td>\n",
       "      <td>&lt;a href=\"http://twitter.com\" rel=\"nofollow\"&gt;Tw...</td>\n",
       "      <td>RT @WeNeedTrump: Post game coverage of the Cub...</td>\n",
       "      <td>False</td>\n",
       "      <td>{'url': None, 'profile_sidebar_border_color': ...</td>\n",
       "    </tr>\n",
       "    <tr>\n",
       "      <th>158156</th>\n",
       "      <td>None</td>\n",
       "      <td>None</td>\n",
       "      <td>Mon Oct 31 11:01:26 +0000 2016</td>\n",
       "      <td>{'user_mentions': [{'screen_name': 'EricaMelon...</td>\n",
       "      <td>NaN</td>\n",
       "      <td>0</td>\n",
       "      <td>False</td>\n",
       "      <td>None</td>\n",
       "      <td>793045207369576448</td>\n",
       "      <td>793045207369576448</td>\n",
       "      <td>...</td>\n",
       "      <td>NaN</td>\n",
       "      <td>NaN</td>\n",
       "      <td>NaN</td>\n",
       "      <td>801</td>\n",
       "      <td>False</td>\n",
       "      <td>{'geo': None, 'is_quote_status': False, 'trunc...</td>\n",
       "      <td>&lt;a href=\"http://twitter.com/download/android\" ...</td>\n",
       "      <td>RT @EricaMelone: @donnabrazile Please golden, ...</td>\n",
       "      <td>False</td>\n",
       "      <td>{'url': None, 'profile_sidebar_border_color': ...</td>\n",
       "    </tr>\n",
       "    <tr>\n",
       "      <th>158157</th>\n",
       "      <td>None</td>\n",
       "      <td>None</td>\n",
       "      <td>Mon Oct 31 11:01:21 +0000 2016</td>\n",
       "      <td>{'user_mentions': [{'screen_name': 'TeresaEdel...</td>\n",
       "      <td>NaN</td>\n",
       "      <td>0</td>\n",
       "      <td>False</td>\n",
       "      <td>None</td>\n",
       "      <td>793045188700676096</td>\n",
       "      <td>793045188700676096</td>\n",
       "      <td>...</td>\n",
       "      <td>NaN</td>\n",
       "      <td>NaN</td>\n",
       "      <td>NaN</td>\n",
       "      <td>461</td>\n",
       "      <td>False</td>\n",
       "      <td>{'geo': None, 'is_quote_status': False, 'trunc...</td>\n",
       "      <td>&lt;a href=\"http://twitter.com/download/android\" ...</td>\n",
       "      <td>RT @TeresaEdelglass: \"I'm going to deliver the...</td>\n",
       "      <td>False</td>\n",
       "      <td>{'url': None, 'profile_sidebar_border_color': ...</td>\n",
       "    </tr>\n",
       "    <tr>\n",
       "      <th>158158</th>\n",
       "      <td>None</td>\n",
       "      <td>None</td>\n",
       "      <td>Mon Oct 31 11:01:14 +0000 2016</td>\n",
       "      <td>{'user_mentions': [{'screen_name': 'WeNeedTrum...</td>\n",
       "      <td>NaN</td>\n",
       "      <td>0</td>\n",
       "      <td>False</td>\n",
       "      <td>None</td>\n",
       "      <td>793045160544337920</td>\n",
       "      <td>793045160544337920</td>\n",
       "      <td>...</td>\n",
       "      <td>NaN</td>\n",
       "      <td>NaN</td>\n",
       "      <td>NaN</td>\n",
       "      <td>2881</td>\n",
       "      <td>False</td>\n",
       "      <td>{'geo': None, 'is_quote_status': False, 'trunc...</td>\n",
       "      <td>&lt;a href=\"http://twitter.com/download/iphone\" r...</td>\n",
       "      <td>RT @WeNeedTrump: Please RETWEET! This video co...</td>\n",
       "      <td>False</td>\n",
       "      <td>{'url': None, 'profile_sidebar_border_color': ...</td>\n",
       "    </tr>\n",
       "    <tr>\n",
       "      <th>158159</th>\n",
       "      <td>None</td>\n",
       "      <td>None</td>\n",
       "      <td>Mon Oct 31 11:01:03 +0000 2016</td>\n",
       "      <td>{'user_mentions': [], 'urls': [{'display_url':...</td>\n",
       "      <td>NaN</td>\n",
       "      <td>1</td>\n",
       "      <td>False</td>\n",
       "      <td>None</td>\n",
       "      <td>793045113542840321</td>\n",
       "      <td>793045113542840321</td>\n",
       "      <td>...</td>\n",
       "      <td>NaN</td>\n",
       "      <td>7.930445e+17</td>\n",
       "      <td>793044531029606400</td>\n",
       "      <td>1</td>\n",
       "      <td>False</td>\n",
       "      <td>NaN</td>\n",
       "      <td>&lt;a href=\"http://twitter.com\" rel=\"nofollow\"&gt;Tw...</td>\n",
       "      <td>Eric Holder's Endorsement Is the KISS OF DEATH...</td>\n",
       "      <td>True</td>\n",
       "      <td>{'url': 'http://t.co/nHoU83JQJk', 'profile_sid...</td>\n",
       "    </tr>\n",
       "  </tbody>\n",
       "</table>\n",
       "<p>10 rows × 30 columns</p>\n",
       "</div>"
      ],
      "text/plain": [
       "       contributors coordinates                      created_at  \\\n",
       "158150         None        None  Mon Oct 31 11:01:46 +0000 2016   \n",
       "158151         None        None  Mon Oct 31 11:01:42 +0000 2016   \n",
       "158152         None        None  Mon Oct 31 11:01:37 +0000 2016   \n",
       "158153         None        None  Mon Oct 31 11:01:36 +0000 2016   \n",
       "158154         None        None  Mon Oct 31 11:01:33 +0000 2016   \n",
       "158155         None        None  Mon Oct 31 11:01:27 +0000 2016   \n",
       "158156         None        None  Mon Oct 31 11:01:26 +0000 2016   \n",
       "158157         None        None  Mon Oct 31 11:01:21 +0000 2016   \n",
       "158158         None        None  Mon Oct 31 11:01:14 +0000 2016   \n",
       "158159         None        None  Mon Oct 31 11:01:03 +0000 2016   \n",
       "\n",
       "                                                 entities extended_entities  \\\n",
       "158150  {'user_mentions': [{'screen_name': 'WesRichard...               NaN   \n",
       "158151  {'user_mentions': [{'screen_name': 'WeNeedTrum...               NaN   \n",
       "158152  {'user_mentions': [{'screen_name': 'EricTrump'...               NaN   \n",
       "158153  {'user_mentions': [{'screen_name': 'EricTrump'...               NaN   \n",
       "158154  {'user_mentions': [{'screen_name': 'DonaldJTru...               NaN   \n",
       "158155  {'user_mentions': [{'screen_name': 'WeNeedTrum...               NaN   \n",
       "158156  {'user_mentions': [{'screen_name': 'EricaMelon...               NaN   \n",
       "158157  {'user_mentions': [{'screen_name': 'TeresaEdel...               NaN   \n",
       "158158  {'user_mentions': [{'screen_name': 'WeNeedTrum...               NaN   \n",
       "158159  {'user_mentions': [], 'urls': [{'display_url':...               NaN   \n",
       "\n",
       "        favorite_count favorited   geo                  id  \\\n",
       "158150               0     False  None  793045291200937984   \n",
       "158151               0     False  None  793045277234044929   \n",
       "158152               0     False  None  793045256698601472   \n",
       "158153               0     False  None  793045249153200128   \n",
       "158154               0     False  None  793045237585285122   \n",
       "158155               0     False  None  793045213505789952   \n",
       "158156               0     False  None  793045207369576448   \n",
       "158157               0     False  None  793045188700676096   \n",
       "158158               0     False  None  793045160544337920   \n",
       "158159               1     False  None  793045113542840321   \n",
       "\n",
       "                    id_str                        ...                          \\\n",
       "158150  793045291200937984                        ...                           \n",
       "158151  793045277234044929                        ...                           \n",
       "158152  793045256698601472                        ...                           \n",
       "158153  793045249153200128                        ...                           \n",
       "158154  793045237585285122                        ...                           \n",
       "158155  793045213505789952                        ...                           \n",
       "158156  793045207369576448                        ...                           \n",
       "158157  793045188700676096                        ...                           \n",
       "158158  793045160544337920                        ...                           \n",
       "158159  793045113542840321                        ...                           \n",
       "\n",
       "       quoted_status  quoted_status_id quoted_status_id_str  retweet_count  \\\n",
       "158150           NaN               NaN                  NaN              4   \n",
       "158151           NaN               NaN                  NaN           2881   \n",
       "158152           NaN      7.929089e+17   792908891843653633           1123   \n",
       "158153           NaN               NaN                  NaN          24730   \n",
       "158154           NaN               NaN                  NaN            491   \n",
       "158155           NaN               NaN                  NaN            357   \n",
       "158156           NaN               NaN                  NaN            801   \n",
       "158157           NaN               NaN                  NaN            461   \n",
       "158158           NaN               NaN                  NaN           2881   \n",
       "158159           NaN      7.930445e+17   793044531029606400              1   \n",
       "\n",
       "       retweeted                                   retweeted_status  \\\n",
       "158150     False  {'geo': None, 'is_quote_status': False, 'trunc...   \n",
       "158151     False  {'geo': None, 'is_quote_status': False, 'trunc...   \n",
       "158152     False  {'geo': None, 'is_quote_status': True, 'trunca...   \n",
       "158153     False  {'geo': None, 'is_quote_status': False, 'trunc...   \n",
       "158154     False  {'geo': None, 'is_quote_status': False, 'trunc...   \n",
       "158155     False  {'geo': None, 'is_quote_status': False, 'trunc...   \n",
       "158156     False  {'geo': None, 'is_quote_status': False, 'trunc...   \n",
       "158157     False  {'geo': None, 'is_quote_status': False, 'trunc...   \n",
       "158158     False  {'geo': None, 'is_quote_status': False, 'trunc...   \n",
       "158159     False                                                NaN   \n",
       "\n",
       "                                                   source  \\\n",
       "158150  <a href=\"http://twitter.com/download/android\" ...   \n",
       "158151  <a href=\"http://twitter.com/download/android\" ...   \n",
       "158152  <a href=\"http://twitter.com\" rel=\"nofollow\">Tw...   \n",
       "158153  <a href=\"http://twitter.com\" rel=\"nofollow\">Tw...   \n",
       "158154  <a href=\"http://twitter.com/download/android\" ...   \n",
       "158155  <a href=\"http://twitter.com\" rel=\"nofollow\">Tw...   \n",
       "158156  <a href=\"http://twitter.com/download/android\" ...   \n",
       "158157  <a href=\"http://twitter.com/download/android\" ...   \n",
       "158158  <a href=\"http://twitter.com/download/iphone\" r...   \n",
       "158159  <a href=\"http://twitter.com\" rel=\"nofollow\">Tw...   \n",
       "\n",
       "                                                     text truncated  \\\n",
       "158150  RT @WesRichardsonNY: Trump's tax cuts are exac...     False   \n",
       "158151  RT @WeNeedTrump: Please RETWEET! This video co...     False   \n",
       "158152  RT @EricTrump: Always love being with you @Jud...     False   \n",
       "158153  RT @EricTrump: On behalf of the entire family,...     False   \n",
       "158154  RT @DonaldJTrumpJr: Too funny to not share. Fr...     False   \n",
       "158155  RT @WeNeedTrump: Post game coverage of the Cub...     False   \n",
       "158156  RT @EricaMelone: @donnabrazile Please golden, ...     False   \n",
       "158157  RT @TeresaEdelglass: \"I'm going to deliver the...     False   \n",
       "158158  RT @WeNeedTrump: Please RETWEET! This video co...     False   \n",
       "158159  Eric Holder's Endorsement Is the KISS OF DEATH...      True   \n",
       "\n",
       "                                                     user  \n",
       "158150  {'url': None, 'profile_sidebar_border_color': ...  \n",
       "158151  {'url': None, 'profile_sidebar_border_color': ...  \n",
       "158152  {'url': None, 'profile_sidebar_border_color': ...  \n",
       "158153  {'url': None, 'profile_sidebar_border_color': ...  \n",
       "158154  {'url': None, 'profile_sidebar_border_color': ...  \n",
       "158155  {'url': None, 'profile_sidebar_border_color': ...  \n",
       "158156  {'url': None, 'profile_sidebar_border_color': ...  \n",
       "158157  {'url': None, 'profile_sidebar_border_color': ...  \n",
       "158158  {'url': None, 'profile_sidebar_border_color': ...  \n",
       "158159  {'url': 'http://t.co/nHoU83JQJk', 'profile_sid...  \n",
       "\n",
       "[10 rows x 30 columns]"
      ]
     },
     "execution_count": 12,
     "metadata": {},
     "output_type": "execute_result"
    }
   ],
   "source": [
    "tweetdf.tail(10)"
   ]
  },
  {
   "cell_type": "code",
   "execution_count": null,
   "metadata": {
    "collapsed": false,
    "scrolled": true
   },
   "outputs": [],
   "source": [
    "%cd '/Volumes/USB30FD/capstone/pickled_dfs'"
   ]
  },
  {
   "cell_type": "code",
   "execution_count": null,
   "metadata": {
    "collapsed": true
   },
   "outputs": [],
   "source": [
    "# Pickle the dataframe\n",
    "tweetdf.to_pickle('makeamericagreatagain.pkl')\n",
    "\n",
    "# Then you can load it back using:\n",
    "#tweetdf = pd.read_pickle('all_tweets.pkl')"
   ]
  },
  {
   "cell_type": "code",
   "execution_count": null,
   "metadata": {
    "collapsed": false
   },
   "outputs": [],
   "source": [
    "tweetdf.columns"
   ]
  },
  {
   "cell_type": "markdown",
   "metadata": {},
   "source": [
    "# When did they tweet?"
   ]
  },
  {
   "cell_type": "code",
   "execution_count": null,
   "metadata": {
    "collapsed": false
   },
   "outputs": [],
   "source": [
    "# Convert GMT to EST\n",
    "#import datetime\n",
    "from datetime import datetime\n",
    "from datetime import timedelta\n",
    "\n",
    "clean_timestamp = datetime.strptime(tweetdf['created_at'],\n",
    "                   '%a %b %d %H:%M:%S +0000 %Y')\n",
    "offset_hours = -5 #offset in hours for EST timezone\n",
    "\n",
    "#account for offset from UTC using timedelta                                \n",
    "local_timestamp = clean_timestamp + timedelta(hours=offset_hours)\n",
    "\n",
    "#convert to am/pm format for easy reading\n",
    "#final_timestamp =  datetime.strftime(local_timestamp, \n",
    "#                    '%Y-%m-%d %I:%M:%S %p')  \n"
   ]
  },
  {
   "cell_type": "code",
   "execution_count": 13,
   "metadata": {
    "collapsed": true
   },
   "outputs": [],
   "source": [
    "# The +0000 indicates GMT\n",
    "time = (t['created_at'] for t in tweets)"
   ]
  },
  {
   "cell_type": "code",
   "execution_count": 14,
   "metadata": {
    "collapsed": false
   },
   "outputs": [
    {
     "data": {
      "text/plain": [
       "'Mon Nov 14 23:59:45 +0000 2016'"
      ]
     },
     "execution_count": 14,
     "metadata": {},
     "output_type": "execute_result"
    }
   ],
   "source": [
    "next(time)"
   ]
  },
  {
   "cell_type": "code",
   "execution_count": null,
   "metadata": {
    "collapsed": true
   },
   "outputs": [],
   "source": [
    "for i, data in enumerate(time):\n",
    "    print (data)\n",
    "    if i > 100:\n",
    "        break"
   ]
  },
  {
   "cell_type": "code",
   "execution_count": null,
   "metadata": {
    "collapsed": false
   },
   "outputs": [],
   "source": [
    "# Posts that are retweets will have “RT” as the first two characters of the text entry. \n",
    "# As such, we can make a new column to identify these by running the following:\n",
    "\n",
    "RT = []\n",
    "for t in tweetdf.text:\n",
    "    RT.append(t.split()[0]=='RT')\n",
    "tweetdf['RT'] = RT"
   ]
  },
  {
   "cell_type": "code",
   "execution_count": 18,
   "metadata": {
    "collapsed": false,
    "scrolled": true
   },
   "outputs": [
    {
     "data": {
      "text/plain": [
       "0    Mon Nov 14 23:59:45 +0000 2016\n",
       "1    Mon Nov 14 23:59:44 +0000 2016\n",
       "2    Mon Nov 14 23:59:38 +0000 2016\n",
       "3    Mon Nov 14 23:59:38 +0000 2016\n",
       "4    Mon Nov 14 23:59:32 +0000 2016\n",
       "5    Mon Nov 14 23:59:25 +0000 2016\n",
       "6    Mon Nov 14 23:59:11 +0000 2016\n",
       "7    Mon Nov 14 23:59:07 +0000 2016\n",
       "8    Mon Nov 14 23:59:07 +0000 2016\n",
       "9    Mon Nov 14 23:59:03 +0000 2016\n",
       "Name: created_at, dtype: object"
      ]
     },
     "execution_count": 18,
     "metadata": {},
     "output_type": "execute_result"
    }
   ],
   "source": [
    "# This object stores the original times in a series\n",
    "\n",
    "origtimes = tweetdf['created_at']\n",
    "origtimes.head(10)\n",
    "\n",
    "#timedf['created_at'] = list(map(lambda tweet: tweet['created_at'], tweets))\n",
    "#timedf.head(10)"
   ]
  },
  {
   "cell_type": "code",
   "execution_count": 54,
   "metadata": {
    "collapsed": true
   },
   "outputs": [],
   "source": [
    "# convert the 'created_at' column data to datetimes:\n",
    "times = pd.to_datetime(tweetdf['created_at'])"
   ]
  },
  {
   "cell_type": "code",
   "execution_count": 56,
   "metadata": {
    "collapsed": false,
    "scrolled": true
   },
   "outputs": [
    {
     "data": {
      "text/plain": [
       "0   2016-11-14 23:59:45\n",
       "1   2016-11-14 23:59:44\n",
       "2   2016-11-14 23:59:38\n",
       "3   2016-11-14 23:59:38\n",
       "4   2016-11-14 23:59:32\n",
       "5   2016-11-14 23:59:25\n",
       "6   2016-11-14 23:59:11\n",
       "7   2016-11-14 23:59:07\n",
       "8   2016-11-14 23:59:07\n",
       "9   2016-11-14 23:59:03\n",
       "Name: created_at, dtype: datetime64[ns]"
      ]
     },
     "execution_count": 56,
     "metadata": {},
     "output_type": "execute_result"
    }
   ],
   "source": [
    "times.head(10)"
   ]
  },
  {
   "cell_type": "code",
   "execution_count": 69,
   "metadata": {
    "collapsed": false
   },
   "outputs": [],
   "source": [
    "import pytz\n",
    "#utc = (t['created_at'] for t in tweets)\n",
    "#utc = (pd.Timestamp().tz_localize('UTC')) for t in timedf\n",
    "#utc = pd.Timestamp(timedf, tz='UTC')\n",
    "\n",
    "#corresponding_utc = midnight_mst.tz_convert('UTC')  # returns a new Timestamp\n",
    "for t in times:\n",
    "    pd.Timestamp(t).tz_localize('UTC')"
   ]
  },
  {
   "cell_type": "code",
   "execution_count": null,
   "metadata": {
    "collapsed": true
   },
   "outputs": [],
   "source": [
    "for t in timedf:\n",
    "    corresponding_utc = midnight_mst.tz_convert('UTC')"
   ]
  },
  {
   "cell_type": "code",
   "execution_count": 70,
   "metadata": {
    "collapsed": false
   },
   "outputs": [
    {
     "ename": "AttributeError",
     "evalue": "'str' object has no attribute 'tz_convert'",
     "output_type": "error",
     "traceback": [
      "\u001b[0;31m---------------------------------------------------------------------------\u001b[0m",
      "\u001b[0;31mAttributeError\u001b[0m                            Traceback (most recent call last)",
      "\u001b[0;32m<ipython-input-70-c032ad1c0b80>\u001b[0m in \u001b[0;36m<module>\u001b[0;34m()\u001b[0m\n\u001b[1;32m      1\u001b[0m \u001b[0;32mfor\u001b[0m \u001b[0mt\u001b[0m \u001b[0;32min\u001b[0m \u001b[0mtimedf\u001b[0m\u001b[0;34m:\u001b[0m\u001b[0;34m\u001b[0m\u001b[0m\n\u001b[0;32m----> 2\u001b[0;31m     \u001b[0mt\u001b[0m\u001b[0;34m.\u001b[0m\u001b[0mtz_convert\u001b[0m\u001b[0;34m(\u001b[0m\u001b[0;34m'US/Eastern'\u001b[0m\u001b[0;34m)\u001b[0m\u001b[0;34m\u001b[0m\u001b[0m\n\u001b[0m",
      "\u001b[0;31mAttributeError\u001b[0m: 'str' object has no attribute 'tz_convert'"
     ]
    }
   ],
   "source": [
    "for t in timedf:\n",
    "    t.tz_convert('US/Eastern')"
   ]
  },
  {
   "cell_type": "code",
   "execution_count": 67,
   "metadata": {
    "collapsed": false
   },
   "outputs": [
    {
     "ename": "AttributeError",
     "evalue": "'str' object has no attribute 'tz_convert'",
     "output_type": "error",
     "traceback": [
      "\u001b[0;31m---------------------------------------------------------------------------\u001b[0m",
      "\u001b[0;31mAttributeError\u001b[0m                            Traceback (most recent call last)",
      "\u001b[0;32m<ipython-input-67-84d8c8b0d8da>\u001b[0m in \u001b[0;36m<module>\u001b[0;34m()\u001b[0m\n\u001b[1;32m      3\u001b[0m \u001b[0mconverted\u001b[0m \u001b[0;34m=\u001b[0m \u001b[0;34m[\u001b[0m\u001b[0;34m]\u001b[0m\u001b[0;34m\u001b[0m\u001b[0m\n\u001b[1;32m      4\u001b[0m \u001b[0;32mfor\u001b[0m \u001b[0mt\u001b[0m \u001b[0;32min\u001b[0m \u001b[0mtimedf\u001b[0m\u001b[0;34m:\u001b[0m\u001b[0;34m\u001b[0m\u001b[0m\n\u001b[0;32m----> 5\u001b[0;31m     \u001b[0mconverted\u001b[0m\u001b[0;34m.\u001b[0m\u001b[0mappend\u001b[0m\u001b[0;34m(\u001b[0m\u001b[0mt\u001b[0m\u001b[0;34m.\u001b[0m\u001b[0mtz_convert\u001b[0m\u001b[0;34m(\u001b[0m\u001b[0;34m'US/Eastern'\u001b[0m\u001b[0;34m)\u001b[0m\u001b[0;34m)\u001b[0m\u001b[0;34m\u001b[0m\u001b[0m\n\u001b[0m\u001b[1;32m      6\u001b[0m \u001b[0mtimedf\u001b[0m\u001b[0;34m[\u001b[0m\u001b[0;34m'converted'\u001b[0m\u001b[0;34m]\u001b[0m \u001b[0;34m=\u001b[0m \u001b[0mconverted\u001b[0m\u001b[0;34m\u001b[0m\u001b[0m\n\u001b[1;32m      7\u001b[0m \u001b[0mtimedf\u001b[0m\u001b[0;34m.\u001b[0m\u001b[0mhead\u001b[0m\u001b[0;34m(\u001b[0m\u001b[0;36m10\u001b[0m\u001b[0;34m)\u001b[0m\u001b[0;34m\u001b[0m\u001b[0m\n",
      "\u001b[0;31mAttributeError\u001b[0m: 'str' object has no attribute 'tz_convert'"
     ]
    }
   ],
   "source": [
    "timedf = pd.DataFrame()\n",
    "timedf['original'] = times\n",
    "converted = []\n",
    "for t in timedf:\n",
    "    converted.append(t.tz_convert('US/Eastern'))\n",
    "timedf['converted'] = converted\n",
    "timedf.head(10)"
   ]
  },
  {
   "cell_type": "code",
   "execution_count": 64,
   "metadata": {
    "collapsed": false
   },
   "outputs": [
    {
     "data": {
      "text/html": [
       "<div>\n",
       "<table border=\"1\" class=\"dataframe\">\n",
       "  <thead>\n",
       "    <tr style=\"text-align: right;\">\n",
       "      <th></th>\n",
       "      <th>original</th>\n",
       "    </tr>\n",
       "  </thead>\n",
       "  <tbody>\n",
       "    <tr>\n",
       "      <th>0</th>\n",
       "      <td>2016-11-14 23:59:45</td>\n",
       "    </tr>\n",
       "    <tr>\n",
       "      <th>1</th>\n",
       "      <td>2016-11-14 23:59:44</td>\n",
       "    </tr>\n",
       "    <tr>\n",
       "      <th>2</th>\n",
       "      <td>2016-11-14 23:59:38</td>\n",
       "    </tr>\n",
       "    <tr>\n",
       "      <th>3</th>\n",
       "      <td>2016-11-14 23:59:38</td>\n",
       "    </tr>\n",
       "    <tr>\n",
       "      <th>4</th>\n",
       "      <td>2016-11-14 23:59:32</td>\n",
       "    </tr>\n",
       "  </tbody>\n",
       "</table>\n",
       "</div>"
      ],
      "text/plain": [
       "             original\n",
       "0 2016-11-14 23:59:45\n",
       "1 2016-11-14 23:59:44\n",
       "2 2016-11-14 23:59:38\n",
       "3 2016-11-14 23:59:38\n",
       "4 2016-11-14 23:59:32"
      ]
     },
     "execution_count": 64,
     "metadata": {},
     "output_type": "execute_result"
    }
   ],
   "source": [
    "timedf.head()"
   ]
  },
  {
   "cell_type": "code",
   "execution_count": null,
   "metadata": {
    "collapsed": true
   },
   "outputs": [],
   "source": []
  },
  {
   "cell_type": "code",
   "execution_count": 29,
   "metadata": {
    "collapsed": false,
    "scrolled": true
   },
   "outputs": [
    {
     "name": "stderr",
     "output_type": "stream",
     "text": [
      "/Users/evelyn/anaconda/lib/python3.5/site-packages/ipykernel/__main__.py:11: FutureWarning: how in .resample() is deprecated\n",
      "the new syntax is .resample(...).sum()\n",
      "/Users/evelyn/anaconda/lib/python3.5/site-packages/ipykernel/__main__.py:12: FutureWarning: how in .resample() is deprecated\n",
      "the new syntax is .resample(...).sum()\n",
      "/Users/evelyn/anaconda/lib/python3.5/site-packages/ipykernel/__main__.py:13: FutureWarning: how in .resample() is deprecated\n",
      "the new syntax is .resample(...).sum()\n"
     ]
    }
   ],
   "source": [
    "# a list of \"1\" to count the hashtags\n",
    "ones = [1]*len(timedf)\n",
    "\n",
    "# the index of the series\n",
    "idx = pd.DatetimeIndex(timedf)\n",
    "\n",
    "# the actual series (at series of 1s for the moment)\n",
    "times = pd.Series(ones, index=idx)\n",
    " \n",
    "# Resampling / bucketing\n",
    "per_minute = times.resample('1Min', how='sum').fillna(0)\n",
    "per_hour = times.resample('60Min', how='sum').fillna(0)\n",
    "per_day = times.resample('1440Min', how='sum').fillna(0)\n",
    "\n",
    "# The last line is what allows us to track the frequencies over time. \n",
    "# The series is re-sampled with intervals of 1 minute. This means all the tweets \n",
    "# falling within a particular minute will be aggregated, more precisely they will \n",
    "# be summed up, given how='sum'. The time index will not keep track of the seconds anymore. \n",
    "# If there is no tweet in a particular minute, the fillna() function will fill the blanks with zeros."
   ]
  },
  {
   "cell_type": "code",
   "execution_count": 41,
   "metadata": {
    "collapsed": false
   },
   "outputs": [
    {
     "data": {
      "text/plain": [
       "created_at\n",
       "2016-10-31 11:01:00    11.0\n",
       "2016-10-31 11:02:00    10.0\n",
       "2016-10-31 11:03:00     2.0\n",
       "2016-10-31 11:04:00    12.0\n",
       "2016-10-31 11:05:00     8.0\n",
       "2016-10-31 11:06:00    12.0\n",
       "2016-10-31 11:07:00    13.0\n",
       "2016-10-31 11:08:00     4.0\n",
       "2016-10-31 11:09:00     9.0\n",
       "2016-10-31 11:10:00    10.0\n",
       "Freq: T, dtype: float64"
      ]
     },
     "execution_count": 41,
     "metadata": {},
     "output_type": "execute_result"
    }
   ],
   "source": [
    "per_minute[:10]"
   ]
  },
  {
   "cell_type": "code",
   "execution_count": 73,
   "metadata": {
    "collapsed": false,
    "scrolled": true
   },
   "outputs": [
    {
     "data": {
      "text/plain": [
       "<matplotlib.axes._subplots.AxesSubplot at 0x243906e80>"
      ]
     },
     "execution_count": 73,
     "metadata": {},
     "output_type": "execute_result"
    },
    {
     "data": {
      "image/png": "[encoded data removed]",
      "text/plain": [
       "<matplotlib.figure.Figure at 0x243978438>"
      ]
     },
     "metadata": {},
     "output_type": "display_data"
    }
   ],
   "source": [
    "per_day.plot(kind='bar')"
   ]
  },
  {
   "cell_type": "code",
   "execution_count": null,
   "metadata": {
    "collapsed": true
   },
   "outputs": [],
   "source": [
    "#group_by_user = pd.DataFrame({'count' : user_df.groupby(['screen_name','name','description']).size()}).reset_index()\n",
    "#group_by_user = group_by_user.sort_values(by='count', ascending=False)\n",
    "#group_by_user.head(10)"
   ]
  },
  {
   "cell_type": "code",
   "execution_count": null,
   "metadata": {
    "collapsed": false
   },
   "outputs": [],
   "source": [
    "# We can easily and quickly search specific queries. \n",
    "# For example let’s see the original posts that were retweeted at least \n",
    "# 20 times but never were favorited.\n",
    "\n",
    "tweetdf[(tweetdf.favorite_count == 0) & (tweetdf.retweet_count >= 20) & (tweetdf.RT == False)]"
   ]
  },
  {
   "cell_type": "code",
   "execution_count": null,
   "metadata": {
    "collapsed": false
   },
   "outputs": [],
   "source": [
    "tweetdf.columns"
   ]
  },
  {
   "cell_type": "code",
   "execution_count": null,
   "metadata": {
    "collapsed": true
   },
   "outputs": [],
   "source": []
  },
  {
   "cell_type": "code",
   "execution_count": null,
   "metadata": {
    "collapsed": true
   },
   "outputs": [],
   "source": []
  },
  {
   "cell_type": "code",
   "execution_count": null,
   "metadata": {
    "collapsed": false
   },
   "outputs": [],
   "source": [
    "timedf = pd.DataFrame(tweetdf['created_at'].value_counts(), columns=['number_tweets'])\n",
    "timedf['date'] = timedf.index\n",
    "timedf.head()"
   ]
  },
  {
   "cell_type": "code",
   "execution_count": null,
   "metadata": {
    "collapsed": true
   },
   "outputs": [],
   "source": []
  },
  {
   "cell_type": "code",
   "execution_count": null,
   "metadata": {
    "collapsed": true
   },
   "outputs": [],
   "source": []
  },
  {
   "cell_type": "code",
   "execution_count": null,
   "metadata": {
    "collapsed": true
   },
   "outputs": [],
   "source": []
  },
  {
   "cell_type": "code",
   "execution_count": null,
   "metadata": {
    "collapsed": true
   },
   "outputs": [],
   "source": [
    "import numpy as np\n",
    "fig = plt.figure()\n",
    "ax = plt.subplot(111)\n",
    "x_pos = np.arange(len(tweet_growth['days'].values))\n",
    "ax.bar(x_pos, tweet_growth['number_tweets'].values, align='center')\n",
    "ax.set_xticks(x_pos)\n",
    "ax.set_title('#mozfest hashtag growth')\n",
    "ax.set_ylabel(\"number tweets\")\n",
    "ax.set_xticklabels(tweet_growth['days'].values)\n",
    "fig.savefig('mozfest_growth.png')"
   ]
  },
  {
   "cell_type": "code",
   "execution_count": null,
   "metadata": {
    "collapsed": true
   },
   "outputs": [],
   "source": [
    "# might use similar code to eventually plot multiple plots\n",
    "\n",
    "import numpy as np\n",
    "import pylab \n",
    "x = np.linspace(0, 20, 1000)\n",
    "y1 = np.sin(x)\n",
    "y2 = np.cos(x)\n",
    "\n",
    "pylab.plot(x, y1, '-b', label='sine')\n",
    "pylab.plot(x, y2, '-r', label='cosine')\n",
    "pylab.legend(loc='upper left')\n",
    "pylab.ylim(-1.5, 2.0)\n",
    "pylab.show()"
   ]
  },
  {
   "cell_type": "code",
   "execution_count": null,
   "metadata": {
    "collapsed": true
   },
   "outputs": [],
   "source": []
  },
  {
   "cell_type": "code",
   "execution_count": null,
   "metadata": {
    "collapsed": true
   },
   "outputs": [],
   "source": []
  }
 ],
 "metadata": {
  "anaconda-cloud": {},
  "kernelspec": {
   "display_name": "Python [Root]",
   "language": "python",
   "name": "Python [Root]"
  },
  "language_info": {
   "codemirror_mode": {
    "name": "ipython",
    "version": 3
   },
   "file_extension": ".py",
   "mimetype": "text/x-python",
   "name": "python",
   "nbconvert_exporter": "python",
   "pygments_lexer": "ipython3",
   "version": "3.5.2"
  }
 },
 "nbformat": 4,
 "nbformat_minor": 0
}
