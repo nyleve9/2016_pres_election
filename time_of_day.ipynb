{
 "cells": [
  {
   "cell_type": "code",
   "execution_count": 1,
   "metadata": {
    "collapsed": false
   },
   "outputs": [
    {
     "name": "stdout",
     "output_type": "stream",
     "text": [
      "Populating the interactive namespace from numpy and matplotlib\n"
     ]
    }
   ],
   "source": [
    "%pylab inline\n",
    "\n",
    "rcParams[\"figure.figsize\"] = (12, 9) #<--- large default figures\n",
    "\n",
    "# Plot text elements\n",
    "rcParams['axes.labelsize'] = 17\n",
    "rcParams['axes.titlesize'] = 17\n",
    "rcParams['xtick.labelsize'] = 15\n",
    "rcParams['ytick.labelsize'] = 15"
   ]
  },
  {
   "cell_type": "code",
   "execution_count": 2,
   "metadata": {
    "collapsed": false
   },
   "outputs": [
    {
     "name": "stdout",
     "output_type": "stream",
     "text": [
      "/Users/evelyn/Workspaces/springboard/capstone/electiontweets\n"
     ]
    }
   ],
   "source": [
    "%cd '/Users/evelyn/Workspaces/springboard/capstone/electiontweets'"
   ]
  },
  {
   "cell_type": "code",
   "execution_count": 3,
   "metadata": {
    "collapsed": false
   },
   "outputs": [
    {
     "data": {
      "text/plain": [
       "\"\\nimport json\\n\\ntweet_files = ['#donaldtrump_2016-11-10_to_2016-11-14.json',               \\n               '#election2016_2016-11-10_to_2016-11-14.json',          \\n               '#hillaryclinton_2016-11-10_to_2016-11-14.json',             \\n               '#imwithher_2016-11-10_to_2016-11-14.json',\\n               '#ivoted_2016-11-10_to_2016-11-14.json',                         \\n               '#maga_2016-11-10_to_2016-11-14.json',                          \\n               '#makeamericagreatagain_2016-11-10_to_2016-11-14.json',         \\n               '#makedonalddrumpfagain_2016-11-10_to_2016-11-14.json',\\n               '#neverhillary_2016-11-10_to_2016-11-14.json',\\n               '#nevertrump_2016-11-10_to_2016-11-14.json',      \\n               'hillary_2016-11-10_to_2016-11-14.json',\\n               'trump_2016-11-10_to_2016-11-14.json',\\n               'election_2016-11-10_to_2016-11-14.json',\\n               '#voted_2016-11-10_to_2016-11-14.json',\\n               'POTUS_2016-11-10_to_2016-11-14.json',\\n               '#donaldtrump_2016-11-09.json',               \\n               '#election2016_2016-11-09.json',          \\n               '#hillaryclinton_2016-11-09.json',             \\n               '#imwithher_2016-11-09.json',\\n               '#ivoted_2016-11-09.json',                         \\n               '#maga_2016-11-09.json',                          \\n               '#makeamericagreatagain_2016-11-09.json',       \\n               '#makedonalddrumpfagain_2016-11-09.json',\\n               '#neverhillary_2016-11-09.json',\\n               '#nevertrump_2016-11-09.json',      \\n               'hillary_2016-11-09.json',\\n               'trump_2016-11-09.json',\\n               'election_2016-11-09.json',\\n               '#voted_2016-11-09.json',\\n               'POTUS_2016-11-09.json',\\n               '#imwithher_2016-11-08.json', \\n               '#makeamericagreatagain_2016-11-08.json',\\n               'hillary_2016-11-08.json',\\n               'trump_2016-11-08.json',\\n               '#election2016_2016-11-08.json',\\n               'election_2016-11-08.json',\\n               '#ivoted_2016-11-08.json',\\n               '#voted_2016-11-08.json',\\n               'POTUS_2016-11-08_first.json',\\n               'POTUS_2016-11-08.json',\\n               '#donaldtrump_2016-11-08.json',\\n               '#hillaryclinton_2016-11-08.json',\\n               '#maga_2016-11-08.json',\\n               '#makedonalddrumpfagain_2016-11-08.json',\\n               '#neverhillary_2016-11-08.json',\\n               '#nevertrump_2016-11-08.json',\\n               '#imwithher_2016-11-07.json', \\n               '#makeamericagreatagain_2016-11-07.json',\\n               'hillary_2016-11-07.json',\\n               'trump_2016-11-07.json',\\n               '#election2016_2016-11-07.json',\\n               'election_2016-11-07.json',\\n               '#ivoted_2016-11-07.json',\\n               '#voted_2016-11-07.json',\\n               'POTUS_2016-11-07.json',\\n               '#donaldtrump_2016-11-06.json',\\n               '#election2016_2016-11-06.json',\\n               '#hillaryclinton_2016-11-06.json',\\n               '#imwithher_2016-11-06.json',\\n               '#ivoted_2016-11-06.json',\\n               '#maga_2016-11-06.json',\\n               '#makeamericagreatagain_2016-11-06.json',\\n               '#makedonalddrumpfagain_2016-11-06.json',\\n               '#neverhillary_2016-11-06.json',\\n               '#nevertrump_2016-11-06.json',\\n               '#imwithher_2016-11-05.json', \\n               '#makeamericagreatagain_2016-11-05.json',\\n               'hillary_2016-11-05.json',\\n               'trump_2016-11-05.json',\\n               '#election2016_2016-11-05.json',\\n               'election_2016-11-05.json',\\n               '#ivoted_2016-11-05.json',\\n               '#voted_2016-11-05.json',\\n               'POTUS_2016-11-05.json',\\n               '#donaldtrump_2016-11-04.json',\\n               '#election2016_2016-11-04.json',\\n               '#hillaryclinton_2016-11-04.json',\\n               '#imwithher_2016-11-04.json',\\n               '#ivoted_2016-11-04.json',\\n               '#maga_2016-11-04.json',\\n               '#makeamericagreatagain_2016-11-04.json',\\n               '#makedonalddrumpfagain_2016-11-04.json',\\n               '#neverhillary_2016-11-04.json',\\n               '#nevertrump_2016-11-04.json',\\n               '#imwithher_2016-11-01.json',\\n               '#makeamericagreatagain_2016-11-01.json',\\n               '#imwithher_2016-10-31.json',\\n               '#makeamericagreatagain_2016-10-31.json']\\n\\ntweets = []\\nfor file in tweet_files:\\n    with open(file, 'r') as f:\\n        for line in f:\\n            tweets.append(json.loads(line))\\n\""
      ]
     },
     "execution_count": 3,
     "metadata": {},
     "output_type": "execute_result"
    }
   ],
   "source": [
    "'''\n",
    "import json\n",
    "\n",
    "tweet_files = ['#donaldtrump_2016-11-10_to_2016-11-14.json',               \n",
    "               '#election2016_2016-11-10_to_2016-11-14.json',          \n",
    "               '#hillaryclinton_2016-11-10_to_2016-11-14.json',             \n",
    "               '#imwithher_2016-11-10_to_2016-11-14.json',\n",
    "               '#ivoted_2016-11-10_to_2016-11-14.json',                         \n",
    "               '#maga_2016-11-10_to_2016-11-14.json',                          \n",
    "               '#makeamericagreatagain_2016-11-10_to_2016-11-14.json',         \n",
    "               '#makedonalddrumpfagain_2016-11-10_to_2016-11-14.json',\n",
    "               '#neverhillary_2016-11-10_to_2016-11-14.json',\n",
    "               '#nevertrump_2016-11-10_to_2016-11-14.json',      \n",
    "               'hillary_2016-11-10_to_2016-11-14.json',\n",
    "               'trump_2016-11-10_to_2016-11-14.json',\n",
    "               'election_2016-11-10_to_2016-11-14.json',\n",
    "               '#voted_2016-11-10_to_2016-11-14.json',\n",
    "               'POTUS_2016-11-10_to_2016-11-14.json',\n",
    "               '#donaldtrump_2016-11-09.json',               \n",
    "               '#election2016_2016-11-09.json',          \n",
    "               '#hillaryclinton_2016-11-09.json',             \n",
    "               '#imwithher_2016-11-09.json',\n",
    "               '#ivoted_2016-11-09.json',                         \n",
    "               '#maga_2016-11-09.json',                          \n",
    "               '#makeamericagreatagain_2016-11-09.json',       \n",
    "               '#makedonalddrumpfagain_2016-11-09.json',\n",
    "               '#neverhillary_2016-11-09.json',\n",
    "               '#nevertrump_2016-11-09.json',      \n",
    "               'hillary_2016-11-09.json',\n",
    "               'trump_2016-11-09.json',\n",
    "               'election_2016-11-09.json',\n",
    "               '#voted_2016-11-09.json',\n",
    "               'POTUS_2016-11-09.json',\n",
    "               '#imwithher_2016-11-08.json', \n",
    "               '#makeamericagreatagain_2016-11-08.json',\n",
    "               'hillary_2016-11-08.json',\n",
    "               'trump_2016-11-08.json',\n",
    "               '#election2016_2016-11-08.json',\n",
    "               'election_2016-11-08.json',\n",
    "               '#ivoted_2016-11-08.json',\n",
    "               '#voted_2016-11-08.json',\n",
    "               'POTUS_2016-11-08_first.json',\n",
    "               'POTUS_2016-11-08.json',\n",
    "               '#donaldtrump_2016-11-08.json',\n",
    "               '#hillaryclinton_2016-11-08.json',\n",
    "               '#maga_2016-11-08.json',\n",
    "               '#makedonalddrumpfagain_2016-11-08.json',\n",
    "               '#neverhillary_2016-11-08.json',\n",
    "               '#nevertrump_2016-11-08.json',\n",
    "               '#imwithher_2016-11-07.json', \n",
    "               '#makeamericagreatagain_2016-11-07.json',\n",
    "               'hillary_2016-11-07.json',\n",
    "               'trump_2016-11-07.json',\n",
    "               '#election2016_2016-11-07.json',\n",
    "               'election_2016-11-07.json',\n",
    "               '#ivoted_2016-11-07.json',\n",
    "               '#voted_2016-11-07.json',\n",
    "               'POTUS_2016-11-07.json',\n",
    "               '#donaldtrump_2016-11-06.json',\n",
    "               '#election2016_2016-11-06.json',\n",
    "               '#hillaryclinton_2016-11-06.json',\n",
    "               '#imwithher_2016-11-06.json',\n",
    "               '#ivoted_2016-11-06.json',\n",
    "               '#maga_2016-11-06.json',\n",
    "               '#makeamericagreatagain_2016-11-06.json',\n",
    "               '#makedonalddrumpfagain_2016-11-06.json',\n",
    "               '#neverhillary_2016-11-06.json',\n",
    "               '#nevertrump_2016-11-06.json',\n",
    "               '#imwithher_2016-11-05.json', \n",
    "               '#makeamericagreatagain_2016-11-05.json',\n",
    "               'hillary_2016-11-05.json',\n",
    "               'trump_2016-11-05.json',\n",
    "               '#election2016_2016-11-05.json',\n",
    "               'election_2016-11-05.json',\n",
    "               '#ivoted_2016-11-05.json',\n",
    "               '#voted_2016-11-05.json',\n",
    "               'POTUS_2016-11-05.json',\n",
    "               '#donaldtrump_2016-11-04.json',\n",
    "               '#election2016_2016-11-04.json',\n",
    "               '#hillaryclinton_2016-11-04.json',\n",
    "               '#imwithher_2016-11-04.json',\n",
    "               '#ivoted_2016-11-04.json',\n",
    "               '#maga_2016-11-04.json',\n",
    "               '#makeamericagreatagain_2016-11-04.json',\n",
    "               '#makedonalddrumpfagain_2016-11-04.json',\n",
    "               '#neverhillary_2016-11-04.json',\n",
    "               '#nevertrump_2016-11-04.json',\n",
    "               '#imwithher_2016-11-01.json',\n",
    "               '#makeamericagreatagain_2016-11-01.json',\n",
    "               '#imwithher_2016-10-31.json',\n",
    "               '#makeamericagreatagain_2016-10-31.json']\n",
    "\n",
    "tweets = []\n",
    "for file in tweet_files:\n",
    "    with open(file, 'r') as f:\n",
    "        for line in f:\n",
    "            tweets.append(json.loads(line))\n",
    "'''"
   ]
  },
  {
   "cell_type": "markdown",
   "metadata": {},
   "source": [
    "# Make dataframe from json files"
   ]
  },
  {
   "cell_type": "code",
   "execution_count": 6,
   "metadata": {
    "collapsed": true
   },
   "outputs": [],
   "source": [
    "import pandas as pd\n",
    "import json\n",
    "import tweepy\n",
    "from tweepy import OAuthHandler\n",
    "import datetime as dt\n",
    "import time\n",
    "import os\n",
    "import sys"
   ]
  },
  {
   "cell_type": "code",
   "execution_count": 7,
   "metadata": {
    "collapsed": false
   },
   "outputs": [],
   "source": [
    "tweet_files = ['#makeamericagreatagain_2016-11-10_to_2016-11-14.json',\n",
    "               '#makeamericagreatagain_2016-11-09.json',\n",
    "               '#makeamericagreatagain_2016-11-08.json',\n",
    "               '#makeamericagreatagain_2016-11-07.json',\n",
    "               '#makeamericagreatagain_2016-11-06.json',\n",
    "               '#makeamericagreatagain_2016-11-05.json',\n",
    "               '#makeamericagreatagain_2016-11-04.json',\n",
    "               '#makeamericagreatagain_2016-11-01.json',\n",
    "               '#makeamericagreatagain_2016-10-31.json']\n",
    "\n",
    "tweets = []\n",
    "for file in tweet_files:\n",
    "    with open(file, 'r') as f:\n",
    "        for line in f:\n",
    "            tweets.append(json.loads(line))"
   ]
  },
  {
   "cell_type": "code",
   "execution_count": 8,
   "metadata": {
    "collapsed": false
   },
   "outputs": [
    {
     "data": {
      "text/plain": [
       "158160"
      ]
     },
     "execution_count": 8,
     "metadata": {},
     "output_type": "execute_result"
    }
   ],
   "source": [
    "len(tweets)"
   ]
  },
  {
   "cell_type": "code",
   "execution_count": 9,
   "metadata": {
    "collapsed": false
   },
   "outputs": [],
   "source": [
    "tweetdf = pd.DataFrame(tweets)"
   ]
  },
  {
   "cell_type": "code",
   "execution_count": 10,
   "metadata": {
    "collapsed": false,
    "scrolled": true
   },
   "outputs": [
    {
     "data": {
      "text/html": [
       "<div>\n",
       "<table border=\"1\" class=\"dataframe\">\n",
       "  <thead>\n",
       "    <tr style=\"text-align: right;\">\n",
       "      <th></th>\n",
       "      <th>contributors</th>\n",
       "      <th>coordinates</th>\n",
       "      <th>created_at</th>\n",
       "      <th>entities</th>\n",
       "      <th>extended_entities</th>\n",
       "      <th>favorite_count</th>\n",
       "      <th>favorited</th>\n",
       "      <th>geo</th>\n",
       "      <th>id</th>\n",
       "      <th>id_str</th>\n",
       "      <th>...</th>\n",
       "      <th>quoted_status</th>\n",
       "      <th>quoted_status_id</th>\n",
       "      <th>quoted_status_id_str</th>\n",
       "      <th>retweet_count</th>\n",
       "      <th>retweeted</th>\n",
       "      <th>retweeted_status</th>\n",
       "      <th>source</th>\n",
       "      <th>text</th>\n",
       "      <th>truncated</th>\n",
       "      <th>user</th>\n",
       "    </tr>\n",
       "  </thead>\n",
       "  <tbody>\n",
       "    <tr>\n",
       "      <th>158150</th>\n",
       "      <td>None</td>\n",
       "      <td>None</td>\n",
       "      <td>Mon Oct 31 11:01:46 +0000 2016</td>\n",
       "      <td>{'hashtags': [{'indices': [96, 118], 'text': '...</td>\n",
       "      <td>NaN</td>\n",
       "      <td>0</td>\n",
       "      <td>False</td>\n",
       "      <td>None</td>\n",
       "      <td>793045291200937984</td>\n",
       "      <td>793045291200937984</td>\n",
       "      <td>...</td>\n",
       "      <td>NaN</td>\n",
       "      <td>NaN</td>\n",
       "      <td>NaN</td>\n",
       "      <td>4</td>\n",
       "      <td>False</td>\n",
       "      <td>{'in_reply_to_status_id': None, 'favorited': F...</td>\n",
       "      <td>&lt;a href=\"http://twitter.com/download/android\" ...</td>\n",
       "      <td>RT @WesRichardsonNY: Trump's tax cuts are exac...</td>\n",
       "      <td>False</td>\n",
       "      <td>{'url': None, 'listed_count': 15, 'id': 796465...</td>\n",
       "    </tr>\n",
       "    <tr>\n",
       "      <th>158151</th>\n",
       "      <td>None</td>\n",
       "      <td>None</td>\n",
       "      <td>Mon Oct 31 11:01:42 +0000 2016</td>\n",
       "      <td>{'hashtags': [{'indices': [114, 136], 'text': ...</td>\n",
       "      <td>NaN</td>\n",
       "      <td>0</td>\n",
       "      <td>False</td>\n",
       "      <td>None</td>\n",
       "      <td>793045277234044929</td>\n",
       "      <td>793045277234044929</td>\n",
       "      <td>...</td>\n",
       "      <td>NaN</td>\n",
       "      <td>NaN</td>\n",
       "      <td>NaN</td>\n",
       "      <td>2881</td>\n",
       "      <td>False</td>\n",
       "      <td>{'in_reply_to_status_id': None, 'favorited': F...</td>\n",
       "      <td>&lt;a href=\"http://twitter.com/download/android\" ...</td>\n",
       "      <td>RT @WeNeedTrump: Please RETWEET! This video co...</td>\n",
       "      <td>False</td>\n",
       "      <td>{'url': None, 'listed_count': 6, 'id': 7587623...</td>\n",
       "    </tr>\n",
       "    <tr>\n",
       "      <th>158152</th>\n",
       "      <td>None</td>\n",
       "      <td>None</td>\n",
       "      <td>Mon Oct 31 11:01:37 +0000 2016</td>\n",
       "      <td>{'hashtags': [{'indices': [63, 85], 'text': 'M...</td>\n",
       "      <td>NaN</td>\n",
       "      <td>0</td>\n",
       "      <td>False</td>\n",
       "      <td>None</td>\n",
       "      <td>793045256698601472</td>\n",
       "      <td>793045256698601472</td>\n",
       "      <td>...</td>\n",
       "      <td>NaN</td>\n",
       "      <td>7.929089e+17</td>\n",
       "      <td>792908891843653633</td>\n",
       "      <td>1123</td>\n",
       "      <td>False</td>\n",
       "      <td>{'quoted_status_id_str': '792908891843653633',...</td>\n",
       "      <td>&lt;a href=\"http://twitter.com\" rel=\"nofollow\"&gt;Tw...</td>\n",
       "      <td>RT @EricTrump: Always love being with you @Jud...</td>\n",
       "      <td>False</td>\n",
       "      <td>{'url': None, 'listed_count': 7, 'id': 1344745...</td>\n",
       "    </tr>\n",
       "    <tr>\n",
       "      <th>158153</th>\n",
       "      <td>None</td>\n",
       "      <td>None</td>\n",
       "      <td>Mon Oct 31 11:01:36 +0000 2016</td>\n",
       "      <td>{'hashtags': [{'indices': [98, 120], 'text': '...</td>\n",
       "      <td>NaN</td>\n",
       "      <td>0</td>\n",
       "      <td>False</td>\n",
       "      <td>None</td>\n",
       "      <td>793045249153200128</td>\n",
       "      <td>793045249153200128</td>\n",
       "      <td>...</td>\n",
       "      <td>NaN</td>\n",
       "      <td>NaN</td>\n",
       "      <td>NaN</td>\n",
       "      <td>24730</td>\n",
       "      <td>False</td>\n",
       "      <td>{'in_reply_to_status_id': None, 'favorited': F...</td>\n",
       "      <td>&lt;a href=\"http://twitter.com\" rel=\"nofollow\"&gt;Tw...</td>\n",
       "      <td>RT @EricTrump: On behalf of the entire family,...</td>\n",
       "      <td>False</td>\n",
       "      <td>{'url': None, 'listed_count': 12, 'id': 353586...</td>\n",
       "    </tr>\n",
       "    <tr>\n",
       "      <th>158154</th>\n",
       "      <td>None</td>\n",
       "      <td>None</td>\n",
       "      <td>Mon Oct 31 11:01:33 +0000 2016</td>\n",
       "      <td>{'hashtags': [{'indices': [88, 93], 'text': 'm...</td>\n",
       "      <td>NaN</td>\n",
       "      <td>0</td>\n",
       "      <td>False</td>\n",
       "      <td>None</td>\n",
       "      <td>793045237585285122</td>\n",
       "      <td>793045237585285122</td>\n",
       "      <td>...</td>\n",
       "      <td>NaN</td>\n",
       "      <td>NaN</td>\n",
       "      <td>NaN</td>\n",
       "      <td>491</td>\n",
       "      <td>False</td>\n",
       "      <td>{'in_reply_to_status_id': None, 'favorited': F...</td>\n",
       "      <td>&lt;a href=\"http://twitter.com/download/android\" ...</td>\n",
       "      <td>RT @DonaldJTrumpJr: Too funny to not share. Fr...</td>\n",
       "      <td>False</td>\n",
       "      <td>{'url': None, 'listed_count': 62, 'id': 770394...</td>\n",
       "    </tr>\n",
       "    <tr>\n",
       "      <th>158155</th>\n",
       "      <td>None</td>\n",
       "      <td>None</td>\n",
       "      <td>Mon Oct 31 11:01:27 +0000 2016</td>\n",
       "      <td>{'hashtags': [{'indices': [100, 122], 'text': ...</td>\n",
       "      <td>NaN</td>\n",
       "      <td>0</td>\n",
       "      <td>False</td>\n",
       "      <td>None</td>\n",
       "      <td>793045213505789952</td>\n",
       "      <td>793045213505789952</td>\n",
       "      <td>...</td>\n",
       "      <td>NaN</td>\n",
       "      <td>NaN</td>\n",
       "      <td>NaN</td>\n",
       "      <td>357</td>\n",
       "      <td>False</td>\n",
       "      <td>{'in_reply_to_status_id': None, 'favorited': F...</td>\n",
       "      <td>&lt;a href=\"http://twitter.com\" rel=\"nofollow\"&gt;Tw...</td>\n",
       "      <td>RT @WeNeedTrump: Post game coverage of the Cub...</td>\n",
       "      <td>False</td>\n",
       "      <td>{'url': None, 'listed_count': 343, 'id': 13197...</td>\n",
       "    </tr>\n",
       "    <tr>\n",
       "      <th>158156</th>\n",
       "      <td>None</td>\n",
       "      <td>None</td>\n",
       "      <td>Mon Oct 31 11:01:26 +0000 2016</td>\n",
       "      <td>{'hashtags': [{'indices': [61, 75], 'text': 'D...</td>\n",
       "      <td>NaN</td>\n",
       "      <td>0</td>\n",
       "      <td>False</td>\n",
       "      <td>None</td>\n",
       "      <td>793045207369576448</td>\n",
       "      <td>793045207369576448</td>\n",
       "      <td>...</td>\n",
       "      <td>NaN</td>\n",
       "      <td>NaN</td>\n",
       "      <td>NaN</td>\n",
       "      <td>801</td>\n",
       "      <td>False</td>\n",
       "      <td>{'in_reply_to_status_id': 792872548832714752, ...</td>\n",
       "      <td>&lt;a href=\"http://twitter.com/download/android\" ...</td>\n",
       "      <td>RT @EricaMelone: @donnabrazile Please golden, ...</td>\n",
       "      <td>False</td>\n",
       "      <td>{'url': None, 'listed_count': 16, 'id': 703062...</td>\n",
       "    </tr>\n",
       "    <tr>\n",
       "      <th>158157</th>\n",
       "      <td>None</td>\n",
       "      <td>None</td>\n",
       "      <td>Mon Oct 31 11:01:21 +0000 2016</td>\n",
       "      <td>{'hashtags': [{'indices': [105, 127], 'text': ...</td>\n",
       "      <td>NaN</td>\n",
       "      <td>0</td>\n",
       "      <td>False</td>\n",
       "      <td>None</td>\n",
       "      <td>793045188700676096</td>\n",
       "      <td>793045188700676096</td>\n",
       "      <td>...</td>\n",
       "      <td>NaN</td>\n",
       "      <td>NaN</td>\n",
       "      <td>NaN</td>\n",
       "      <td>461</td>\n",
       "      <td>False</td>\n",
       "      <td>{'in_reply_to_status_id': None, 'favorited': F...</td>\n",
       "      <td>&lt;a href=\"http://twitter.com/download/android\" ...</td>\n",
       "      <td>RT @TeresaEdelglass: \"I'm going to deliver the...</td>\n",
       "      <td>False</td>\n",
       "      <td>{'url': None, 'listed_count': 143, 'id': 41667...</td>\n",
       "    </tr>\n",
       "    <tr>\n",
       "      <th>158158</th>\n",
       "      <td>None</td>\n",
       "      <td>None</td>\n",
       "      <td>Mon Oct 31 11:01:14 +0000 2016</td>\n",
       "      <td>{'hashtags': [{'indices': [114, 136], 'text': ...</td>\n",
       "      <td>NaN</td>\n",
       "      <td>0</td>\n",
       "      <td>False</td>\n",
       "      <td>None</td>\n",
       "      <td>793045160544337920</td>\n",
       "      <td>793045160544337920</td>\n",
       "      <td>...</td>\n",
       "      <td>NaN</td>\n",
       "      <td>NaN</td>\n",
       "      <td>NaN</td>\n",
       "      <td>2881</td>\n",
       "      <td>False</td>\n",
       "      <td>{'in_reply_to_status_id': None, 'favorited': F...</td>\n",
       "      <td>&lt;a href=\"http://twitter.com/download/iphone\" r...</td>\n",
       "      <td>RT @WeNeedTrump: Please RETWEET! This video co...</td>\n",
       "      <td>False</td>\n",
       "      <td>{'url': None, 'listed_count': 4, 'id': 6091450...</td>\n",
       "    </tr>\n",
       "    <tr>\n",
       "      <th>158159</th>\n",
       "      <td>None</td>\n",
       "      <td>None</td>\n",
       "      <td>Mon Oct 31 11:01:03 +0000 2016</td>\n",
       "      <td>{'hashtags': [{'indices': [49, 55], 'text': 'T...</td>\n",
       "      <td>NaN</td>\n",
       "      <td>1</td>\n",
       "      <td>False</td>\n",
       "      <td>None</td>\n",
       "      <td>793045113542840321</td>\n",
       "      <td>793045113542840321</td>\n",
       "      <td>...</td>\n",
       "      <td>NaN</td>\n",
       "      <td>7.930445e+17</td>\n",
       "      <td>793044531029606400</td>\n",
       "      <td>1</td>\n",
       "      <td>False</td>\n",
       "      <td>NaN</td>\n",
       "      <td>&lt;a href=\"http://twitter.com\" rel=\"nofollow\"&gt;Tw...</td>\n",
       "      <td>Eric Holder's Endorsement Is the KISS OF DEATH...</td>\n",
       "      <td>True</td>\n",
       "      <td>{'url': 'http://t.co/nHoU83JQJk', 'listed_coun...</td>\n",
       "    </tr>\n",
       "  </tbody>\n",
       "</table>\n",
       "<p>10 rows × 30 columns</p>\n",
       "</div>"
      ],
      "text/plain": [
       "       contributors coordinates                      created_at  \\\n",
       "158150         None        None  Mon Oct 31 11:01:46 +0000 2016   \n",
       "158151         None        None  Mon Oct 31 11:01:42 +0000 2016   \n",
       "158152         None        None  Mon Oct 31 11:01:37 +0000 2016   \n",
       "158153         None        None  Mon Oct 31 11:01:36 +0000 2016   \n",
       "158154         None        None  Mon Oct 31 11:01:33 +0000 2016   \n",
       "158155         None        None  Mon Oct 31 11:01:27 +0000 2016   \n",
       "158156         None        None  Mon Oct 31 11:01:26 +0000 2016   \n",
       "158157         None        None  Mon Oct 31 11:01:21 +0000 2016   \n",
       "158158         None        None  Mon Oct 31 11:01:14 +0000 2016   \n",
       "158159         None        None  Mon Oct 31 11:01:03 +0000 2016   \n",
       "\n",
       "                                                 entities extended_entities  \\\n",
       "158150  {'hashtags': [{'indices': [96, 118], 'text': '...               NaN   \n",
       "158151  {'hashtags': [{'indices': [114, 136], 'text': ...               NaN   \n",
       "158152  {'hashtags': [{'indices': [63, 85], 'text': 'M...               NaN   \n",
       "158153  {'hashtags': [{'indices': [98, 120], 'text': '...               NaN   \n",
       "158154  {'hashtags': [{'indices': [88, 93], 'text': 'm...               NaN   \n",
       "158155  {'hashtags': [{'indices': [100, 122], 'text': ...               NaN   \n",
       "158156  {'hashtags': [{'indices': [61, 75], 'text': 'D...               NaN   \n",
       "158157  {'hashtags': [{'indices': [105, 127], 'text': ...               NaN   \n",
       "158158  {'hashtags': [{'indices': [114, 136], 'text': ...               NaN   \n",
       "158159  {'hashtags': [{'indices': [49, 55], 'text': 'T...               NaN   \n",
       "\n",
       "        favorite_count favorited   geo                  id  \\\n",
       "158150               0     False  None  793045291200937984   \n",
       "158151               0     False  None  793045277234044929   \n",
       "158152               0     False  None  793045256698601472   \n",
       "158153               0     False  None  793045249153200128   \n",
       "158154               0     False  None  793045237585285122   \n",
       "158155               0     False  None  793045213505789952   \n",
       "158156               0     False  None  793045207369576448   \n",
       "158157               0     False  None  793045188700676096   \n",
       "158158               0     False  None  793045160544337920   \n",
       "158159               1     False  None  793045113542840321   \n",
       "\n",
       "                    id_str                        ...                          \\\n",
       "158150  793045291200937984                        ...                           \n",
       "158151  793045277234044929                        ...                           \n",
       "158152  793045256698601472                        ...                           \n",
       "158153  793045249153200128                        ...                           \n",
       "158154  793045237585285122                        ...                           \n",
       "158155  793045213505789952                        ...                           \n",
       "158156  793045207369576448                        ...                           \n",
       "158157  793045188700676096                        ...                           \n",
       "158158  793045160544337920                        ...                           \n",
       "158159  793045113542840321                        ...                           \n",
       "\n",
       "       quoted_status  quoted_status_id quoted_status_id_str  retweet_count  \\\n",
       "158150           NaN               NaN                  NaN              4   \n",
       "158151           NaN               NaN                  NaN           2881   \n",
       "158152           NaN      7.929089e+17   792908891843653633           1123   \n",
       "158153           NaN               NaN                  NaN          24730   \n",
       "158154           NaN               NaN                  NaN            491   \n",
       "158155           NaN               NaN                  NaN            357   \n",
       "158156           NaN               NaN                  NaN            801   \n",
       "158157           NaN               NaN                  NaN            461   \n",
       "158158           NaN               NaN                  NaN           2881   \n",
       "158159           NaN      7.930445e+17   793044531029606400              1   \n",
       "\n",
       "       retweeted                                   retweeted_status  \\\n",
       "158150     False  {'in_reply_to_status_id': None, 'favorited': F...   \n",
       "158151     False  {'in_reply_to_status_id': None, 'favorited': F...   \n",
       "158152     False  {'quoted_status_id_str': '792908891843653633',...   \n",
       "158153     False  {'in_reply_to_status_id': None, 'favorited': F...   \n",
       "158154     False  {'in_reply_to_status_id': None, 'favorited': F...   \n",
       "158155     False  {'in_reply_to_status_id': None, 'favorited': F...   \n",
       "158156     False  {'in_reply_to_status_id': 792872548832714752, ...   \n",
       "158157     False  {'in_reply_to_status_id': None, 'favorited': F...   \n",
       "158158     False  {'in_reply_to_status_id': None, 'favorited': F...   \n",
       "158159     False                                                NaN   \n",
       "\n",
       "                                                   source  \\\n",
       "158150  <a href=\"http://twitter.com/download/android\" ...   \n",
       "158151  <a href=\"http://twitter.com/download/android\" ...   \n",
       "158152  <a href=\"http://twitter.com\" rel=\"nofollow\">Tw...   \n",
       "158153  <a href=\"http://twitter.com\" rel=\"nofollow\">Tw...   \n",
       "158154  <a href=\"http://twitter.com/download/android\" ...   \n",
       "158155  <a href=\"http://twitter.com\" rel=\"nofollow\">Tw...   \n",
       "158156  <a href=\"http://twitter.com/download/android\" ...   \n",
       "158157  <a href=\"http://twitter.com/download/android\" ...   \n",
       "158158  <a href=\"http://twitter.com/download/iphone\" r...   \n",
       "158159  <a href=\"http://twitter.com\" rel=\"nofollow\">Tw...   \n",
       "\n",
       "                                                     text truncated  \\\n",
       "158150  RT @WesRichardsonNY: Trump's tax cuts are exac...     False   \n",
       "158151  RT @WeNeedTrump: Please RETWEET! This video co...     False   \n",
       "158152  RT @EricTrump: Always love being with you @Jud...     False   \n",
       "158153  RT @EricTrump: On behalf of the entire family,...     False   \n",
       "158154  RT @DonaldJTrumpJr: Too funny to not share. Fr...     False   \n",
       "158155  RT @WeNeedTrump: Post game coverage of the Cub...     False   \n",
       "158156  RT @EricaMelone: @donnabrazile Please golden, ...     False   \n",
       "158157  RT @TeresaEdelglass: \"I'm going to deliver the...     False   \n",
       "158158  RT @WeNeedTrump: Please RETWEET! This video co...     False   \n",
       "158159  Eric Holder's Endorsement Is the KISS OF DEATH...      True   \n",
       "\n",
       "                                                     user  \n",
       "158150  {'url': None, 'listed_count': 15, 'id': 796465...  \n",
       "158151  {'url': None, 'listed_count': 6, 'id': 7587623...  \n",
       "158152  {'url': None, 'listed_count': 7, 'id': 1344745...  \n",
       "158153  {'url': None, 'listed_count': 12, 'id': 353586...  \n",
       "158154  {'url': None, 'listed_count': 62, 'id': 770394...  \n",
       "158155  {'url': None, 'listed_count': 343, 'id': 13197...  \n",
       "158156  {'url': None, 'listed_count': 16, 'id': 703062...  \n",
       "158157  {'url': None, 'listed_count': 143, 'id': 41667...  \n",
       "158158  {'url': None, 'listed_count': 4, 'id': 6091450...  \n",
       "158159  {'url': 'http://t.co/nHoU83JQJk', 'listed_coun...  \n",
       "\n",
       "[10 rows x 30 columns]"
      ]
     },
     "execution_count": 10,
     "metadata": {},
     "output_type": "execute_result"
    }
   ],
   "source": [
    "tweetdf.tail(10)"
   ]
  },
  {
   "cell_type": "code",
   "execution_count": null,
   "metadata": {
    "collapsed": false,
    "scrolled": true
   },
   "outputs": [],
   "source": [
    "%cd '/Volumes/USB30FD/capstone/pickled_dfs'"
   ]
  },
  {
   "cell_type": "code",
   "execution_count": null,
   "metadata": {
    "collapsed": true
   },
   "outputs": [],
   "source": [
    "# Pickle the dataframe\n",
    "tweetdf.to_pickle('makeamericagreatagain.pkl')\n",
    "\n",
    "# Then you can load it back using:\n",
    "#tweetdf = pd.read_pickle('all_tweets.pkl')"
   ]
  },
  {
   "cell_type": "code",
   "execution_count": 11,
   "metadata": {
    "collapsed": false
   },
   "outputs": [
    {
     "data": {
      "text/plain": [
       "Index(['contributors', 'coordinates', 'created_at', 'entities',\n",
       "       'extended_entities', 'favorite_count', 'favorited', 'geo', 'id',\n",
       "       'id_str', 'in_reply_to_screen_name', 'in_reply_to_status_id',\n",
       "       'in_reply_to_status_id_str', 'in_reply_to_user_id',\n",
       "       'in_reply_to_user_id_str', 'is_quote_status', 'lang', 'metadata',\n",
       "       'place', 'possibly_sensitive', 'quoted_status', 'quoted_status_id',\n",
       "       'quoted_status_id_str', 'retweet_count', 'retweeted',\n",
       "       'retweeted_status', 'source', 'text', 'truncated', 'user'],\n",
       "      dtype='object')"
      ]
     },
     "execution_count": 11,
     "metadata": {},
     "output_type": "execute_result"
    }
   ],
   "source": [
    "tweetdf.columns"
   ]
  },
  {
   "cell_type": "markdown",
   "metadata": {},
   "source": [
    "# How many unique users tweeted?"
   ]
  },
  {
   "cell_type": "code",
   "execution_count": 30,
   "metadata": {
    "collapsed": false,
    "scrolled": true
   },
   "outputs": [],
   "source": [
    "tweetdf['screen_name'] = list(map(lambda tweet: tweet['user']['screen_name'], tweets))\n",
    "tweetdf['description'] = list(map(lambda tweet: tweet['user']['description'], tweets))"
   ]
  },
  {
   "cell_type": "code",
   "execution_count": 102,
   "metadata": {
    "collapsed": false
   },
   "outputs": [
    {
     "name": "stdout",
     "output_type": "stream",
     "text": [
      "77690 unique users are responsible for the 158160 tweets.\n",
      "(approximately 49.12 %)\n"
     ]
    }
   ],
   "source": [
    "uniques = len(pd.unique(tweetdf.screen_name.ravel()))\n",
    "print(uniques, \"unique users are responsible for the\", len(tweetdf), \"tweets.\")\n",
    "print('(approximately','%.2f' % (100*uniques/len(tweetdf)),'%)')"
   ]
  },
  {
   "cell_type": "code",
   "execution_count": 41,
   "metadata": {
    "collapsed": false
   },
   "outputs": [
    {
     "data": {
      "text/plain": [
       "{'contributors_enabled': False,\n",
       " 'created_at': 'Wed Jan 27 14:16:43 +0000 2016',\n",
       " 'default_profile': True,\n",
       " 'default_profile_image': False,\n",
       " 'description': '',\n",
       " 'entities': {'description': {'urls': []}},\n",
       " 'favourites_count': 16079,\n",
       " 'follow_request_sent': False,\n",
       " 'followers_count': 459,\n",
       " 'following': False,\n",
       " 'friends_count': 94,\n",
       " 'geo_enabled': True,\n",
       " 'has_extended_profile': False,\n",
       " 'id': 4853583291,\n",
       " 'id_str': '4853583291',\n",
       " 'is_translation_enabled': False,\n",
       " 'is_translator': False,\n",
       " 'lang': 'en',\n",
       " 'listed_count': 143,\n",
       " 'location': '',\n",
       " 'name': 'Suzanne Rivkin',\n",
       " 'notifications': False,\n",
       " 'profile_background_color': 'F5F8FA',\n",
       " 'profile_background_image_url': None,\n",
       " 'profile_background_image_url_https': None,\n",
       " 'profile_background_tile': False,\n",
       " 'profile_image_url': 'http://pbs.twimg.com/profile_images/774347307051614208/oZNIM1GC_normal.jpg',\n",
       " 'profile_image_url_https': 'https://pbs.twimg.com/profile_images/774347307051614208/oZNIM1GC_normal.jpg',\n",
       " 'profile_link_color': '1DA1F2',\n",
       " 'profile_sidebar_border_color': 'C0DEED',\n",
       " 'profile_sidebar_fill_color': 'DDEEF6',\n",
       " 'profile_text_color': '333333',\n",
       " 'profile_use_background_image': True,\n",
       " 'protected': False,\n",
       " 'screen_name': 'rivkin_suzanne',\n",
       " 'statuses_count': 42980,\n",
       " 'time_zone': None,\n",
       " 'translator_type': 'none',\n",
       " 'url': None,\n",
       " 'utc_offset': None,\n",
       " 'verified': False}"
      ]
     },
     "execution_count": 41,
     "metadata": {},
     "output_type": "execute_result"
    }
   ],
   "source": [
    "tweetdf.user[0]"
   ]
  },
  {
   "cell_type": "markdown",
   "metadata": {},
   "source": [
    "# When did they tweet?"
   ]
  },
  {
   "cell_type": "code",
   "execution_count": null,
   "metadata": {
    "collapsed": false
   },
   "outputs": [],
   "source": [
    "# Convert GMT to EST\n",
    "#import datetime\n",
    "from datetime import datetime\n",
    "from datetime import timedelta\n",
    "\n",
    "clean_timestamp = datetime.strptime(tweetdf['created_at'],\n",
    "                   '%a %b %d %H:%M:%S +0000 %Y')\n",
    "offset_hours = -5 #offset in hours for EST timezone\n",
    "\n",
    "#account for offset from UTC using timedelta                                \n",
    "local_timestamp = clean_timestamp + timedelta(hours=offset_hours)\n",
    "\n",
    "#convert to am/pm format for easy reading\n",
    "#final_timestamp =  datetime.strftime(local_timestamp, \n",
    "#                    '%Y-%m-%d %I:%M:%S %p')  \n"
   ]
  },
  {
   "cell_type": "code",
   "execution_count": null,
   "metadata": {
    "collapsed": true
   },
   "outputs": [],
   "source": [
    "# The +0000 indicates GMT\n",
    "time = (t['created_at'] for t in tweets)"
   ]
  },
  {
   "cell_type": "code",
   "execution_count": null,
   "metadata": {
    "collapsed": false
   },
   "outputs": [],
   "source": [
    "next(time)"
   ]
  },
  {
   "cell_type": "code",
   "execution_count": null,
   "metadata": {
    "collapsed": true
   },
   "outputs": [],
   "source": [
    "for i, data in enumerate(time):\n",
    "    print (data)\n",
    "    if i > 100:\n",
    "        break"
   ]
  },
  {
   "cell_type": "code",
   "execution_count": null,
   "metadata": {
    "collapsed": false
   },
   "outputs": [],
   "source": [
    "tweetdf['converted'] = tweetdf.created_at.tz_convert('US/Eastern')"
   ]
  },
  {
   "cell_type": "code",
   "execution_count": null,
   "metadata": {
    "collapsed": false
   },
   "outputs": [],
   "source": []
  },
  {
   "cell_type": "code",
   "execution_count": null,
   "metadata": {
    "collapsed": false
   },
   "outputs": [],
   "source": []
  },
  {
   "cell_type": "code",
   "execution_count": null,
   "metadata": {
    "collapsed": true
   },
   "outputs": [],
   "source": []
  }
 ],
 "metadata": {
  "anaconda-cloud": {},
  "kernelspec": {
   "display_name": "Python [Root]",
   "language": "python",
   "name": "Python [Root]"
  },
  "language_info": {
   "codemirror_mode": {
    "name": "ipython",
    "version": 3
   },
   "file_extension": ".py",
   "mimetype": "text/x-python",
   "name": "python",
   "nbconvert_exporter": "python",
   "pygments_lexer": "ipython3",
   "version": "3.5.2"
  }
 },
 "nbformat": 4,
 "nbformat_minor": 0
}
